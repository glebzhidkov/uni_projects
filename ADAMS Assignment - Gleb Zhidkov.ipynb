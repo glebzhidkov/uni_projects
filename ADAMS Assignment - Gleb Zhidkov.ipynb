{
 "cells": [
  {
   "attachments": {},
   "cell_type": "markdown",
   "metadata": {
    "colab_type": "text",
    "id": "3lT_bmfzvLNC"
   },
   "source": [
    "# ADAMS SS2020 Assignment — Gleb Zhidkov\n",
    "\n",
    "This notebook examines a dataset consisting of articles scraped from [Medium.com](http://medium.com/), an online publishing platform for social journalism, with articles and blogs published by both amateuers and professionals from various indistries, including (but going far beyond) Data Science and Machine Learning practitioners.\n",
    "\n",
    "Data is briefly introduced, after which it is extensively cleaned and prepared for the later modeling, which aims at predicting the number of claps (likes) an article received as of scraping date.\n",
    "\n",
    "Last updated on 31. August 2020\n",
    "\n",
    "---\n",
    "\n",
    "**Sneak peak at the final model:**\n",
    "\n",
    "![ensemble1](https://drive.google.com/uc?export=view&id=1iLTXpDx8AOXDywTcfGJ0jP_IY4gamZQL)\n",
    "\n",
    "_(Should diagrams fail to load, please access them in a [Google Drive folder](https://drive.google.com/drive/folders/1nrFeXpshV6pGgZVjlKGdELrzV44iIpn3). Credit is given to a Stack Overflow user for [providing a method](https://stackoverflow.com/a/62337161/12451060) to insert images available both in Jupyter and in Colab.)_"
   ]
  },
  {
   "cell_type": "markdown",
   "metadata": {
    "colab_type": "text",
    "id": "YDqRCDtt12mm"
   },
   "source": [
    "---\n",
    "\n",
    "## Technical introduction\n",
    "\n",
    "Given a noticeably big size of the examined dataset as well as high computational and memory requirements at both the data preparation and modeling steps, it appears important to pay a bigger attention to a) efficiency of the code b) adequacy of the working environment for the current task. \n",
    "\n",
    "Whereas [Google Colaboratory](https://colab.research.google.com/) (Colab) provides free access to GPU/TPU, it imposes relatively strict restrictions on RAM usage. \n",
    "\n",
    "For data preparation and text tokenization, there was no significant difference in computational time between my local environment (MacBook Air with only 8 GB RAM) and Colab. \n",
    "Nonetheless, parts of the code had to be re-written several times to limit memory usage. In particular, storing vector representations of tokenized documents turned out to be a bigger challenge than anticipated. An array storing 66141 articles in the (cleaned) train dataset, limited to 100 words each represented on 300 dimensions consumes 4 GB when numbers are stored in the half-precision floating-point format _(float16)_. Using _float32_ would require 8 GB and _float64_ 16 GB of memory, causing severe difficulties when training the model (as this array would have been to be stored in RAM while training).\n",
    "\n",
    "Colab has proven itself to be of no good use for training CNNs as it was quickly running out of RAM (12 GB available) and crashing. At the same time, the Macbook with less available RAM was able to make use of the swap memory, therefore never running into out-of-memory errors. Applying transformer models, on contrary, is not realistic without a GPU, and Colab had to be used for this part of the notebook.\n",
    "\n",
    "In the following cells, the working environment is set up, and several custom helper classes and functions are loaded from .py-files. Some further helper functions are defined in this notebook to enhance ease of readability. All custom classes and functions come with documentation strings where appropriate; references are provided for code re-used from other sources."
   ]
  },
  {
   "cell_type": "code",
   "execution_count": 1,
   "metadata": {
    "colab": {
     "base_uri": "https://localhost:8080/",
     "height": 71
    },
    "colab_type": "code",
    "executionInfo": {
     "elapsed": 919,
     "status": "ok",
     "timestamp": 1598277352187,
     "user": {
      "displayName": "Gleb Zhidkov",
      "photoUrl": "https://lh3.googleusercontent.com/a-/AOh14GhxfJzUwgmsmanA2jq59QhUF0o850l2N9yvgdM-8g=s64",
      "userId": "07389285725153387427"
     },
     "user_tz": -120
    },
    "id": "PJRyN4wsvLNI",
    "outputId": "5218673c-ddc8-4c54-ed30-155419372d96"
   },
   "outputs": [
    {
     "name": "stdout",
     "output_type": "stream",
     "text": [
      "Running locally.\n"
     ]
    }
   ],
   "source": [
    "## colab or local?\n",
    "## NOTE: adjust directories DIR and DATA_DIR to your local if required\n",
    "\n",
    "import sys\n",
    "import os\n",
    "\n",
    "IN_COLAB = 'google.colab' in sys.modules\n",
    "\n",
    "if IN_COLAB:\n",
    "    from google.colab import drive\n",
    "    drive.mount('/content/drive')\n",
    "    DIR = '/content/drive/My Drive/uni master 2/ADAMS/work/'\n",
    "    DATA_DIR = DIR + 'data/'\n",
    "    sys.path.append(os.path.abspath(DIR)) # to access custom modules\n",
    "    print('Running in Colab. Downloading spacy dictionary') # WHERE IS CODE FOR DICT?\n",
    "else:\n",
    "    DIR = ''\n",
    "    DATA_DIR = DIR + 'data/'\n",
    "    print('Running locally.')"
   ]
  },
  {
   "cell_type": "code",
   "execution_count": 2,
   "metadata": {
    "colab": {},
    "colab_type": "code",
    "executionInfo": {
     "elapsed": 2928,
     "status": "ok",
     "timestamp": 1598277355836,
     "user": {
      "displayName": "Gleb Zhidkov",
      "photoUrl": "https://lh3.googleusercontent.com/a-/AOh14GhxfJzUwgmsmanA2jq59QhUF0o850l2N9yvgdM-8g=s64",
      "userId": "07389285725153387427"
     },
     "user_tz": -120
    },
    "id": "vLXKLaJXvLND",
    "scrolled": true
   },
   "outputs": [],
   "source": [
    "from textstat import flesch_kincaid_grade\n",
    "from matplotlib import pyplot as plt\n",
    "import pandas as pd\n",
    "import numpy as np\n",
    "import pickle\n",
    "import spacy\n",
    "\n",
    "pd.set_option('display.float_format', lambda x: '%.0f' % x)\n",
    "\n",
    "from helper import ReplaceOutliers, clean_text, boxplot, sort_dict, nonnegative\n",
    "from tokenizer2 import Tokenizer2, words_to_docs\n",
    "from models2 import Models\n",
    "\n",
    "# install statistical language model for spacy\n",
    "# !{sys.executable} -m spacy download en_core_web_lg"
   ]
  },
  {
   "cell_type": "markdown",
   "metadata": {
    "colab_type": "text",
    "id": "5nEuaJqx12nF"
   },
   "source": [
    "---\n",
    "# DATA PREPARATION"
   ]
  },
  {
   "cell_type": "markdown",
   "metadata": {
    "colab_type": "text",
    "id": "d9ARnoTNvLNS"
   },
   "source": [
    "## First look onto data\n",
    "\n",
    "The two provided datasets (`Train.csv` which will later be split into the actual train and test data, and `Test.csv` which is used solely for the final assignment predictions) greatly differ in their structure. \n",
    "They come with different challenges: the train dataset has a tidy structure but a great number of duplicates and a choice of non-English articles; the test dataset has mixed up feature values and requires some careful handling of string features.\n",
    "\n",
    "All important considerations and insights about the data structure are presented in the following. Parts of the code required to verify these insights are commented out. The original (and a rather messy) code for the first examination of data structure is not presented in this notebook due to its low relevancy for the assignment task."
   ]
  },
  {
   "cell_type": "code",
   "execution_count": null,
   "metadata": {
    "colab": {},
    "colab_type": "code",
    "id": "0Jswd2aRgb61"
   },
   "outputs": [],
   "source": [
    "train_raw = pd.read_csv(DATA_DIR + 'Train.csv')\n",
    "test_raw = pd.read_csv(DATA_DIR + 'Test.csv')\n",
    "\n",
    "test_raw.drop(['Unnamed: 0', 'index'], axis=1, inplace=True)"
   ]
  },
  {
   "cell_type": "code",
   "execution_count": null,
   "metadata": {
    "colab": {},
    "colab_type": "code",
    "id": "ncSbmC57vLNV",
    "outputId": "98414d47-5d12-496b-dbfe-1764fd8976a8"
   },
   "outputs": [
    {
     "name": "stdout",
     "output_type": "stream",
     "text": [
      "Train dataset: 279577 rows and 50 columns; \n",
      "Test dataset:  514 rows and 6 columns. \n",
      "\n",
      "In the train dataset, articles are written in 52 languages, with 7.84 % of articles not in English.\n",
      "\n",
      "Articles were repeatedly scraped for up to 6 times.\n",
      "In total, there are only 72337 unique articles in the train dataset.\n"
     ]
    }
   ],
   "source": [
    "print(f'Train dataset: {train_raw.shape[0]} rows and {train_raw.shape[1]} columns; \\n'\n",
    "      f'Test dataset:  {test_raw.shape[0]} rows and {test_raw.shape[1]} columns. \\n\\n'\n",
    "      \n",
    "      f\"In the train dataset, articles are written in {len(train_raw['language'].unique())} languages, \"\n",
    "      f\"with {round(100*sum(train_raw['language'] != 'en') / train_raw.shape[0], 2)} \"\n",
    "      \"% of articles not in English.\\n\"\n",
    ")\n",
    "\n",
    "print(f\"Articles were repeatedly scraped for up to {train_raw['url'].value_counts().max()} times.\\n\"\n",
    "      f\"In total, there are only {len(train_raw['url'].unique())} unique articles in the train dataset.\"\n",
    ")"
   ]
  },
  {
   "cell_type": "code",
   "execution_count": null,
   "metadata": {
    "colab": {},
    "colab_type": "code",
    "id": "sLgzMDd2vLNY",
    "scrolled": false
   },
   "outputs": [],
   "source": [
    "### UNCOMMENT to see examplary rows in train dataset. It clearly has an issue with duplicates!\n",
    "#train_raw[97:99].T\n",
    "\n",
    "### UNCOMMENT to verify that 'postCount' refers to the nr. of posts with a certain 'name'\n",
    "#train_raw.loc[train_raw['name'] == 'Alphazero']#['postCount']\n",
    "\n",
    "### UNCOMMENT to see how different the test dataset is. It clearly has an issue with variables' contents!\n",
    "#test_raw.tail(10)\n",
    "\n",
    "#train_raw['audioVersionDurationSec'].describe()"
   ]
  },
  {
   "cell_type": "markdown",
   "metadata": {
    "colab_type": "text",
    "id": "bbQcW2-FvLNb"
   },
   "source": [
    "Several issues to deal with when cleaning data are summarized in the following:\n",
    "\n",
    "* Most likely, the dataset was collected by scraping Medium.com tag by tag (feature 'name'). As an article can have more than one tag, many appear several times. Duplicates will be removed based on URL of articles in train data.\n",
    "\n",
    "\n",
    "* Both train and test data have articles in other __languages__ than English (ca. 8 % in train, only few articles — manually reviewed — in test). Due to a low number of such articles, they will be removed from train dataset (to reduce noise). The few non-English articles in test will be also considered as noise / outliers / something we don't want to address in a special manner, given that there is not enough matching train data.\n",
    "\n",
    "\n",
    "* Train data has many __features__ that are __not present__ in test data and can't be extracted from other features. While some of them are potentially meaningful for modeling (e.g. *usersFollowedByCount*), to make things simpler, they will be discarded.\n",
    "\n",
    "\n",
    "* Some other features in test data can be (relatively) easily extracted from other existing features: __author__ and __medium__ (category on Medium.com, e.g. 'Towards Data Science' – the most popular medium in train data) from _PublicationDetails,_ __numbers of images and links and length__ from articles' texts.\n",
    "\n",
    "\n",
    "* Texts need to be cleaned: they contain html tags, invisible unicode signs, as well as some information already present in other features, such as titles, author names, etc.\n",
    "\n",
    "\n",
    "* Train dataset was scraped on 4th November 2018, we can therefore calculate the __number of days since__ each article was __published__. All articles in test data were published before 4th November 2018, so that the same scraping date can be assumed.\n",
    "\n",
    "\n",
    "* One potentially interesting feature that is easy to obtaine is text readability. One common readability metric is [Flesch–Kincaid grade level](https://en.wikipedia.org/wiki/Flesch%E2%80%93Kincaid_readability_tests#Flesch%E2%80%93Kincaid_grade_level), which corresponds to U.S. school grade (years) required to comprehend the text.\n",
    "\n",
    "\n",
    "## Quickly cleaning up data\n",
    "\n",
    "![visualization](https://media.giphy.com/media/G0Kh7Km23llbW/giphy.gif)\n",
    "\n",
    "(Figure: visualization of the data cleaning process. Source: [giphy.com](giphy.com))"
   ]
  },
  {
   "cell_type": "code",
   "execution_count": null,
   "metadata": {
    "colab": {},
    "colab_type": "code",
    "id": "Evdx4AJ-vLNc",
    "outputId": "ff81dc95-a6ea-461b-93f8-563aab795adc",
    "scrolled": true
   },
   "outputs": [
    {
     "name": "stdout",
     "output_type": "stream",
     "text": [
      "We now have 66380 articles (23.74 % of the original amount) and 9 features in the train dataset.\n"
     ]
    }
   ],
   "source": [
    "# remove non-English articles and duplicates:\n",
    "train = train_raw.copy()[train_raw['language'] == 'en']\n",
    "train.drop_duplicates(subset='url', keep='first', inplace=True)\n",
    "\n",
    "\n",
    "# put target variable apart:\n",
    "train_target = train['totalClapCount']\n",
    "\n",
    "\n",
    "# select and rename columns to match what we will have later in test data:\n",
    "train = train[['createdDate',\n",
    "               'author', \n",
    "               'publicationname',\n",
    "               'responsesCreatedCount',\n",
    "               'imageCount', \n",
    "               'linksCount',\n",
    "               'title',\n",
    "               'text']]\n",
    "\n",
    "train.rename(columns={'createdDate': 'SincePublished',\n",
    "                      'author': 'Author', \n",
    "                      'publicationname': 'Medium',\n",
    "                      'responsesCreatedCount': 'Responses',\n",
    "                      'imageCount': 'Images', \n",
    "                      'linksCount': 'Links',\n",
    "                      'title': 'Title',\n",
    "                      'text': 'Text'}, inplace=True)\n",
    "\n",
    "\n",
    "# calculate days since article was published:\n",
    "train['SincePublished'] = (pd.to_datetime('2018-11-04', format='%Y-%m-%d') - \n",
    "                           pd.to_datetime(train['SincePublished'], format='%Y-%m-%d')\n",
    "                           ).astype('timedelta64[D]').astype(int)\n",
    "\n",
    "\n",
    "# clean titles and text:\n",
    "train['Title'] = [clean_text(x) for x in train['Title'].fillna('')]\n",
    "train['Text'] = [clean_text(x) for x in train['Text']]\n",
    "\n",
    "\n",
    "# remove titles from the text: (some errors due to parantheses in patterns for re.sub)\n",
    "temp = []\n",
    "errors = 0\n",
    "\n",
    "for i, x in enumerate(zip(train['Title'], train['Text'])):\n",
    "    try:\n",
    "        temp.append(re.sub(pattern=x[0], repl='', string=x[1]))\n",
    "    except:\n",
    "        temp.append(x[1])\n",
    "        errors += 1\n",
    "\n",
    "train['Text'] = temp\n",
    "\n",
    "\n",
    "# calc length in characters: (although later replaced by length in words)\n",
    "train['Length'] = [len(x) for x in train['Text']]\n",
    "\n",
    "\n",
    "print(f'We now have {train.shape[0]} articles '\n",
    "      f'({round(100*train.shape[0] / train_raw.shape[0], 2)} % of the original amount) '\n",
    "      f'and {train.shape[1]} features in the train dataset.'\n",
    "      #f'\\n{errors} errors occured when removing titles from texts.'\n",
    ")"
   ]
  },
  {
   "cell_type": "code",
   "execution_count": null,
   "metadata": {
    "colab": {},
    "colab_type": "code",
    "id": "9YqSRjitvLNf",
    "outputId": "cc206e87-450d-4883-9e99-e6b8edba7d15"
   },
   "outputs": [
    {
     "name": "stdout",
     "output_type": "stream",
     "text": [
      "True\n"
     ]
    }
   ],
   "source": [
    "test = pd.DataFrame()\n",
    "\n",
    "\n",
    "## 'Author' has wrong values (dates)\n",
    "## 'PublicationDetails': is encoded as 'Author in MediumDate' or 'MediumDate'\n",
    "\n",
    "# split 'PublicationDetails' by capital letters, take last part as date, add missing years (=2018):\n",
    "temp = [re.split('(?=[A-Z])', x) for x in test_raw['PublicationDetails']]\n",
    "temp_date = [x[-1] for x in temp]\n",
    "temp_date2 = [d + ', 2018' if len(d) < 10 else d for d in temp_date]\n",
    "\n",
    "# calculate difference in days between date when scraped and when published:\n",
    "test['SincePublished'] = (pd.to_datetime('2018-11-04', format='%Y-%m-%d') - \n",
    "                           pd.to_datetime(temp_date2, format='%b %d, %Y', errors='coerce')\n",
    "                           ).astype('timedelta64[D]').astype(int)\n",
    "\n",
    "# glue everything but date back together and then split by 'in':\n",
    "authorInMedium = pd.DataFrame([''.join(x[:-1]) for x in temp])\n",
    "temp = authorInMedium[0].str.split(' in ', expand=True, n=1)\n",
    "\n",
    "test['Author'] = temp[0]\n",
    "test['Medium'] = temp[1]\n",
    "\n",
    "\n",
    "# extract numeric values from 'Responses' and remove missing values:\n",
    "test['Responses'] = test_raw['Responses'].str.extract('(\\d+)').fillna(0).astype(int)\n",
    "\n",
    "\n",
    "# from 'Text', extract number of images and links:\n",
    "test['Images'] = test_raw['Text'].str.count('<img')\n",
    "test['Links'] = test_raw['Text'].str.count('http') - test['Images']\n",
    "\n",
    "\n",
    "# clean text and header:\n",
    "test['Title'] = [clean_text(x) for x in test_raw['Header'].fillna(\"\")]\n",
    "test['Text'] = [clean_text(x) for x in test_raw['Text']]\n",
    "\n",
    "\n",
    "# from text, remove duplications of author, title, and other header stuff:\n",
    "test['Text'] = [re.sub(pattern=remove, repl='', string=text) for \n",
    "                remove, text in zip(test['Title'], test['Text'])]\n",
    "\n",
    "test['Text'] = [re.sub(pattern=remove, repl='', string=text) for \n",
    "                remove, text in zip(temp_date, test['Text'])]\n",
    "\n",
    "test['Text'] = [re.sub(pattern=remove, repl='', string=text) for \n",
    "                remove, text in zip(authorInMedium[0], test['Text'])]\n",
    "\n",
    "# some stuff remains ('2 min read', 'follow', etc.) but it will mostly be removed when tokenizing\n",
    "\n",
    "\n",
    "# calc length in characters: (although later replaced by length in words)\n",
    "test['Length'] = [len(x) for x in test['Text']]\n",
    "\n",
    "\n",
    "print(all(test.columns == train.columns))"
   ]
  },
  {
   "cell_type": "code",
   "execution_count": 10,
   "metadata": {},
   "outputs": [],
   "source": [
    "# feature engineering: text readability\n",
    "\n",
    "train['Readability'] = [flesch_kincaid_grade(x) for x in train['Text']]\n",
    "test['Readability'] = [flesch_kincaid_grade(x) for x in test['Text']]"
   ]
  },
  {
   "cell_type": "markdown",
   "metadata": {
    "colab_type": "text",
    "id": "OrQNRaQhvLNk"
   },
   "source": [
    "## Second look at data\n",
    "\n",
    "Now that train and test datasets have the same structure, we can finally proceed with the more interesting stuff.\n",
    "In each dataset, we have 9 features, of which 6 are numeric (nice!), 2 categorical, and 2 textual. \n",
    "\n",
    "As of now, textual features have only been partially prepared (html tags, unicode signs, line breaks, and parentheses were removed; apostrophs were standardized; information residing in wrong features was moved to the right ones). We will come back to text (pre-)processing at a later point."
   ]
  },
  {
   "cell_type": "code",
   "execution_count": 12,
   "metadata": {
    "colab": {},
    "colab_type": "code",
    "id": "pBJ8Zlxr12ns",
    "outputId": "721759c2-226f-44f2-c231-c8f6f77b2600"
   },
   "outputs": [
    {
     "data": {
      "text/html": [
       "<div>\n",
       "<style scoped>\n",
       "    .dataframe tbody tr th:only-of-type {\n",
       "        vertical-align: middle;\n",
       "    }\n",
       "\n",
       "    .dataframe tbody tr th {\n",
       "        vertical-align: top;\n",
       "    }\n",
       "\n",
       "    .dataframe thead th {\n",
       "        text-align: right;\n",
       "    }\n",
       "</style>\n",
       "<table border=\"1\" class=\"dataframe\">\n",
       "  <thead>\n",
       "    <tr style=\"text-align: right;\">\n",
       "      <th></th>\n",
       "      <th>SincePublished</th>\n",
       "      <th>Author</th>\n",
       "      <th>Medium</th>\n",
       "      <th>Responses</th>\n",
       "      <th>Images</th>\n",
       "      <th>Links</th>\n",
       "      <th>Title</th>\n",
       "      <th>Text</th>\n",
       "      <th>Length</th>\n",
       "      <th>Readability</th>\n",
       "      <th>Claps</th>\n",
       "    </tr>\n",
       "  </thead>\n",
       "  <tbody>\n",
       "    <tr>\n",
       "      <th>0</th>\n",
       "      <td>47</td>\n",
       "      <td>Anar Babaev</td>\n",
       "      <td>ICOBox</td>\n",
       "      <td>0</td>\n",
       "      <td>1</td>\n",
       "      <td>1</td>\n",
       "      <td>Private Business, Government and Blockchain</td>\n",
       "      <td>A major private IT company implements blockc...</td>\n",
       "      <td>1201</td>\n",
       "      <td>12</td>\n",
       "      <td>100</td>\n",
       "    </tr>\n",
       "    <tr>\n",
       "      <th>3</th>\n",
       "      <td>301</td>\n",
       "      <td>George Sykes</td>\n",
       "      <td>NaN</td>\n",
       "      <td>0</td>\n",
       "      <td>13</td>\n",
       "      <td>24</td>\n",
       "      <td>EPQ draft 1 4844 words</td>\n",
       "      <td>https://upload.wikimedia.org/wikipedia/common...</td>\n",
       "      <td>29855</td>\n",
       "      <td>10</td>\n",
       "      <td>0</td>\n",
       "    </tr>\n",
       "    <tr>\n",
       "      <th>7</th>\n",
       "      <td>241</td>\n",
       "      <td>tech data</td>\n",
       "      <td>NaN</td>\n",
       "      <td>0</td>\n",
       "      <td>1</td>\n",
       "      <td>3</td>\n",
       "      <td>Ascent of data Science, SAS and Big data Analy...</td>\n",
       "      <td>Various associations in the present days are...</td>\n",
       "      <td>3386</td>\n",
       "      <td>16</td>\n",
       "      <td>0</td>\n",
       "    </tr>\n",
       "    <tr>\n",
       "      <th>11</th>\n",
       "      <td>202</td>\n",
       "      <td>Stewart Alsop</td>\n",
       "      <td>Crazy Wisdom</td>\n",
       "      <td>0</td>\n",
       "      <td>0</td>\n",
       "      <td>2</td>\n",
       "      <td>Can a robot love us better than another human ...</td>\n",
       "      <td>?  I discussed this with Michelle Tsng on my P...</td>\n",
       "      <td>971</td>\n",
       "      <td>8</td>\n",
       "      <td>50</td>\n",
       "    </tr>\n",
       "    <tr>\n",
       "      <th>16</th>\n",
       "      <td>380</td>\n",
       "      <td>Melody Ucros</td>\n",
       "      <td>NaN</td>\n",
       "      <td>0</td>\n",
       "      <td>2</td>\n",
       "      <td>17</td>\n",
       "      <td>2017 Big Data, AI and IOT Use Cases</td>\n",
       "      <td>An Active List of Interesting Use Cases Menti...</td>\n",
       "      <td>10971</td>\n",
       "      <td>14</td>\n",
       "      <td>27</td>\n",
       "    </tr>\n",
       "  </tbody>\n",
       "</table>\n",
       "</div>"
      ],
      "text/plain": [
       "    SincePublished         Author        Medium  Responses  Images  Links  \\\n",
       "0               47    Anar Babaev        ICOBox          0       1      1   \n",
       "3              301   George Sykes           NaN          0      13     24   \n",
       "7              241      tech data           NaN          0       1      3   \n",
       "11             202  Stewart Alsop  Crazy Wisdom          0       0      2   \n",
       "16             380   Melody Ucros           NaN          0       2     17   \n",
       "\n",
       "                                                Title  \\\n",
       "0         Private Business, Government and Blockchain   \n",
       "3                              EPQ draft 1 4844 words   \n",
       "7   Ascent of data Science, SAS and Big data Analy...   \n",
       "11  Can a robot love us better than another human ...   \n",
       "16                2017 Big Data, AI and IOT Use Cases   \n",
       "\n",
       "                                                 Text  Length  Readability  \\\n",
       "0     A major private IT company implements blockc...    1201           12   \n",
       "3    https://upload.wikimedia.org/wikipedia/common...   29855           10   \n",
       "7     Various associations in the present days are...    3386           16   \n",
       "11  ?  I discussed this with Michelle Tsng on my P...     971            8   \n",
       "16   An Active List of Interesting Use Cases Menti...   10971           14   \n",
       "\n",
       "    Claps  \n",
       "0     100  \n",
       "3       0  \n",
       "7       0  \n",
       "11     50  \n",
       "16     27  "
      ]
     },
     "execution_count": 12,
     "metadata": {},
     "output_type": "execute_result"
    }
   ],
   "source": [
    "train_present = train.copy()\n",
    "train_present['Claps'] = train_target\n",
    "train_present.head()"
   ]
  },
  {
   "cell_type": "markdown",
   "metadata": {
    "colab_type": "text",
    "id": "u2IPSXTT12nw"
   },
   "source": [
    "### Target variable + dropping outliers\n",
    "\n",
    "Let's start examing the structure of (cleaned) data by having a closer look at the target variable (__Claps__). The boxplot below suggests a great number of outlying values, with most articles having around 0 and ~100 claps, and the most popular article reaching almost 300,000 claps.\n",
    "\n",
    "Such a distribution of claps (likes) appears quiet natural. A prominent example for an extreme number of likes is the [Instagram Egg](https://en.wikipedia.org/wiki/Instagram_egg), a [picture of an egg](https://www.instagram.com/p/BsOGulcndj-/) that reached more than 50 million likes. In any case, most posts never reach high counts, and outlying values pose a serious noise problem for the prediction modeling. \n",
    "\n",
    "Let's therefore drop all train observations with a number of __Claps__ higher than the mean plus three standard deviations ([Three-Sigma-Rule](https://en.wikipedia.org/wiki/68%E2%80%9395%E2%80%9399.7_rule)).\n",
    "\n",
    "\n",
    "_NOTE: Ideally, outliers should have only been removed in the final train dataset. As they have been removed before the train-test split, this is likely to affect the performance metrics in the modeling part of this notebook, driving MSE/MAE lower than they would have been otherwise._"
   ]
  },
  {
   "cell_type": "code",
   "execution_count": null,
   "metadata": {
    "colab": {},
    "colab_type": "code",
    "id": "RybmwEE-12nx",
    "outputId": "ac66c0a3-9acd-4acb-c98d-44bad053f32e"
   },
   "outputs": [
    {
     "data": {
      "image/png": "[encoded data removed]",
      "text/plain": [
       "<Figure size 1152x144 with 1 Axes>"
      ]
     },
     "metadata": {
      "needs_background": "light",
      "tags": []
     },
     "output_type": "display_data"
    }
   ],
   "source": [
    "boxplot(train_target, f'Claps on Medium articles (median of {int(np.median(train_target))})')"
   ]
  },
  {
   "cell_type": "code",
   "execution_count": null,
   "metadata": {
    "colab": {},
    "colab_type": "code",
    "id": "oaAruPnV12n1",
    "outputId": "f50d53c5-e95e-42a3-a476-9c9a5c38d6bf"
   },
   "outputs": [
    {
     "name": "stdout",
     "output_type": "stream",
     "text": [
      "239 out of 66380 train observations with more than 5849 claps were dropped.\n",
      "\n",
      "0 claps: 31 % of articles in the train dataset \n",
      "1:        8 % \n",
      "2:        3 % \n",
      "3-10:    11 % \n",
      "11-100:  24 % \n",
      "100+:    18 %\n"
     ]
    },
    {
     "data": {
      "image/png": "[encoded data removed]",
      "text/plain": [
       "<Figure size 1152x144 with 1 Axes>"
      ]
     },
     "metadata": {
      "needs_background": "light",
      "tags": []
     },
     "output_type": "display_data"
    }
   ],
   "source": [
    "replacer = ReplaceOutliers(par=3)\n",
    "target_ub = replacer.find_ub(train_target)\n",
    "keep_idx = train_target <= target_ub\n",
    "\n",
    "train_target2 = train_target[keep_idx]\n",
    "train2 = train[keep_idx]\n",
    "\n",
    "claps_counts = train_target2.value_counts(normalize=True) * 100\n",
    "\n",
    "\n",
    "boxplot(train_target2, f'Claps on Medium articles (median of {int(np.median(train_target))})')\n",
    "\n",
    "\n",
    "print(f'{sum(train_target > target_ub)} out of {len(train_target)} train observations '\n",
    "      f'with more than {target_ub} claps were dropped.\\n\\n'\n",
    "      f'0 claps: {int(claps_counts[0])} % of articles in the train dataset \\n'\n",
    "      f'1:        {int(claps_counts[1])} % \\n'\n",
    "      f'2:        {int(claps_counts[2])} % \\n'\n",
    "      f'3-10:    {int(sum(claps_counts[3:11]))} % \\n'\n",
    "      f'11-100:  {int(sum(claps_counts[12:101]))} % \\n'\n",
    "      f'100+:    {int(sum(claps_counts[101:]))} %'\n",
    "     )"
   ]
  },
  {
   "cell_type": "markdown",
   "metadata": {
    "colab_type": "text",
    "id": "oNxlugr2vLN3"
   },
   "source": [
    "After removing the extreme outliers, the distribution of __Claps__ still appears to be extremely left-skewed, with 75% articles having less than the average number of claps.\n",
    "\n",
    "This suggests the following potential problems for the later modeling:\n",
    "\n",
    "* Data points (Medium articles) with a relatively high number of claps will unproportionally contribute to the model loss, should MSE be used for optimization;\n",
    "* Neural networks may learn to optimize the loss in a way that they always predict a value around the mean/median rather than actually learning from the data features;\n",
    "* Depending on the choice of the evaluation metric, a model always predicting the train mean (or some other arbitrary metric-optimizing value) may outperform more sophisticated models.\n",
    "\n",
    "In other words, predicting claps is a non-trivial task, as it will be proven later in this notebook."
   ]
  },
  {
   "cell_type": "markdown",
   "metadata": {
    "colab_type": "text",
    "id": "jasyDtftvLNn"
   },
   "source": [
    "### Numeric features"
   ]
  },
  {
   "cell_type": "code",
   "execution_count": 14,
   "metadata": {
    "colab": {},
    "colab_type": "code",
    "id": "kA8FupUivLNo",
    "outputId": "06cb6fb0-3a63-45f5-8865-b22caa07c807"
   },
   "outputs": [
    {
     "data": {
      "text/html": [
       "<div>\n",
       "<style scoped>\n",
       "    .dataframe tbody tr th:only-of-type {\n",
       "        vertical-align: middle;\n",
       "    }\n",
       "\n",
       "    .dataframe tbody tr th {\n",
       "        vertical-align: top;\n",
       "    }\n",
       "\n",
       "    .dataframe thead th {\n",
       "        text-align: right;\n",
       "    }\n",
       "</style>\n",
       "<table border=\"1\" class=\"dataframe\">\n",
       "  <thead>\n",
       "    <tr style=\"text-align: right;\">\n",
       "      <th></th>\n",
       "      <th>SincePublished</th>\n",
       "      <th>Responses</th>\n",
       "      <th>Images</th>\n",
       "      <th>Links</th>\n",
       "      <th>Length</th>\n",
       "      <th>Readability</th>\n",
       "      <th>Claps</th>\n",
       "      <th>Author</th>\n",
       "      <th>Medium</th>\n",
       "      <th>Text</th>\n",
       "      <th>Title</th>\n",
       "    </tr>\n",
       "  </thead>\n",
       "  <tbody>\n",
       "    <tr>\n",
       "      <th>count</th>\n",
       "      <td>66141</td>\n",
       "      <td>66141</td>\n",
       "      <td>66141</td>\n",
       "      <td>66141</td>\n",
       "      <td>66141</td>\n",
       "      <td>66141</td>\n",
       "      <td>66141</td>\n",
       "      <td>nan</td>\n",
       "      <td>nan</td>\n",
       "      <td>nan</td>\n",
       "      <td>nan</td>\n",
       "    </tr>\n",
       "    <tr>\n",
       "      <th>mean</th>\n",
       "      <td>218</td>\n",
       "      <td>1</td>\n",
       "      <td>4</td>\n",
       "      <td>7</td>\n",
       "      <td>5455</td>\n",
       "      <td>14</td>\n",
       "      <td>111</td>\n",
       "      <td>nan</td>\n",
       "      <td>nan</td>\n",
       "      <td>nan</td>\n",
       "      <td>nan</td>\n",
       "    </tr>\n",
       "    <tr>\n",
       "      <th>std</th>\n",
       "      <td>118</td>\n",
       "      <td>3</td>\n",
       "      <td>5</td>\n",
       "      <td>11</td>\n",
       "      <td>5083</td>\n",
       "      <td>35</td>\n",
       "      <td>375</td>\n",
       "      <td>nan</td>\n",
       "      <td>nan</td>\n",
       "      <td>nan</td>\n",
       "      <td>nan</td>\n",
       "    </tr>\n",
       "    <tr>\n",
       "      <th>min</th>\n",
       "      <td>3</td>\n",
       "      <td>0</td>\n",
       "      <td>0</td>\n",
       "      <td>0</td>\n",
       "      <td>0</td>\n",
       "      <td>-16</td>\n",
       "      <td>0</td>\n",
       "      <td>nan</td>\n",
       "      <td>nan</td>\n",
       "      <td>nan</td>\n",
       "      <td>nan</td>\n",
       "    </tr>\n",
       "    <tr>\n",
       "      <th>25%</th>\n",
       "      <td>119</td>\n",
       "      <td>0</td>\n",
       "      <td>1</td>\n",
       "      <td>1</td>\n",
       "      <td>2503</td>\n",
       "      <td>10</td>\n",
       "      <td>0</td>\n",
       "      <td>nan</td>\n",
       "      <td>nan</td>\n",
       "      <td>nan</td>\n",
       "      <td>nan</td>\n",
       "    </tr>\n",
       "    <tr>\n",
       "      <th>50%</th>\n",
       "      <td>207</td>\n",
       "      <td>0</td>\n",
       "      <td>2</td>\n",
       "      <td>4</td>\n",
       "      <td>4290</td>\n",
       "      <td>12</td>\n",
       "      <td>6</td>\n",
       "      <td>nan</td>\n",
       "      <td>nan</td>\n",
       "      <td>nan</td>\n",
       "      <td>nan</td>\n",
       "    </tr>\n",
       "    <tr>\n",
       "      <th>75%</th>\n",
       "      <td>309</td>\n",
       "      <td>0</td>\n",
       "      <td>4</td>\n",
       "      <td>8</td>\n",
       "      <td>6850</td>\n",
       "      <td>14</td>\n",
       "      <td>64</td>\n",
       "      <td>nan</td>\n",
       "      <td>nan</td>\n",
       "      <td>nan</td>\n",
       "      <td>nan</td>\n",
       "    </tr>\n",
       "    <tr>\n",
       "      <th>max</th>\n",
       "      <td>1874</td>\n",
       "      <td>342</td>\n",
       "      <td>263</td>\n",
       "      <td>1180</td>\n",
       "      <td>143709</td>\n",
       "      <td>4304</td>\n",
       "      <td>5828</td>\n",
       "      <td>nan</td>\n",
       "      <td>nan</td>\n",
       "      <td>nan</td>\n",
       "      <td>nan</td>\n",
       "    </tr>\n",
       "    <tr>\n",
       "      <th>missing</th>\n",
       "      <td>0</td>\n",
       "      <td>0</td>\n",
       "      <td>0</td>\n",
       "      <td>0</td>\n",
       "      <td>0</td>\n",
       "      <td>0</td>\n",
       "      <td>0</td>\n",
       "      <td>0</td>\n",
       "      <td>35270</td>\n",
       "      <td>0</td>\n",
       "      <td>0</td>\n",
       "    </tr>\n",
       "  </tbody>\n",
       "</table>\n",
       "</div>"
      ],
      "text/plain": [
       "         SincePublished  Responses  Images  Links  Length  Readability  Claps  \\\n",
       "count             66141      66141   66141  66141   66141        66141  66141   \n",
       "mean                218          1       4      7    5455           14    111   \n",
       "std                 118          3       5     11    5083           35    375   \n",
       "min                   3          0       0      0       0          -16      0   \n",
       "25%                 119          0       1      1    2503           10      0   \n",
       "50%                 207          0       2      4    4290           12      6   \n",
       "75%                 309          0       4      8    6850           14     64   \n",
       "max                1874        342     263   1180  143709         4304   5828   \n",
       "missing               0          0       0      0       0            0      0   \n",
       "\n",
       "         Author  Medium  Text  Title  \n",
       "count       nan     nan   nan    nan  \n",
       "mean        nan     nan   nan    nan  \n",
       "std         nan     nan   nan    nan  \n",
       "min         nan     nan   nan    nan  \n",
       "25%         nan     nan   nan    nan  \n",
       "50%         nan     nan   nan    nan  \n",
       "75%         nan     nan   nan    nan  \n",
       "max         nan     nan   nan    nan  \n",
       "missing       0   35270     0      0  "
      ]
     },
     "execution_count": 14,
     "metadata": {},
     "output_type": "execute_result"
    }
   ],
   "source": [
    "NAs = train_present.isna().sum()\n",
    "NAs.name = 'missing'\n",
    "train_present.describe().append(NAs)\n",
    "\n",
    "#test.isna().sum() # few Mediums are missing, the rest is 0"
   ]
  },
  {
   "cell_type": "markdown",
   "metadata": {
    "colab_type": "text",
    "id": "oNSqNMojvLNr"
   },
   "source": [
    "Numeric features may potentially have explanatory power with regard to how well an article is perceived by the audience: if an article was just recently published and has only few respones, it likely did not have many readers and did not receive many claps (likes) yet. The length of text (here: in characters, later in the analysis: in words), the amount of images and links it exhibits may provide some additional information if the audience interacts differently with different types of articles.\n",
    "\n",
    "The consequent boxplots compare distributions of numeric features between train and test data. The most important takeaway from the visual exploration is that all features are heavily left skewed and have a considerable number of outlying values. To reduce noise in the data, these values will be truncated at a later point when splitting the current train dataset into 'train' and 'test' data for modeling.\n",
    "\n",
    "Distributions of values in train and test data are relatively similar for __Responses__, whereas they noticeably vary for other features. While handling outliers will partially solve this issue, it is possible that no truly successful extrapolation of patterns in the train data onto test data will be possible.\n",
    "\n",
    "Nonetheless, one good thing is that missing values are not an issue for the current data (except for 'Medium' which is a categorical variable and which, after a careful consideation, won't be used in the modeling) "
   ]
  },
  {
   "cell_type": "code",
   "execution_count": 37,
   "metadata": {},
   "outputs": [
    {
     "data": {
      "image/png": "[encoded data removed]",
      "text/plain": [
       "<Figure size 1152x216 with 1 Axes>"
      ]
     },
     "metadata": {
      "needs_background": "light"
     },
     "output_type": "display_data"
    }
   ],
   "source": [
    "n = 'SincePublished'\n",
    "boxplot([train[n], test[n]], n)"
   ]
  },
  {
   "cell_type": "code",
   "execution_count": 33,
   "metadata": {},
   "outputs": [
    {
     "data": {
      "image/png": "[encoded data removed]",
      "text/plain": [
       "<Figure size 1152x216 with 1 Axes>"
      ]
     },
     "metadata": {
      "needs_background": "light"
     },
     "output_type": "display_data"
    }
   ],
   "source": [
    "n = 'Responses'\n",
    "boxplot([train[n], test[n]], n)"
   ]
  },
  {
   "cell_type": "code",
   "execution_count": 34,
   "metadata": {},
   "outputs": [
    {
     "data": {
      "image/png": "[encoded data removed]",
      "text/plain": [
       "<Figure size 1152x216 with 1 Axes>"
      ]
     },
     "metadata": {
      "needs_background": "light"
     },
     "output_type": "display_data"
    }
   ],
   "source": [
    "n = 'Images'\n",
    "boxplot([train[n], test[n]], n)"
   ]
  },
  {
   "cell_type": "code",
   "execution_count": 35,
   "metadata": {
    "colab": {},
    "colab_type": "code",
    "id": "Ym6Jx63gvLNu",
    "outputId": "23ff6a9b-e93d-43c7-c89d-2cadebcc2c28"
   },
   "outputs": [
    {
     "data": {
      "image/png": "[encoded data removed]",
      "text/plain": [
       "<Figure size 1152x216 with 1 Axes>"
      ]
     },
     "metadata": {
      "needs_background": "light"
     },
     "output_type": "display_data"
    }
   ],
   "source": [
    "n = 'Links'\n",
    "boxplot([train[n], test[n]], n)"
   ]
  },
  {
   "cell_type": "code",
   "execution_count": 36,
   "metadata": {
    "colab": {},
    "colab_type": "code",
    "id": "YuUOl0yCvLNw",
    "outputId": "8ee1bdc7-ea1b-45a8-be63-2039dd14375b"
   },
   "outputs": [
    {
     "data": {
      "image/png": "[encoded data removed]",
      "text/plain": [
       "<Figure size 1152x216 with 1 Axes>"
      ]
     },
     "metadata": {
      "needs_background": "light"
     },
     "output_type": "display_data"
    }
   ],
   "source": [
    "n = 'Readability'\n",
    "boxplot([train[n], test[n]], n)"
   ]
  },
  {
   "cell_type": "markdown",
   "metadata": {
    "colab_type": "text",
    "id": "JQQKU4bLvLN7"
   },
   "source": [
    "### Categorical features\n",
    "\n",
    "Certain authors and Medium categories (let's refer to them as Mediums) are likely to be more popular and likable than others. As no author-specific information (such as number of followers) is provided in the test data, one may want to learn this information from the train data. \n",
    "\n",
    "Is this feasible? Not necessarily, given that only 20% of authors and 37% of mediums present in test data are also present in train (see below). Subsetting authors/mediums that are more common did not lead to improvements in these ratios. \n",
    "\n",
    "Hence, features __Author__ and __Medium__ will not be used in the further analysis."
   ]
  },
  {
   "cell_type": "code",
   "execution_count": null,
   "metadata": {
    "colab": {
     "base_uri": "https://localhost:8080/",
     "height": 232
    },
    "colab_type": "code",
    "executionInfo": {
     "elapsed": 517,
     "status": "error",
     "timestamp": 1597392796466,
     "user": {
      "displayName": "Gleb Zhidkov",
      "photoUrl": "https://lh3.googleusercontent.com/a-/AOh14GhxfJzUwgmsmanA2jq59QhUF0o850l2N9yvgdM-8g=s64",
      "userId": "07389285725153387427"
     },
     "user_tz": -120
    },
    "id": "DSfItiMxvLN8",
    "outputId": "fc4369a5-b75d-4f82-c01d-9b125ec636c7"
   },
   "outputs": [
    {
     "name": "stdout",
     "output_type": "stream",
     "text": [
      "Out of 214 authors in test data, 19.63 % are present in train data.\n",
      "Out of 101 mediums in test data, 36.63 % are present in train data.\n"
     ]
    }
   ],
   "source": [
    "total = len(test['Author'].unique())\n",
    "count = len([1 for a in test['Author'].unique() if a in train2['Author'].unique()])\n",
    "\n",
    "print(f'Out of {total} authors in test data, {round(count/total*100, 2)} % are present in train data.')\n",
    "\n",
    "\n",
    "total = len(test[\"Medium\"].unique())\n",
    "count = len([1 for a in test['Medium'].unique() if a in train2['Medium'].unique()])\n",
    "\n",
    "print(f'Out of {total} mediums in test data, {round(count/total*100, 2)} % are present in train data.')"
   ]
  },
  {
   "cell_type": "code",
   "execution_count": null,
   "metadata": {
    "colab": {},
    "colab_type": "code",
    "id": "yv47CsjkvLNi",
    "outputId": "911872bb-5da6-46d6-ac8f-946f7afa701e"
   },
   "outputs": [],
   "source": [
    "# save everything we have done so far:\n",
    "\n",
    "with open(DIR + 'df_clean.pkl', 'wb') as f:\n",
    "    pickle.dump([train_target2, train2, test], f)\n",
    "print('Saved locally.')\n",
    "\n",
    "\n",
    "# delete some objects that we don't need anymore:\n",
    "del test_raw, train_raw, train, train_target, train_present, claps_counts"
   ]
  },
  {
   "attachments": {},
   "cell_type": "markdown",
   "metadata": {
    "colab_type": "text",
    "id": "ZNloNfaVvLN9"
   },
   "source": [
    "## Words, words, words\n",
    "\n",
    "So far, textual features have only been partially prepared. It is finally time to further clean out textual data and prepare tokens. Different to the simpler and a somewhat more intuitive approach using tools of the [NLTK](https://www.nltk.org/) package, we will instead rely on the powerful [spaCy](https://spacy.io/) library.\n",
    "\n",
    "![doge](https://drive.google.com/uc?export=view&id=1ZRWtshPQgfQvnGBUrI7ZtQCQ2hHSEknM)\n",
    "_(Figure: Strong dog vs. weak dog meme in the context of NLP. Source: own illustration, imgflip.com for the template)_\n",
    "\n",
    "With NLTK, the [regular workflow](https://machinelearningmastery.com/clean-text-machine-learning-python/) is iterative: one first splits each document into sentences, then into words, then removes punctuation, stop words, stems or lemmatizes the remaining words, etc. In a way, the workflow is such that one iterates over all documents, solving only one subproblem in each step.\n",
    "\n",
    "With spaCy, the [processing pipeline](https://spacy.io/api#architecture-pipeline) happens under the hood of one function, `spacy.nlp()`, ultimately resulting in a much more elegant code. Depending on the selected options, it processes the input text, identifying words, parts of speech they represent and their relationships within the sentence. A resulting __Doc__ represents a sequence of annotated __Token__s, one for each identified word, space, punctuation mark, or any other part of the original sentence. The annotations included in the token include a wide range of attributes, such as its lemmatized form, its vector (if available), a boolean identifying whether it represents a word on the stop list, a digit, or some other sentence member (see [all attributes](https://spacy.io/api/token#attributes)). \n",
    "\n",
    "SpaCy comes with a choice of [pretrained statistical language models](https://spacy.io/models). The model used in the current analysis, `en_core_web_lg`, was trained on the manually-annotated [OntoNotes](https://catalog.ldc.upenn.edu/LDC2013T19) corpus and comes with 686k [Common Crawl GloVe](https://nlp.stanford.edu/projects/glove/) built-in vectors (300 dimensions). \n",
    "\n",
    "Ironically, while many Medium.com articles discuss machine learning and blockchain technologies, the related\n",
    "technical jargon is not known to the spaCy model. A selection of terms (e.g. 'deepfake') and entity names ('tensorflow') that occur most often has been therefore manually added to the model corpus.\n",
    " \n",
    "To process all operations on text in a tidy and pythonic manner, a custom class, `Tokenizer2`, was designed building upon the spaCy nlp-pipeline. Several parameters, such as whether out-of-vocabulary words have to be kept in the output, can be defined upon initiation of a class instance. The text processing workflow applied for the current task is summarized in the following.\n",
    "\n",
    "__Basic cleaning of text__ (already done):\n",
    "* Removing html-tags, unicode signs, line breaks, and parantheses (the latter is required to avoid errors when applying `re.sub()` function in the next step;\n",
    "* Removing textual information that belongs into other columns, e.g. removing author name from the text.\n",
    "\n",
    "\n",
    "__Tokenizer2 workflow__:\n",
    "* Limiting input length of an article to 5000 characters (median length is 4300) to speed up things a bit;\n",
    "* Removing capitalization (This is not strictly necessary when working with spaCy as it should be able to distinguish between apples and Apple. As sample testing has shown, this functionality did not perfectly work on the current dataset);\n",
    "* Fixing contractions (I'm -> I am; done automatically by spaCy);\n",
    "* Splitting documents into words;\n",
    "* Preserving sentence structure (with dots between all original sentences) to use it later on for transformers;\n",
    "\n",
    "\n",
    "* Removing all non-textual tokens (e.g. numbers);\n",
    "* Removing all out-of-vocabulary words (e.g. non-English words, misspelled words, etc.);\n",
    "* Lemmatizing words based on their parts of speech.\n",
    "\n",
    "__Tokenizer2 outputs__:\n",
    "* For each article, a list of tokens (having removed all non-desired tokens);\n",
    "* For each article, its length in words;\n",
    "* Vectorized representation of all articles with dimensions (N articles x 100 first tokens x 300 token dimensions) and a reduced precision level (float16). _Limiting precision level and the number of tokens was not a simple choice but was required to ensure that the resulting numpy array does not cause memory issues at none of the consequent steps;_\n",
    "* As well as two dictionaries with counts of words used in articles and of removed out-of-vocabulary words.\n",
    "\n",
    "\n",
    "__Example of the Tokenizer2 functionality:__"
   ]
  },
  {
   "cell_type": "code",
   "execution_count": 3,
   "metadata": {
    "colab": {},
    "colab_type": "code",
    "id": "9FAnj9Hm12og",
    "outputId": "8eb296fb-20fb-475c-e7ee-dc04df3e401d"
   },
   "outputs": [
    {
     "name": "stdout",
     "output_type": "stream",
     "text": [
      "Tokenizer initiated. No corpus was pre-loaded.\n",
      "Tokenized 0 out of 1 in 0 seconds...\r",
      "1 documents tokenized and prepared in 0 seconds.\n",
      "\n",
      "Tokenized and lemmatized: \n",
      "['interestingly pretty great sentence. employee Apple free great apple evening. buy Bitcoin ik hou van je'] \n",
      "\n",
      "Vector representation has dimensions (1, 300, 300) \n",
      "\n",
      "Corpus (words in our texts): {'interestingly': 1, 'pretty': 1, 'great': 2, 'sentence': 1, '.': 2, 'employee': 1, 'Apple': 1, 'free': 1, 'apple': 1, 'evening': 1, 'buy': 1, 'Bitcoin': 1, 'ik': 1, 'hou': 1, 'van': 1, 'je': 1} \n",
      "\n",
      "Out of spaCy vocabulary and removed: {'https://hu-berlin.de': 1, 'длинношеее': 1, 'животное': 1} \n",
      "\n",
      "SpaCy's stop list has 326 stop words.\n"
     ]
    }
   ],
   "source": [
    "## EXAMPLE:\n",
    "\n",
    "tokenizer_example = Tokenizer2(keep_oov=False, to_lower=False, preserve_sentences=True,\n",
    "                               corpus_path=None)\n",
    "\n",
    "temp = tokenizer_example.tokenize(['Interestingly, this is a pretty great sentence. About how all employees ' + \n",
    "                                  'at Apple get free and great apples every THIRD EVENING. ' + \n",
    "                                  'https://hu-berlin.de Please buy my Bitcoin 12345 ' +\n",
    "                                  'ik hou van je, длинношеее животное'])\n",
    "\n",
    "print(f'\\nTokenized and lemmatized: \\n{words_to_docs(temp[0], drop_dots=False)} \\n\\n'\n",
    "      f'Vector representation has dimensions {temp[1].shape} \\n\\n'\n",
    "      f'Corpus (words in our texts): {tokenizer_example.corpus} \\n\\n'\n",
    "      f'Out of spaCy vocabulary and removed: {tokenizer_example.oov} \\n\\n'\n",
    "      f\"SpaCy's stop list has {len(tokenizer_example.nlp.Defaults.stop_words)} stop words.\"\n",
    ")\n",
    "\n",
    "\n",
    "## we can save oov words for a more careful review to a csv:\n",
    "#pd.DataFrame(sort_dict(tokenizer_example.oov).items()).to_csv(DIR + 'oov.csv')\n",
    "\n",
    "## should we add some words? (relevant only if keep_oov=False)\n",
    "#oov_add = ['cryptocurrency']\n",
    "#tokenizer_example.add_to_vocab(oov_add)\n",
    "\n",
    "#tokenizer_example.add_to_stop(['someStopWord'])\n",
    "\n",
    "## (re-)training feature recognition:\n",
    "# https://spacy.io/usage/linguistic-features#updating\n",
    "\n",
    "del tokenizer_example"
   ]
  },
  {
   "cell_type": "markdown",
   "metadata": {
    "colab_type": "text",
    "id": "KLVMUC6o12ok"
   },
   "source": [
    "The preceding example illustrates some strengths but also certain limitations of spaCy:\n",
    "\n",
    "Lemmatization seems to work fine, and the tokenizer could tell the difference between apples and Apple. It removed all unnecessary stop words, a link and two Russian words. Nonetheless, it failed to remove a Dutch sentence. This implies one of the two possible errors: either these words have Glove vectors (although they should not) or spaCy connects these words to some other English words that have Glove vectors (although it should not, as these are clearly non-English words). \n",
    "This is a fairly nice reminder that natural language processing requires a lot of fine-tuning and always comes with a certain degree of errors.\n",
    "\n",
    "\n",
    "### Process texts from train and data:\n",
    "\n",
    "Let us process all articles in train and test datasets using `Tokenizer2`. To reduce memory usage, number of tokens in vector representations and their precision level will be limited as it was already discussed previously.\n",
    "\n",
    "Titles and texts will be concatenated to create one text for each article. This approach implies some further information loss, and there are ways how this could have been handled differently, e.g. by keeping two features, which can then for example be used to extract distinct new features from the title and the text. \n",
    "\n",
    "After articles were processed, their tokenized representations (in form of lists of strings) will be stored in the train and test dataframes, whereas numpy arrays with vector representations will be stored externally.\n",
    "The vector representation of the train data, limited to 100 tokens per article and with a reduced rounding precision (*float16*), has dimensions (66141, 100, 300) and weights more than 4 GB."
   ]
  },
  {
   "cell_type": "code",
   "execution_count": 8,
   "metadata": {
    "colab": {
     "base_uri": "https://localhost:8080/",
     "height": 581
    },
    "colab_type": "code",
    "executionInfo": {
     "elapsed": 167678,
     "status": "ok",
     "timestamp": 1597388364375,
     "user": {
      "displayName": "Gleb Zhidkov",
      "photoUrl": "https://lh3.googleusercontent.com/a-/AOh14GhxfJzUwgmsmanA2jq59QhUF0o850l2N9yvgdM-8g=s64",
      "userId": "07389285725153387427"
     },
     "user_tz": -120
    },
    "id": "Q-FRhqwOwVE3",
    "outputId": "bb77c9eb-8ed8-45b9-fc3c-2f56d6735af9"
   },
   "outputs": [
    {
     "name": "stdout",
     "output_type": "stream",
     "text": [
      "Loaded from local storage.\n"
     ]
    }
   ],
   "source": [
    "with open(DIR + 'df_clean.pkl', 'rb') as f:\n",
    "    train_target2, train2, test = pickle.load(f)\n",
    "print('Loaded from local storage.')"
   ]
  },
  {
   "cell_type": "code",
   "execution_count": null,
   "metadata": {
    "colab": {},
    "colab_type": "code",
    "id": "gWADgvQB12ol",
    "outputId": "3cd92ebc-4cf3-46d3-cdaa-171057eb0b8e",
    "scrolled": false
   },
   "outputs": [
    {
     "name": "stdout",
     "output_type": "stream",
     "text": [
      "Tokenizer initiated. No corpus was pre-loaded.\n",
      "2 words added to stop words.\n",
      "21 words added to vocabulary. Note that they have zero vector representations.\n"
     ]
    }
   ],
   "source": [
    "tokenizer = Tokenizer2(keep_oov = False, # removes non-words\n",
    "                       to_lower = True, # strictly speaking not necessary when using spaCy vectors\n",
    "                       preserve_sentences = True, # useful for transformers\n",
    "                       # to improve speed and limit memory usage:\n",
    "                       limit_length = 5000,  # trucatenates long input articles\n",
    "                       max_tokens = 100,      # reduced nr. of tokens for vector representation\n",
    "                       precision = 'float16', # reduced precision for vector representation\n",
    "                       corpus_path = DIR + 'corpus.pkl')\n",
    "\n",
    "STOPWORDS = ['te', 'food']\n",
    "GOODWORDS = ['tensorflow', 'jupyter', 'kaggle', 'pytorch', 'udacity', 'scikit', 'lstm' 'gdpr',\n",
    "             'udemy', 'openai', 'fast.ai', 'lstm', 'scikit', 'cryptocurrencie', 'ethereum', \n",
    "             'word2vec', 'deeplearning', 'blockchain', 'legaltech', 'neurotechnology', 'deepfakes', \n",
    "             'heteroscedasticity']\n",
    "\n",
    "# spaCy has no good knowledge of ML and crypto topics that are quite popular on Medium.com\n",
    "# we will add these words to vocabulary so that they don't get removed\n",
    "# the word 'naïve' that is so beloved by The New Yorker is also not known by spaCy\n",
    "\n",
    "tokenizer.add_to_stop(STOPWORDS)\n",
    "tokenizer.add_to_vocab(GOODWORDS)"
   ]
  },
  {
   "cell_type": "code",
   "execution_count": null,
   "metadata": {
    "colab": {},
    "colab_type": "code",
    "id": "ZJs_MqiP12op",
    "outputId": "c29a1726-2cea-4a8c-ba9d-43949c39c1e2",
    "scrolled": true
   },
   "outputs": [
    {
     "name": "stdout",
     "output_type": "stream",
     "text": [
      "514 documents tokenized and prepared in 31 seconds.\n",
      "Saved locally.\n",
      "66141 documents tokenized and prepared in 4243 seconds.\n",
      "Saved locally.\n"
     ]
    }
   ],
   "source": [
    "words = {}\n",
    "word_vectors = {}\n",
    "word_lengths = {}\n",
    "\n",
    "texts_to_process = ['test', 'train']\n",
    "\n",
    "\n",
    "for idx, t in enumerate(texts_to_process):\n",
    "    \n",
    "    if idx==0: x = test['Title'] + '. ' + test['Text']\n",
    "    if idx==1: x = train2['Title'] + '. ' + train2['Text']\n",
    "    \n",
    "    words[t], word_vectors[t], word_lengths[t] = tokenizer.tokenize(x, to_disc='tokens3/'+ t +'.pkl')\n"
   ]
  },
  {
   "cell_type": "code",
   "execution_count": null,
   "metadata": {
    "colab": {},
    "colab_type": "code",
    "id": "zwj270bmgb7n"
   },
   "outputs": [],
   "source": [
    "# Update textual information in datasets with tokens (NOT with texts!)\n",
    "\n",
    "test['Text'] = words['test']\n",
    "train2['Text'] = words['train']\n",
    "\n",
    "test['Words'] = word_lengths['test']\n",
    "train2['Words'] = word_lengths['train']"
   ]
  },
  {
   "cell_type": "code",
   "execution_count": null,
   "metadata": {
    "colab": {},
    "colab_type": "code",
    "id": "iBMAw0ZLgb7q"
   },
   "outputs": [],
   "source": [
    "# Drop columns that we will no longer use:\n",
    "\n",
    "drop_cols = ['Title', 'Medium', 'Author']\n",
    "\n",
    "train2.drop(drop_cols, axis='columns', inplace=True)\n",
    "test.drop(drop_cols, axis='columns', inplace=True)"
   ]
  },
  {
   "cell_type": "code",
   "execution_count": null,
   "metadata": {
    "colab": {},
    "colab_type": "code",
    "executionInfo": {
     "elapsed": 1618,
     "status": "aborted",
     "timestamp": 1597388091293,
     "user": {
      "displayName": "Gleb Zhidkov",
      "photoUrl": "https://lh3.googleusercontent.com/a-/AOh14GhxfJzUwgmsmanA2jq59QhUF0o850l2N9yvgdM-8g=s64",
      "userId": "07389285725153387427"
     },
     "user_tz": -120
    },
    "id": "3lQ0aXi7vLOD",
    "outputId": "b6903ddc-c7e2-4e3b-b549-30aa8cd661e6"
   },
   "outputs": [
    {
     "name": "stdout",
     "output_type": "stream",
     "text": [
      "Saved locally.\n"
     ]
    }
   ],
   "source": [
    "## backup everything we have done so far:\n",
    "with open(DIR + 'ready_for_analysis.pkl', 'wb') as f:\n",
    "    pickle.dump([train_target2, train2, test, word_vectors], f)\n",
    "print('Saved locally.')"
   ]
  },
  {
   "cell_type": "markdown",
   "metadata": {
    "colab_type": "text",
    "id": "zlS3nLaH12o7"
   },
   "source": [
    "### Review results:"
   ]
  },
  {
   "cell_type": "code",
   "execution_count": null,
   "metadata": {
    "colab": {},
    "colab_type": "code",
    "id": "VIYaeHBF12o7",
    "outputId": "783b91bd-a28a-4839-8b03-87b4941450f5"
   },
   "outputs": [
    {
     "name": "stdout",
     "output_type": "stream",
     "text": [
      "Vectorized representation of the train dataset has dimensions (66141, 100, 300).\n"
     ]
    },
    {
     "data": {
      "text/html": [
       "<div>\n",
       "<style scoped>\n",
       "    .dataframe tbody tr th:only-of-type {\n",
       "        vertical-align: middle;\n",
       "    }\n",
       "\n",
       "    .dataframe tbody tr th {\n",
       "        vertical-align: top;\n",
       "    }\n",
       "\n",
       "    .dataframe thead th {\n",
       "        text-align: right;\n",
       "    }\n",
       "</style>\n",
       "<table border=\"1\" class=\"dataframe\">\n",
       "  <thead>\n",
       "    <tr style=\"text-align: right;\">\n",
       "      <th></th>\n",
       "      <th>SincePublished</th>\n",
       "      <th>Responses</th>\n",
       "      <th>Images</th>\n",
       "      <th>Links</th>\n",
       "      <th>Text</th>\n",
       "      <th>Words</th>\n",
       "    </tr>\n",
       "  </thead>\n",
       "  <tbody>\n",
       "    <tr>\n",
       "      <th>279552</th>\n",
       "      <td>304</td>\n",
       "      <td>1</td>\n",
       "      <td>5</td>\n",
       "      <td>9</td>\n",
       "      <td>[uc, berkeley, mids, immersion, fall, ., danie...</td>\n",
       "      <td>443</td>\n",
       "    </tr>\n",
       "    <tr>\n",
       "      <th>279557</th>\n",
       "      <td>181</td>\n",
       "      <td>1</td>\n",
       "      <td>13</td>\n",
       "      <td>16</td>\n",
       "      <td>[analyze, extreme, skiing, snowboarding, r, fr...</td>\n",
       "      <td>440</td>\n",
       "    </tr>\n",
       "    <tr>\n",
       "      <th>279567</th>\n",
       "      <td>145</td>\n",
       "      <td>0</td>\n",
       "      <td>5</td>\n",
       "      <td>16</td>\n",
       "      <td>[build, smart, chatbot, assistant, ibm, watson...</td>\n",
       "      <td>395</td>\n",
       "    </tr>\n",
       "    <tr>\n",
       "      <th>279570</th>\n",
       "      <td>342</td>\n",
       "      <td>0</td>\n",
       "      <td>3</td>\n",
       "      <td>3</td>\n",
       "      <td>[thing, crowded, ., useful, label, text, data,...</td>\n",
       "      <td>135</td>\n",
       "    </tr>\n",
       "    <tr>\n",
       "      <th>279572</th>\n",
       "      <td>228</td>\n",
       "      <td>0</td>\n",
       "      <td>1</td>\n",
       "      <td>9</td>\n",
       "      <td>[london, create, ethic, panel, evaluate, use, ...</td>\n",
       "      <td>442</td>\n",
       "    </tr>\n",
       "  </tbody>\n",
       "</table>\n",
       "</div>"
      ],
      "text/plain": [
       "        SincePublished  Responses  Images  Links  \\\n",
       "279552             304          1       5      9   \n",
       "279557             181          1      13     16   \n",
       "279567             145          0       5     16   \n",
       "279570             342          0       3      3   \n",
       "279572             228          0       1      9   \n",
       "\n",
       "                                                     Text  Words  \n",
       "279552  [uc, berkeley, mids, immersion, fall, ., danie...    443  \n",
       "279557  [analyze, extreme, skiing, snowboarding, r, fr...    440  \n",
       "279567  [build, smart, chatbot, assistant, ibm, watson...    395  \n",
       "279570  [thing, crowded, ., useful, label, text, data,...    135  \n",
       "279572  [london, create, ethic, panel, evaluate, use, ...    442  "
      ]
     },
     "execution_count": 17,
     "metadata": {
      "tags": []
     },
     "output_type": "execute_result"
    }
   ],
   "source": [
    "print(f\"Vectorized representation of the train dataset has dimensions {word_vectors['train'].shape}.\")\n",
    "\n",
    "train2.tail()"
   ]
  },
  {
   "cell_type": "code",
   "execution_count": null,
   "metadata": {
    "colab": {},
    "colab_type": "code",
    "id": "yVZzypMP12o_",
    "outputId": "36db90ae-877d-4986-fb2c-359ae467ed63"
   },
   "outputs": [
    {
     "data": {
      "text/plain": [
       "['machine learn apply human. image source. shutterstock siri. google receive word smiley suggestion whatsapp google allo. yes familiar concept machine learning. forgive terminator fan muggle need introduction machine learning. muggles. machine learning give machine ability learn perform well programming teach perform well. confuse. let try consider scenario scenario. buy new mobile phone amazon. week later receive phone. decide buy phone cover. open amazon app search phone cover buy. scenario visit buy mobile phone. check feature suggestion phone cover. buy phone cover. convenient. scenario right. time log probably suggest cool accessory phone. machine learn. case system pull data profile surfing habit purchase history. special analyse give recommendation great shopping experience. word keep learn improve perform well tell. machine learning life. recommendation website like youtube amazon etc intelligent assistant like siri google. application. million dollar question apply human. learn. build experience. stop learn.. agree disagree.. ask learning development professional. agree. school college teach book. office relationship experience. condition teach learn. learn force like school workplace training session real need.. like youtube recommendation feature actively learn analyze act new information. work related passion relate. smart bright brain work push human race forward. progress evolve well individual. imagine impact world continue learn expand knowledge million dollar question yes. share thought comment.. read article real world application machine learning']"
      ]
     },
     "execution_count": 18,
     "metadata": {
      "tags": []
     },
     "output_type": "execute_result"
    }
   ],
   "source": [
    "# a sample article:\n",
    "words_to_docs([train2['Text'].iloc[1900]], drop_dots=False) # looks good!"
   ]
  },
  {
   "cell_type": "markdown",
   "metadata": {
    "colab_type": "text",
    "id": "0CFHYiAm12pD"
   },
   "source": [
    "### Distribution of words\n",
    "\n",
    "Articles in the examined datasets (both test and train) have almost 82k unique words, of which 50% occur less than 4 times. The distribution is extremely left-skewed, with less than 1% of words occuring more than 10k times (remember, we have more than 60k articles). What are the most popular words?\n",
    "\n",
    "_Data_ (300k occurences), _AI_ (176k), _machine ... learning_ (119k and 102k), _time_ (100k), _model_ (98k), and _learn_ (93k).\n",
    "\n",
    "This clearly signals that a lot of articles are about machine learning and data analysis. Sadly, these are also the topics for which some (many?) of the technical terms don't have pre-trained Glove vectors, therefore making the job for our future algorithms more complicated.\n",
    "\n",
    "One other issue becoming clear from these few words is that bi-grams, such as _machine learning,_ may potentially be useful for modeling. This said, such a potential enhancement will remain out of the scope of this notebook."
   ]
  },
  {
   "cell_type": "code",
   "execution_count": null,
   "metadata": {
    "colab": {},
    "colab_type": "code",
    "executionInfo": {
     "elapsed": 1607,
     "status": "aborted",
     "timestamp": 1597388091298,
     "user": {
      "displayName": "Gleb Zhidkov",
      "photoUrl": "https://lh3.googleusercontent.com/a-/AOh14GhxfJzUwgmsmanA2jq59QhUF0o850l2N9yvgdM-8g=s64",
      "userId": "07389285725153387427"
     },
     "user_tz": -120
    },
    "id": "xvzIgcBbvLOM",
    "outputId": "e9157750-b5dc-4e94-b5f4-c2daf2bb39c4"
   },
   "outputs": [
    {
     "name": "stdout",
     "output_type": "stream",
     "text": [
      "count     81708\n",
      "mean        272\n",
      "std        8337\n",
      "min           1\n",
      "25%           1\n",
      "50%           4\n",
      "75%          20\n",
      "max     2278139\n",
      "dtype: float64\n"
     ]
    },
    {
     "data": {
      "image/png": "[encoded data removed]",
      "text/plain": [
       "<Figure size 1152x144 with 1 Axes>"
      ]
     },
     "metadata": {
      "needs_background": "light",
      "tags": []
     },
     "output_type": "display_data"
    }
   ],
   "source": [
    "words_counts = tokenizer.corpus.values()\n",
    "\n",
    "fig = plt.figure(1, figsize=(16, 2))\n",
    "fig = plt.hist([x for x in words_counts if x < 200], bins=100)\n",
    "\n",
    "print(pd.Series(list(words_counts)).describe())\n",
    "\n",
    "#np.sum(pd.array(list(words_counts)) > 10000) # 400 words occur more often than 10k times, it's 0.005%"
   ]
  },
  {
   "cell_type": "code",
   "execution_count": null,
   "metadata": {
    "colab": {},
    "colab_type": "code",
    "collapsed": true,
    "id": "Y7t793tdgb72",
    "outputId": "13e3bd67-f2ea-45be-cf36-5841e604323a"
   },
   "outputs": [
    {
     "data": {
      "text/plain": [
       "{'.': 2278139,\n",
       " 'data': 303235,\n",
       " 'ai': 176132,\n",
       " 'machine': 119192,\n",
       " 'learning': 102205,\n",
       " 'time': 100270,\n",
       " 'model': 98812,\n",
       " 'learn': 93424,\n",
       " 'use': 91640,\n",
       " 'like': 90649,\n",
       " 'work': 86374,\n",
       " 'new': 81930,\n",
       " 'human': 80665,\n",
       " 'need': 80062,\n",
       " 'technology': 76520,\n",
       " 'intelligence': 71872,\n",
       " 'way': 62985,\n",
       " 'create': 61335,\n",
       " 'system': 60301,\n",
       " 'good': 60000,\n",
       " 'artificial': 59554,\n",
       " 'company': 59516,\n",
       " 'people': 59476,\n",
       " 'network': 57763,\n",
       " 'user': 57394,\n",
       " 'business': 57098,\n",
       " 'image': 54462,\n",
       " 'know': 54132,\n",
       " 'help': 53397,\n",
       " 'find': 51323,\n",
       " 'world': 51131,\n",
       " 'algorithm': 50310,\n",
       " 'build': 50258,\n",
       " 'base': 50224,\n",
       " 'example': 49978,\n",
       " 'year': 49170,\n",
       " 'customer': 49063,\n",
       " 'look': 48139,\n",
       " 'value': 48069,\n",
       " 'problem': 47756,\n",
       " 'process': 47714,\n",
       " 'start': 47525,\n",
       " 'set': 46204,\n",
       " 'want': 45698,\n",
       " 'information': 44854,\n",
       " 'deep': 44476,\n",
       " 'science': 42718,\n",
       " 'come': 41999,\n",
       " 'thing': 41615,\n",
       " 'different': 41517,\n",
       " 'think': 40901,\n",
       " 'product': 40234,\n",
       " 'service': 39215,\n",
       " 'feature': 39208,\n",
       " 'change': 38784,\n",
       " 'result': 38545,\n",
       " 'provide': 38265,\n",
       " 'let': 37586,\n",
       " 'number': 37361,\n",
       " 'go': 36680,\n",
       " 'google': 36668,\n",
       " 'project': 36262,\n",
       " 'experience': 35983,\n",
       " 'future': 35947,\n",
       " 'understand': 35688,\n",
       " 'mean': 35209,\n",
       " 'computer': 34944,\n",
       " 'well': 34880,\n",
       " 'make': 34726,\n",
       " 'function': 34636,\n",
       " 'team': 34284,\n",
       " 'high': 34039,\n",
       " 'big': 34002,\n",
       " 'give': 33871,\n",
       " 'read': 33593,\n",
       " 'day': 33412,\n",
       " 'point': 33290,\n",
       " 'code': 32470,\n",
       " 'neural': 32198,\n",
       " 'application': 32017,\n",
       " 'tool': 31960,\n",
       " 'question': 31805,\n",
       " 'take': 31428,\n",
       " 'case': 31040,\n",
       " 'right': 30907,\n",
       " 'word': 30057,\n",
       " 'platform': 30052,\n",
       " 'train': 29885,\n",
       " 'real': 29875,\n",
       " 'training': 29618,\n",
       " 'industry': 29285,\n",
       " 'step': 29079,\n",
       " 'follow': 29015,\n",
       " 'research': 28953,\n",
       " 'task': 28899,\n",
       " 'analysis': 28741,\n",
       " 'get': 28298,\n",
       " 'language': 28062,\n",
       " 'solution': 28012,\n",
       " 'design': 27938,\n",
       " 'able': 27746,\n",
       " 'job': 27719,\n",
       " 'dataset': 27651,\n",
       " 'include': 27596,\n",
       " 'try': 27346,\n",
       " 'life': 27021,\n",
       " 'run': 26514,\n",
       " 'post': 26432,\n",
       " 'drive': 26111,\n",
       " 'chatbot': 26099,\n",
       " 'market': 26090,\n",
       " 'great': 25957,\n",
       " 'article': 25881,\n",
       " 'decision': 25819,\n",
       " 'large': 25651,\n",
       " 'test': 25649,\n",
       " 'allow': 25417,\n",
       " 'lot': 25396,\n",
       " 'develop': 25008,\n",
       " 'source': 24841,\n",
       " 'end': 24778,\n",
       " 'robot': 24694,\n",
       " 'python': 24682,\n",
       " 'important': 24657,\n",
       " 'simple': 24635,\n",
       " 'level': 24577,\n",
       " 'app': 24032,\n",
       " 'input': 23649,\n",
       " 'type': 23598,\n",
       " 'predict': 23539,\n",
       " 'software': 23534,\n",
       " 'power': 23379,\n",
       " 'today': 23262,\n",
       " 'development': 22627,\n",
       " 'write': 22612,\n",
       " 'lead': 22572,\n",
       " 'idea': 22533,\n",
       " 'long': 22507,\n",
       " 'say': 22312,\n",
       " 'improve': 22294,\n",
       " 'method': 22208,\n",
       " 'call': 22197,\n",
       " 'easy': 22113,\n",
       " 'approach': 22046,\n",
       " 'increase': 22045,\n",
       " 'order': 21870,\n",
       " 'digital': 21817,\n",
       " 'scientist': 21636,\n",
       " 'online': 21539,\n",
       " 'require': 21449,\n",
       " 'focus': 21431,\n",
       " 'add': 21322,\n",
       " 'open': 21271,\n",
       " 'talk': 21027,\n",
       " 'layer': 20922,\n",
       " 'term': 20901,\n",
       " 'search': 20779,\n",
       " 'course': 20576,\n",
       " 'blockchain': 20567,\n",
       " 'bot': 20115,\n",
       " 'share': 20089,\n",
       " 'smart': 20041,\n",
       " 'text': 19812,\n",
       " 'state': 19800,\n",
       " 'apply': 19683,\n",
       " 'field': 19660,\n",
       " 'support': 19556,\n",
       " 'social': 19503,\n",
       " 'content': 19420,\n",
       " 'output': 19359,\n",
       " 'program': 19310,\n",
       " 'possible': 19292,\n",
       " 'answer': 19262,\n",
       " 'analytic': 18810,\n",
       " 'video': 18808,\n",
       " 'game': 18806,\n",
       " 'generate': 18590,\n",
       " 'ask': 18484,\n",
       " 'solve': 18474,\n",
       " 'see': 18234,\n",
       " 'line': 18229,\n",
       " 'cost': 18143,\n",
       " 'show': 18067,\n",
       " 'prediction': 18034,\n",
       " 'challenge': 17896,\n",
       " 'tech': 17880,\n",
       " 'medium': 17772,\n",
       " 'knowledge': 17675,\n",
       " 'small': 17669,\n",
       " 'fast': 17466,\n",
       " 'voice': 17379,\n",
       " 'device': 17197,\n",
       " 'available': 17142,\n",
       " 'play': 16899,\n",
       " 'group': 16865,\n",
       " 'cloud': 16838,\n",
       " 'face': 16810,\n",
       " 'variable': 16797,\n",
       " 'book': 16736,\n",
       " 'car': 16658,\n",
       " 'place': 16488,\n",
       " 'week': 16477,\n",
       " 'ml': 16477,\n",
       " 'consider': 16472,\n",
       " 'perform': 16470,\n",
       " 'technique': 16448,\n",
       " 'list': 16409,\n",
       " 'offer': 16408,\n",
       " 'form': 16394,\n",
       " 'key': 16369,\n",
       " 'class': 16282,\n",
       " 'identify': 16242,\n",
       " 'file': 16053,\n",
       " 'facebook': 16015,\n",
       " 'issue': 15942,\n",
       " 'access': 15935,\n",
       " 'concept': 15895,\n",
       " 'goal': 15757,\n",
       " 'skill': 15653,\n",
       " 'insight': 15610,\n",
       " 'object': 15593,\n",
       " 'area': 15539,\n",
       " 'event': 15497,\n",
       " 'happen': 15376,\n",
       " 'space': 15327,\n",
       " 'grow': 15302,\n",
       " 'processing': 15075,\n",
       " 'specific': 15038,\n",
       " 'control': 14999,\n",
       " 'bring': 14959,\n",
       " 'marketing': 14948,\n",
       " 'store': 14824,\n",
       " 'self': 14714,\n",
       " 'define': 14666,\n",
       " 'recognition': 14657,\n",
       " 'hand': 14654,\n",
       " 'enable': 14637,\n",
       " 'action': 14630,\n",
       " 'environment': 14630,\n",
       " 'tell': 14574,\n",
       " 'second': 14572,\n",
       " 'rate': 14569,\n",
       " 'performance': 14529,\n",
       " 'etc': 14520,\n",
       " 'ability': 14494,\n",
       " 'free': 14476,\n",
       " 'potential': 14473,\n",
       " 'feel': 14465,\n",
       " 'check': 14434,\n",
       " 'natural': 14357,\n",
       " 'study': 14305,\n",
       " 'brain': 14275,\n",
       " 'impact': 14252,\n",
       " 'assistant': 14142,\n",
       " 'actually': 14126,\n",
       " 'series': 14123,\n",
       " 'pattern': 14103,\n",
       " 'opportunity': 14090,\n",
       " 'similar': 14043,\n",
       " 'developer': 14001,\n",
       " 'fact': 13828,\n",
       " 'exist': 13816,\n",
       " 'have': 13807,\n",
       " 'paper': 13781,\n",
       " 'automation': 13670,\n",
       " 'story': 13638,\n",
       " 'current': 13634,\n",
       " 'present': 13544,\n",
       " 'million': 13535,\n",
       " 'report': 13522,\n",
       " 'consumer': 13510,\n",
       " 'community': 13498,\n",
       " 'complex': 13485,\n",
       " 'amazon': 13395,\n",
       " 'strategy': 13306,\n",
       " 'person': 13236,\n",
       " 'intelligent': 13204,\n",
       " 'trend': 13191,\n",
       " 'organization': 13174,\n",
       " 'turn': 13132,\n",
       " 'tensorflow': 13130,\n",
       " 'basic': 13128,\n",
       " 'early': 13123,\n",
       " 'regression': 13083,\n",
       " 'individual': 13079,\n",
       " 'scale': 12951,\n",
       " 'error': 12919,\n",
       " 'hard': 12909,\n",
       " 'topic': 12860,\n",
       " 'low': 12844,\n",
       " 'expect': 12773,\n",
       " 'note': 12770,\n",
       " 'mind': 12768,\n",
       " 'far': 12763,\n",
       " 'instead': 12737,\n",
       " 'choose': 12727,\n",
       " 'classification': 12676,\n",
       " 'website': 12615,\n",
       " 'live': 12600,\n",
       " 'single': 12554,\n",
       " 'price': 12537,\n",
       " 'benefit': 12528,\n",
       " 'reason': 12482,\n",
       " 'download': 12482,\n",
       " 'view': 12449,\n",
       " 'implement': 12446,\n",
       " 'startup': 12418,\n",
       " 'management': 12385,\n",
       " 'kind': 12340,\n",
       " 'analyze': 12339,\n",
       " 'believe': 12337,\n",
       " 'quality': 12314,\n",
       " 'conversation': 12280,\n",
       " 'automate': 12267,\n",
       " 'connect': 12245,\n",
       " 'internet': 12240,\n",
       " 'link': 12226,\n",
       " 'accuracy': 12196,\n",
       " 'news': 12114,\n",
       " 'sale': 12105,\n",
       " 'explain': 12099,\n",
       " 'linear': 12069,\n",
       " 'vision': 12055,\n",
       " 'figure': 11972,\n",
       " 'home': 11914,\n",
       " 'global': 11896,\n",
       " 'multiple': 11861,\n",
       " 'web': 11810,\n",
       " 'library': 11794,\n",
       " 'decide': 11770,\n",
       " 'represent': 11748,\n",
       " 'parameter': 11737,\n",
       " 'agent': 11727,\n",
       " 'resource': 11709,\n",
       " 'past': 11702,\n",
       " 'label': 11701,\n",
       " 'month': 11693,\n",
       " 'update': 11644,\n",
       " 'x': 11635,\n",
       " 'age': 11620,\n",
       " 'leave': 11615,\n",
       " 'reduce': 11591,\n",
       " 'sample': 11487,\n",
       " 'mobile': 11484,\n",
       " 'interesting': 11472,\n",
       " 'sure': 11471,\n",
       " 'spend': 11451,\n",
       " 'vector': 11442,\n",
       " 'distribution': 11411,\n",
       " 'common': 11408,\n",
       " 'general': 11356,\n",
       " 'begin': 11337,\n",
       " 'continue': 11268,\n",
       " 'innovation': 11250,\n",
       " 'role': 11217,\n",
       " 'risk': 11130,\n",
       " 'simply': 11129,\n",
       " 'understanding': 11105,\n",
       " 'close': 11077,\n",
       " 'target': 10907,\n",
       " 'achieve': 10900,\n",
       " 'student': 10898,\n",
       " 'reach': 10866,\n",
       " 'personal': 10851,\n",
       " 'size': 10851,\n",
       " 'useful': 10834,\n",
       " 'little': 10800,\n",
       " 'expert': 10800,\n",
       " 'pdf': 10782,\n",
       " 'likely': 10746,\n",
       " 'probability': 10719,\n",
       " 'reality': 10670,\n",
       " 'plan': 10645,\n",
       " 'public': 10638,\n",
       " 'rule': 10589,\n",
       " 'measure': 10572,\n",
       " 'accord': 10571,\n",
       " 'security': 10568,\n",
       " 'compare': 10566,\n",
       " 'blog': 10566,\n",
       " 'average': 10500,\n",
       " 'brand': 10442,\n",
       " 'non': 10407,\n",
       " 'matrix': 10352,\n",
       " 'relationship': 10299,\n",
       " 'sense': 10286,\n",
       " 'collect': 10281,\n",
       " 'interaction': 10273,\n",
       " 'r': 10247,\n",
       " 'contain': 10210,\n",
       " 'operation': 10157,\n",
       " 'score': 10144,\n",
       " 'detail': 10120,\n",
       " 'explore': 10115,\n",
       " 'health': 10104,\n",
       " 'complete': 10084,\n",
       " 'structure': 10080,\n",
       " 'weight': 10062,\n",
       " 'produce': 10042,\n",
       " 'review': 10035,\n",
       " 'client': 10028,\n",
       " 'publish': 9905,\n",
       " 'short': 9867,\n",
       " 'certain': 9859,\n",
       " 'financial': 9841,\n",
       " 'save': 9834,\n",
       " 'relate': 9831,\n",
       " 'manage': 9770,\n",
       " 'account': 9769,\n",
       " 'map': 9761,\n",
       " 'api': 9754,\n",
       " 'describe': 9750,\n",
       " 'context': 9730,\n",
       " 'engineer': 9725,\n",
       " 'involve': 9723,\n",
       " 'token': 9699,\n",
       " 'capability': 9694,\n",
       " 'main': 9656,\n",
       " 'column': 9636,\n",
       " 'researcher': 9631,\n",
       " 'university': 9625,\n",
       " 'true': 9616,\n",
       " 'recent': 9573,\n",
       " 'difference': 9553,\n",
       " 'deal': 9500,\n",
       " 'instance': 9432,\n",
       " 'move': 9425,\n",
       " 'graph': 9381,\n",
       " 'range': 9361,\n",
       " 'version': 9341,\n",
       " 'introduce': 9284,\n",
       " 'architecture': 9284,\n",
       " 'major': 9258,\n",
       " 'previous': 9255,\n",
       " 'click': 9254,\n",
       " 'hour': 9231,\n",
       " 'bias': 9226,\n",
       " 'select': 9195,\n",
       " 'virtual': 9181,\n",
       " 'discuss': 9150,\n",
       " 'photo': 9147,\n",
       " 'bad': 9140,\n",
       " 'particular': 9138,\n",
       " 'deliver': 9131,\n",
       " 'late': 9117,\n",
       " 'response': 9104,\n",
       " 'detection': 9097,\n",
       " 'record': 9053,\n",
       " 'loss': 9053,\n",
       " 'email': 9047,\n",
       " 'enterprise': 9041,\n",
       " 'determine': 9026,\n",
       " 'employee': 8997,\n",
       " 'interface': 8967,\n",
       " 'quickly': 8947,\n",
       " 'framework': 8913,\n",
       " 'bit': 8908,\n",
       " 'country': 8884,\n",
       " 'picture': 8850,\n",
       " 'investment': 8842,\n",
       " 'practice': 8821,\n",
       " 'programming': 8816,\n",
       " 'city': 8786,\n",
       " 'send': 8783,\n",
       " 'return': 8782,\n",
       " 'huge': 8773,\n",
       " 'pay': 8769,\n",
       " 'interest': 8733,\n",
       " 'matter': 8731,\n",
       " 'growth': 8723,\n",
       " 'currently': 8704,\n",
       " 'launch': 8702,\n",
       " 'standard': 8696,\n",
       " 'track': 8672,\n",
       " 'patient': 8663,\n",
       " 'recently': 8657,\n",
       " 'clear': 8654,\n",
       " 'category': 8647,\n",
       " 'phone': 8643,\n",
       " 'database': 8626,\n",
       " 'money': 8615,\n",
       " 'receive': 8592,\n",
       " 'statistic': 8574,\n",
       " 'detect': 8549,\n",
       " 'activity': 8526,\n",
       " 'computing': 8521,\n",
       " 'core': 8520,\n",
       " 'behavior': 8495,\n",
       " 'easily': 8483,\n",
       " 'speak': 8482,\n",
       " 'popular': 8482,\n",
       " 'random': 8477,\n",
       " 'positive': 8471,\n",
       " 'transform': 8445,\n",
       " 'purpose': 8428,\n",
       " 'care': 8415,\n",
       " 'hold': 8397,\n",
       " 'page': 8397,\n",
       " 'document': 8391,\n",
       " 'love': 8366,\n",
       " 'introduction': 8336,\n",
       " 'address': 8286,\n",
       " 'forward': 8270,\n",
       " 'fit': 8262,\n",
       " 'thank': 8251,\n",
       " 'guide': 8248,\n",
       " 'twitter': 8247,\n",
       " 'experiment': 8218,\n",
       " 'especially': 8212,\n",
       " 'recommendation': 8208,\n",
       " 'old': 8206,\n",
       " 'iot': 8193,\n",
       " 'technical': 8178,\n",
       " 'speech': 8172,\n",
       " 'meet': 8162,\n",
       " 'factor': 8134,\n",
       " 'replace': 8133,\n",
       " 'government': 8125,\n",
       " 'relevant': 8125,\n",
       " 'generation': 8120,\n",
       " 'autonomous': 8117,\n",
       " 'engine': 8093,\n",
       " 'ensure': 8090,\n",
       " 'billion': 8074,\n",
       " 'probably': 8073,\n",
       " 'demand': 8060,\n",
       " 'plot': 8052,\n",
       " 'buy': 8050,\n",
       " 'player': 8045,\n",
       " 'box': 8044,\n",
       " 'feed': 8025,\n",
       " 'predictive': 8020,\n",
       " 'message': 8014,\n",
       " 'engineering': 8011,\n",
       " 'advanced': 8001,\n",
       " 'combine': 7993,\n",
       " 'healthcare': 7969,\n",
       " 'thought': 7963,\n",
       " 'success': 7962,\n",
       " 'option': 7948,\n",
       " 'effort': 7944,\n",
       " 'join': 7908,\n",
       " 'robotic': 7905,\n",
       " 'gradient': 7896,\n",
       " 'imagine': 7881,\n",
       " 'hope': 7867,\n",
       " 'communication': 7859,\n",
       " 'advantage': 7807,\n",
       " 'watch': 7805,\n",
       " 'gain': 7801,\n",
       " 'release': 7791,\n",
       " 'speed': 7786,\n",
       " 'miss': 7755,\n",
       " 'conference': 7717,\n",
       " 'difficult': 7715,\n",
       " 'center': 7715,\n",
       " 'stage': 7703,\n",
       " 'professional': 7684,\n",
       " 'later': 7661,\n",
       " 'location': 7660,\n",
       " 'effect': 7645,\n",
       " 'sound': 7622,\n",
       " 'away': 7611,\n",
       " 'table': 7604,\n",
       " 'position': 7600,\n",
       " 'friend': 7578,\n",
       " 'item': 7547,\n",
       " 'hear': 7541,\n",
       " 'traditional': 7535,\n",
       " 'teach': 7534,\n",
       " 'art': 7522,\n",
       " 'query': 7512,\n",
       " 'powerful': 7508,\n",
       " 'mention': 7503,\n",
       " 'cover': 7500,\n",
       " 'society': 7481,\n",
       " 'calculate': 7455,\n",
       " 'win': 7449,\n",
       " 'node': 7440,\n",
       " 'pass': 7432,\n",
       " 'component': 7412,\n",
       " 'match': 7412,\n",
       " 'recognize': 7395,\n",
       " 'domain': 7390,\n",
       " 'tree': 7370,\n",
       " 'apple': 7339,\n",
       " 'microsoft': 7333,\n",
       " 'outcome': 7311,\n",
       " 'history': 7304,\n",
       " 'head': 7286,\n",
       " 'stop': 7286,\n",
       " 'trust': 7272,\n",
       " 'soon': 7240,\n",
       " 'medical': 7237,\n",
       " 'integrate': 7226,\n",
       " 'education': 7212,\n",
       " 'significant': 7205,\n",
       " 'unique': 7193,\n",
       " 'metric': 7191,\n",
       " 'pretty': 7189,\n",
       " 'vehicle': 7163,\n",
       " 'finally': 7150,\n",
       " 'cause': 7124,\n",
       " 'handle': 7112,\n",
       " 'drone': 7108,\n",
       " 'strong': 7106,\n",
       " 'serve': 7098,\n",
       " 'package': 7089,\n",
       " 'advance': 7065,\n",
       " 'partner': 7063,\n",
       " 'ibm': 7046,\n",
       " 'channel': 7036,\n",
       " 'usually': 7033,\n",
       " 'path': 7018,\n",
       " 'highly': 7011,\n",
       " 'interact': 7009,\n",
       " 'break': 7008,\n",
       " 'visual': 7006,\n",
       " 'leverage': 7002,\n",
       " 'pre': 6988,\n",
       " 'implementation': 6969,\n",
       " 'extract': 6965,\n",
       " 'aim': 6954,\n",
       " 'depend': 6954,\n",
       " 'interested': 6934,\n",
       " 'element': 6928,\n",
       " 'policy': 6923,\n",
       " 'progress': 6917,\n",
       " 'cluster': 6905,\n",
       " 'entire': 6900,\n",
       " 'founder': 6900,\n",
       " 'school': 6881,\n",
       " 'limit': 6875,\n",
       " 'memory': 6855,\n",
       " 'edge': 6851,\n",
       " 'total': 6850,\n",
       " 'efficient': 6815,\n",
       " 'ago': 6812,\n",
       " 'y': 6808,\n",
       " 'choice': 6796,\n",
       " 'visualization': 6763,\n",
       " 'b': 6753,\n",
       " 'movie': 6753,\n",
       " 'suggest': 6746,\n",
       " 'compute': 6735,\n",
       " 'leader': 6731,\n",
       " 'lose': 6718,\n",
       " 'neuron': 6696,\n",
       " 'aspect': 6690,\n",
       " 'transaction': 6688,\n",
       " 'attention': 6684,\n",
       " 'effective': 6681,\n",
       " 'final': 6677,\n",
       " 'credit': 6660,\n",
       " 'name': 6652,\n",
       " 'alexa': 6648,\n",
       " 'notebook': 6629,\n",
       " 'member': 6621,\n",
       " 'filter': 6620,\n",
       " 'one': 6617,\n",
       " 'command': 6611,\n",
       " 'sell': 6603,\n",
       " 'ceo': 6590,\n",
       " 'rise': 6571,\n",
       " 'minute': 6560,\n",
       " 'original': 6554,\n",
       " 'piece': 6546,\n",
       " 'china': 6532,\n",
       " 'ready': 6530,\n",
       " 'nlp': 6510,\n",
       " 'man': 6502,\n",
       " 'classifier': 6493,\n",
       " 'accurate': 6482,\n",
       " 'pick': 6476,\n",
       " 'directly': 6468,\n",
       " 'estimate': 6468,\n",
       " 'local': 6461,\n",
       " 'chat': 6440,\n",
       " 'date': 6417,\n",
       " 'author': 6403,\n",
       " 'optimize': 6391,\n",
       " 'collection': 6385,\n",
       " 'situation': 6376,\n",
       " 'deploy': 6356,\n",
       " 'sector': 6355,\n",
       " 'shape': 6355,\n",
       " 'theory': 6340,\n",
       " 'feedback': 6334,\n",
       " 'remain': 6324,\n",
       " 'manager': 6320,\n",
       " 'daily': 6315,\n",
       " 'representation': 6312,\n",
       " 'chain': 6308,\n",
       " 'stay': 6295,\n",
       " 'scenario': 6295,\n",
       " 'capture': 6286,\n",
       " 'fully': 6271,\n",
       " 'e': 6266,\n",
       " 'refer': 6266,\n",
       " 'classify': 6232,\n",
       " 'quick': 6231,\n",
       " 'act': 6217,\n",
       " 'invest': 6202,\n",
       " 'recommend': 6173,\n",
       " 'sentence': 6171,\n",
       " 'yes': 6147,\n",
       " 'statistical': 6147,\n",
       " 'moment': 6146,\n",
       " 'evolve': 6144,\n",
       " 'exactly': 6139,\n",
       " 'site': 6109,\n",
       " 'negative': 6105,\n",
       " 'camera': 6105,\n",
       " 'ad': 6103,\n",
       " 'request': 6100,\n",
       " 'reward': 6099,\n",
       " 'near': 6072,\n",
       " 'production': 6072,\n",
       " 'economy': 6052,\n",
       " 'sign': 6043,\n",
       " 'music': 6033,\n",
       " 'perspective': 6032,\n",
       " 'discover': 6029,\n",
       " 'cognitive': 6014,\n",
       " 'bank': 6012,\n",
       " 'competition': 6004,\n",
       " 'law': 6002,\n",
       " 'building': 5999,\n",
       " 'will': 5996,\n",
       " 'thousand': 5980,\n",
       " 'format': 5963,\n",
       " 'chance': 5959,\n",
       " 'appear': 5959,\n",
       " 'testing': 5947,\n",
       " 'maybe': 5936,\n",
       " 'co': 5931,\n",
       " 'necessary': 5915,\n",
       " 'gpu': 5899,\n",
       " 'economic': 5869,\n",
       " 'emerge': 5861,\n",
       " 'concern': 5861,\n",
       " 'wrong': 5857,\n",
       " 'modern': 5856,\n",
       " 'energy': 5854,\n",
       " 'decade': 5847,\n",
       " 'interview': 5843,\n",
       " 'audience': 5831,\n",
       " 'lack': 5828,\n",
       " 'actual': 5828,\n",
       " 'sort': 5823,\n",
       " 'force': 5801,\n",
       " 'visit': 5798,\n",
       " 'shift': 5790,\n",
       " 'wide': 5776,\n",
       " 'enter': 5737,\n",
       " 'sensor': 5731,\n",
       " 'automatically': 5694,\n",
       " 'distribute': 5692,\n",
       " 'purchase': 5690,\n",
       " 'realize': 5684,\n",
       " 'nature': 5681,\n",
       " 'keep': 5677,\n",
       " 'remember': 5666,\n",
       " 'assume': 5651,\n",
       " 'technological': 5640,\n",
       " 'github': 5633,\n",
       " 'eye': 5632,\n",
       " 'critical': 5630,\n",
       " 'addition': 5618,\n",
       " 'journey': 5615,\n",
       " 'light': 5610,\n",
       " 'successful': 5609,\n",
       " 'condition': 5606,\n",
       " 'character': 5597,\n",
       " 'zero': 5593,\n",
       " 'unit': 5592,\n",
       " 'remove': 5589,\n",
       " 'tutorial': 5583,\n",
       " 'signal': 5580,\n",
       " 'transformation': 5572,\n",
       " 'row': 5571,\n",
       " 'draw': 5551,\n",
       " 'affect': 5550,\n",
       " 'evaluate': 5550,\n",
       " 'privacy': 5549,\n",
       " 'hardware': 5549,\n",
       " 'efficiency': 5543,\n",
       " 'connection': 5536,\n",
       " 'comment': 5519,\n",
       " 'subject': 5513,\n",
       " 'population': 5492,\n",
       " 'part': 5481,\n",
       " 'discussion': 5477,\n",
       " 'analyst': 5471,\n",
       " 'child': 5464,\n",
       " 'infrastructure': 5447,\n",
       " 'fall': 5444,\n",
       " 'flow': 5438,\n",
       " 'convert': 5431,\n",
       " 'sentiment': 5421,\n",
       " 'investor': 5417,\n",
       " 'prove': 5401,\n",
       " 'fail': 5399,\n",
       " 'correct': 5398,\n",
       " 'announce': 5395,\n",
       " 'dimension': 5383,\n",
       " 'optimization': 5382,\n",
       " 'block': 5376,\n",
       " 'background': 5342,\n",
       " 'woman': 5301,\n",
       " 'couple': 5299,\n",
       " 'hire': 5294,\n",
       " 'perfect': 5280,\n",
       " 'sequence': 5272,\n",
       " 'completely': 5256,\n",
       " 'worker': 5255,\n",
       " 'revolution': 5250,\n",
       " 'server': 5248,\n",
       " 'overall': 5238,\n",
       " 'reinforcement': 5236,\n",
       " 'claim': 5234,\n",
       " 'wait': 5225,\n",
       " 'definition': 5214,\n",
       " 'house': 5206,\n",
       " 'physical': 5191,\n",
       " 'career': 5191,\n",
       " 'combination': 5181,\n",
       " 'cross': 5180,\n",
       " 'mining': 5180,\n",
       " 'avoid': 5171,\n",
       " 'ecosystem': 5164,\n",
       " 'm': 5162,\n",
       " 'rely': 5156,\n",
       " 'load': 5145,\n",
       " 'multi': 5135,\n",
       " 'body': 5127,\n",
       " 'property': 5124,\n",
       " 'asset': 5094,\n",
       " 'attempt': 5080,\n",
       " 'emotion': 5072,\n",
       " 'objective': 5069,\n",
       " 'exchange': 5061,\n",
       " 'entity': 5061,\n",
       " 'lab': 5056,\n",
       " 'chart': 5052,\n",
       " 'stock': 5012,\n",
       " 'watson': 5004,\n",
       " 'traffic': 5003,\n",
       " 'room': 5000,\n",
       " 'color': 4987,\n",
       " 'firm': 4969,\n",
       " 'retail': 4956,\n",
       " 'party': 4954,\n",
       " 'engage': 4948,\n",
       " 'utilize': 4946,\n",
       " 'operate': 4932,\n",
       " 'install': 4932,\n",
       " 'prepare': 4921,\n",
       " 'practical': 4920,\n",
       " 'black': 4903,\n",
       " 'improvement': 4903,\n",
       " 'creative': 4897,\n",
       " 'office': 4894,\n",
       " 'fix': 4886,\n",
       " 'frame': 4886,\n",
       " 'trade': 4884,\n",
       " 'possibility': 4884,\n",
       " 'direction': 4875,\n",
       " 'candidate': 4868,\n",
       " 'thinking': 4868,\n",
       " 'distance': 4862,\n",
       " 'driver': 4853,\n",
       " 'originally': 4852,\n",
       " 'inside': 4835,\n",
       " 'fundamental': 4825,\n",
       " 'revenue': 4825,\n",
       " 'conversational': 4824,\n",
       " 'convolutional': 4816,\n",
       " 'associate': 4814,\n",
       " 'trading': 4813,\n",
       " 'style': 4811,\n",
       " 'communicate': 4803,\n",
       " 'enhance': 4795,\n",
       " 'provider': 4792,\n",
       " 'transfer': 4784,\n",
       " 'supply': 4768,\n",
       " 'travel': 4758,\n",
       " 'push': 4754,\n",
       " 'contract': 4751,\n",
       " 'variety': 4746,\n",
       " 'additional': 4742,\n",
       " 'basis': 4735,\n",
       " 'influence': 4721,\n",
       " 'host': 4716,\n",
       " 'raise': 4716,\n",
       " 'rest': 4710,\n",
       " 'stand': 4708,\n",
       " 'capable': 4703,\n",
       " 'session': 4697,\n",
       " 'worth': 4671,\n",
       " 'valuable': 4664,\n",
       " 'initial': 4658,\n",
       " 'occur': 4657,\n",
       " 'speaker': 4655,\n",
       " 'notice': 4651,\n",
       " 'fund': 4643,\n",
       " 'section': 4630,\n",
       " 'volume': 4622,\n",
       " 'reference': 4617,\n",
       " 'respond': 4614,\n",
       " 'k': 4606,\n",
       " 'cell': 4603,\n",
       " 'degree': 4600,\n",
       " 'massive': 4596,\n",
       " 'increasingly': 4595,\n",
       " 'count': 4592,\n",
       " 'screen': 4578,\n",
       " 'requirement': 4573,\n",
       " 'gather': 4567,\n",
       " 'panda': 4567,\n",
       " 'separate': 4564,\n",
       " 'percent': 4547,\n",
       " 'master': 4526,\n",
       " 'enjoy': 4500,\n",
       " 'array': 4498,\n",
       " 'survey': 4491,\n",
       " 'road': 4488,\n",
       " 'net': 4473,\n",
       " 'expand': 4467,\n",
       " 'script': 4467,\n",
       " 'period': 4465,\n",
       " 'index': 4448,\n",
       " 'display': 4445,\n",
       " 'doctor': 4445,\n",
       " 'smartphone': 4438,\n",
       " 'import': 4438,\n",
       " 'campaign': 4430,\n",
       " 'obtain': 4427,\n",
       " 'dynamic': 4425,\n",
       " 'd': 4422,\n",
       " 'industrial': 4418,\n",
       " 'equation': 4412,\n",
       " 'highlight': 4406,\n",
       " 'attribute': 4406,\n",
       " 'correlation': 4403,\n",
       " 'integration': 4400,\n",
       " 'augment': 4394,\n",
       " 'drop': 4392,\n",
       " 'insurance': 4391,\n",
       " 'observation': 4391,\n",
       " 'walk': 4385,\n",
       " 'humanity': 4367,\n",
       " 'creation': 4363,\n",
       " 'contact': 4359,\n",
       " 'principle': 4347,\n",
       " 'cryptocurrency': 4345,\n",
       " 'monitor': 4341,\n",
       " 'profile': 4333,\n",
       " 'complexity': 4317,\n",
       " 'cut': 4311,\n",
       " 'fun': 4310,\n",
       " 'amazing': 4299,\n",
       " 'talent': 4297,\n",
       " 'culture': 4292,\n",
       " 'clean': 4285,\n",
       " 'conclusion': 4281,\n",
       " 'keras': 4281,\n",
       " 'private': 4276,\n",
       " 'direct': 4272,\n",
       " 'family': 4269,\n",
       " 'pixel': 4268,\n",
       " 'storage': 4266,\n",
       " 'custom': 4264,\n",
       " 'fill': 4259,\n",
       " 'validation': 4252,\n",
       " 'activation': 4248,\n",
       " 'basically': 4246,\n",
       " 'establish': 4244,\n",
       " 'importance': 4218,\n",
       " 'engagement': 4209,\n",
       " 'c': 4207,\n",
       " 'title': 4195,\n",
       " 'disease': 4164,\n",
       " 'cnn': 4146,\n",
       " 'ahead': 4140,\n",
       " 'opinion': 4135,\n",
       " 'foundation': 4134,\n",
       " 'pipeline': 4124,\n",
       " 'listen': 4120,\n",
       " 'jupyter': 4111,\n",
       " 'adapt': 4105,\n",
       " 'observe': 4103,\n",
       " 'meaning': 4101,\n",
       " 'extremely': 4099,\n",
       " 'touch': 4092,\n",
       " 'contribute': 4091,\n",
       " 'maintain': 4088,\n",
       " 'hit': 4087,\n",
       " 'truly': 4086,\n",
       " 'capital': 4080,\n",
       " ...}"
      ]
     },
     "execution_count": 20,
     "metadata": {
      "tags": []
     },
     "output_type": "execute_result"
    }
   ],
   "source": [
    "sort_dict(tokenizer.corpus)\n",
    "#sort_dict(tokenizer.oov) # out-of-vocabulary"
   ]
  },
  {
   "cell_type": "markdown",
   "metadata": {
    "colab_type": "text",
    "id": "zTvgy-rz12pG"
   },
   "source": [
    "### Length of articles in words\n",
    "\n",
    "Length of articles in words is another (extracted) feature that we can further use for the analysis. Some simple summary statistics are reported below.\n",
    "\n",
    "_NOTE/LIMITATION: Reported article lenghts are after input texts for the tokenizer were truncated to 5000 characters._"
   ]
  },
  {
   "cell_type": "code",
   "execution_count": null,
   "metadata": {
    "colab": {},
    "colab_type": "code",
    "executionInfo": {
     "elapsed": 1617,
     "status": "aborted",
     "timestamp": 1597388091295,
     "user": {
      "displayName": "Gleb Zhidkov",
      "photoUrl": "https://lh3.googleusercontent.com/a-/AOh14GhxfJzUwgmsmanA2jq59QhUF0o850l2N9yvgdM-8g=s64",
      "userId": "07389285725153387427"
     },
     "user_tz": -120
    },
    "id": "xAY-TNFIvLOF",
    "outputId": "584f4936-0e52-47fe-ad15-d372062c7b4c"
   },
   "outputs": [
    {
     "name": "stdout",
     "output_type": "stream",
     "text": [
      "Article length: \n",
      "- train: 0 ... mean: 333 .. 755 \n",
      "- test:  5 ... mean: 276 .. 481 \n",
      "\n"
     ]
    }
   ],
   "source": [
    "print(f'Article length: \\n'\n",
    "      f'- train: {min(train2[\"Words\"])} ... mean: {int(np.mean(train2[\"Words\"]))} .. {max(train2[\"Words\"])} \\n'\n",
    "      f'- test:  {min(test[\"Words\"])} ... mean: {int(np.mean(test[\"Words\"]))} .. {max(test[\"Words\"])} \\n')"
   ]
  },
  {
   "cell_type": "code",
   "execution_count": null,
   "metadata": {
    "colab": {},
    "colab_type": "code",
    "id": "4Cy2dLls12pK"
   },
   "outputs": [],
   "source": [
    "del train_target2, train2, test"
   ]
  },
  {
   "cell_type": "markdown",
   "metadata": {
    "colab_type": "text",
    "id": "lpzuFTIdvLOU"
   },
   "source": [
    "---\n",
    "# MODELING\n",
    "\n",
    "Before moving on with the actual search for the \"best\" model, let us first define how the performance is to be measured.\n",
    "\n",
    "__Performance evaluation__:\n",
    "\n",
    "The majority of articles have a relatively small number of claps, which is likely to be mirrored by the range of predictions turning out to be lower than the range of true values. If the prediction algorithm is to be used as a business application, one may want to punish prediction errors for articles with a low number of claps in a different way than for the more successful articles. \n",
    "\n",
    "When using the most commonly applied regression metric, the *Mean Square Error* (MSE), the error is quadratically increasing with the size of the prediction error. As such, an article with 10000 true likes and 5000 predicted will have a MSE _much_ higher (5000^2) than an article with 5 true likes and 50 predicted (45^2). For the extremely left skewed target feature, MSE would deliver a strongly biased evaluation of model performance. (At the same time, when trying different modeling approaches, MSE has proven to perform as the best model loss.)\n",
    "\n",
    "*Mean Absolute Error* (MAE) offers a better interpretability of model performance by answering the question \"What is the average deviation of the prediction from true values?\". Yet it is also biased towards larger values and does not provide a balanced view on the model performance. \n",
    "\n",
    "Hence, a weighted metric could be an appropriate solution for the problem at hand. A *weighted MAE* with the weight equal to $\\frac{1}{true_i + 1}$ will assign relatively higher errors to low true values and relatively lower errors to high true values, so that data distribution is directly accounted for when evaluating the prediction accuracy. For the examplary articles used above, the article with 10000 true likes and 5000 predicted will be assigned an error of 0.5 only whereas the article with 5 true likes and 50 predicted will receive an error of 7.5. In other words, this metric requres higher prediction accuracy for the vast majority of articles with lower number of claps rather than for the more successful articles.\n",
    "\n",
    "None of the metrics discussed so far provide a fair insight into whether the model has any explanatory value. We will use the *R2 statistic* as an additional criteria for model evaluation. Different to the (classic) linear regression, R2 for neural networks is not bound to the range between 0 and 1, it can also be indefinitely less than zero, indicating that the model has less explanatory value than a mean value prediction.\n",
    "\n",
    "Given that the MSE will be used as model loss, using a mixture of the wMAE and R2 to evaluate model performance will act as a somewhat independent model audit. \n",
    "\n",
    "**Performance metrics:**\n",
    "\n",
    "$\\text{MSE} = \\frac{1}{n} \\sum{(true_i - predicted_i)^2}$\n",
    "\n",
    "$\\text{MAE} = \\frac{1}{n} \\sum{|true_i - predicted_i|}$\n",
    "\n",
    "$\\text{wMAE} = \\frac{1}{n} \\sum{\\frac{|true_i - predicted_i|}{1 + true_i}}$\n",
    "\n",
    "$r^2 = \\frac{\\text{explained variance}}{\\text{total variance}}$"
   ]
  },
  {
   "cell_type": "markdown",
   "metadata": {
    "colab_type": "text",
    "id": "B6ltynGnvLOQ"
   },
   "source": [
    "## Preparing for modeling\n",
    "\n",
    "It is finally time to split the original \"train\" dataset into train and test (25%) data for the modeling. \n",
    "\n",
    "Upper bound outliers in numeric variables will be replaced using the custom `ReplaceOutliers` class based on the mean of the train data plus three standard deviations ([Three-Sigma-Rule](https://en.wikipedia.org/wiki/68%E2%80%9395%E2%80%9399.7_rule)).\n",
    "\n",
    "An instance of another custom class, `Models`, will serve as a place to store computed predictions and performance evaluations of all fitted models.\n",
    "\n",
    "For all models, negative predictions (if any) will be replaced with zeroes."
   ]
  },
  {
   "cell_type": "code",
   "execution_count": 47,
   "metadata": {
    "colab": {
     "base_uri": "https://localhost:8080/",
     "height": 340
    },
    "colab_type": "code",
    "executionInfo": {
     "elapsed": 9126,
     "status": "ok",
     "timestamp": 1597746598712,
     "user": {
      "displayName": "Gleb Zhidkov",
      "photoUrl": "https://lh3.googleusercontent.com/a-/AOh14GhxfJzUwgmsmanA2jq59QhUF0o850l2N9yvgdM-8g=s64",
      "userId": "07389285725153387427"
     },
     "user_tz": -120
    },
    "id": "im4OhSisvLOQ",
    "outputId": "0295a4c9-ca13-4c1b-9e7f-483544fd6efb"
   },
   "outputs": [
    {
     "name": "stdout",
     "output_type": "stream",
     "text": [
      "Loaded from local storage.\n",
      "Replacing outliers in train data:\n",
      "SincePublished: 3582 values replaced with the upper bound of 396\n",
      "Responses: 969 values replaced with the upper bound of 6\n",
      "Images: 2342 values replaced with the upper bound of 12\n",
      "Links: 1734 values replaced with the upper bound of 25\n",
      "Length: 2939 values replaced with the upper bound of 13059\n",
      "Words: 80 values replaced with the upper bound of 538\n",
      "Readability: 344 values replaced with the upper bound of 66\n",
      "\n",
      "Replacing outliers in test data:\n",
      "SincePublished: 1277 values replaced with the upper bound of 396\n",
      "Responses: 338 values replaced with the upper bound of 6\n",
      "Images: 813 values replaced with the upper bound of 12\n",
      "Links: 565 values replaced with the upper bound of 25\n",
      "Length: 970 values replaced with the upper bound of 13059\n",
      "Words: 24 values replaced with the upper bound of 538\n",
      "Readability: 97 values replaced with the upper bound of 66\n",
      "\n",
      "Train dataset has 49605 articles and test 16536.\n",
      "Train vectorized texts have dimensions (49605, 100, 300) and test (16536, 100, 300).\n",
      "\n",
      "Saved locally.\n",
      "\n"
     ]
    }
   ],
   "source": [
    "#################\n",
    "#TESTING = True\n",
    "TESTING = False\n",
    "#################\n",
    "\n",
    "from sklearn.model_selection import train_test_split\n",
    "replacer = ReplaceOutliers() # this one is customly defined\n",
    "\n",
    "\n",
    "# load data created previously:\n",
    "with open(DIR + 'ready_for_analysis.pkl', 'rb') as f:\n",
    "    train_target3, train3, test3, word_vectors = pickle.load(f)\n",
    "print('Loaded from local storage.')\n",
    "\n",
    "\n",
    "# reset indexes\n",
    "train3.reset_index(drop=True, inplace=True)\n",
    "train_target3.reset_index(drop=True, inplace=True)\n",
    "\n",
    "\n",
    "# make small subset for testing:\n",
    "if TESTING is True:\n",
    "    drop1, train3, drop2, train_target3 = train_test_split(train3, train_target3, \n",
    "                                                           test_size=0.1, random_state=1825)\n",
    "    print('USING SMALL SUBSET ONLY')\n",
    "\n",
    "\n",
    "# split data into train and test:\n",
    "X_train, X_test, y_train, y_test = train_test_split(train3, train_target3,\n",
    "                                                    test_size=0.25, random_state=1825)\n",
    "\n",
    "# replace outliers:\n",
    "print('Replacing outliers in train data:')\n",
    "X_train = replacer.fit_transform(X_train)\n",
    "print('\\nReplacing outliers in test data:')\n",
    "X_test = replacer.transform(X_test)\n",
    "\n",
    "\n",
    "#split text into train and test:\n",
    "W_train = word_vectors['train'][X_train.index,]\n",
    "W_test = word_vectors['train'][X_test.index,]\n",
    "\n",
    "print(f'\\nTrain dataset has {X_train.shape[0]} articles and test {X_test.shape[0]}.')\n",
    "print(f'Train vectorized texts have dimensions {W_train.shape} and test {W_test.shape}.\\n')\n",
    "\n",
    "\n",
    "# save:\n",
    "with open(DIR + 'data_for_modeling.pkl', 'wb') as f:\n",
    "    pickle.dump([X_train, X_test, y_train, y_test, W_train, W_test], f)\n",
    "print('Saved locally.\\n')\n",
    "\n",
    "# save to use the same parameters for the final prediction:\n",
    "with open(DIR + 'replacer_ub.pkl', 'wb') as f:\n",
    "    pickle.dump(replacer.ub, f)"
   ]
  },
  {
   "cell_type": "code",
   "execution_count": 256,
   "metadata": {
    "colab": {
     "base_uri": "https://localhost:8080/",
     "height": 34
    },
    "colab_type": "code",
    "executionInfo": {
     "elapsed": 118827,
     "status": "ok",
     "timestamp": 1598277476650,
     "user": {
      "displayName": "Gleb Zhidkov",
      "photoUrl": "https://lh3.googleusercontent.com/a-/AOh14GhxfJzUwgmsmanA2jq59QhUF0o850l2N9yvgdM-8g=s64",
      "userId": "07389285725153387427"
     },
     "user_tz": -120
    },
    "id": "gC6UdfmL12pU",
    "outputId": "4d06cdb1-ebb7-4f91-f69d-4b1e601960c2"
   },
   "outputs": [
    {
     "name": "stdout",
     "output_type": "stream",
     "text": [
      "Loaded from local storage.\n"
     ]
    }
   ],
   "source": [
    "# re-load if required:\n",
    "with open(DIR + 'data_for_modeling.pkl', 'rb') as f:\n",
    "    X_train, X_test, y_train, y_test, W_train, W_test = pickle.load(f)\n",
    "print('Loaded from local storage.')"
   ]
  },
  {
   "cell_type": "code",
   "execution_count": 257,
   "metadata": {
    "colab": {},
    "colab_type": "code",
    "executionInfo": {
     "elapsed": 116590,
     "status": "ok",
     "timestamp": 1598277476652,
     "user": {
      "displayName": "Gleb Zhidkov",
      "photoUrl": "https://lh3.googleusercontent.com/a-/AOh14GhxfJzUwgmsmanA2jq59QhUF0o850l2N9yvgdM-8g=s64",
      "userId": "07389285725153387427"
     },
     "user_tz": -120
    },
    "id": "xEKW3yue12pa"
   },
   "outputs": [],
   "source": [
    "NUMVARS = ('SincePublished', 'Responses', 'Images', 'Links', 'Words', 'Readability')\n",
    "TEXTVARS = ('Text')\n",
    "\n",
    "models = Models(true_train = y_train, true_test = y_test)"
   ]
  },
  {
   "cell_type": "code",
   "execution_count": 291,
   "metadata": {
    "scrolled": true
   },
   "outputs": [
    {
     "name": "stdout",
     "output_type": "stream",
     "text": [
      "Saved locally.\n",
      "\n"
     ]
    }
   ],
   "source": [
    "# using this cell to save intermidiary results every now and then...\n",
    "\n",
    "#models.save(DIR + 'MODELS_30aug.pkl')"
   ]
  },
  {
   "cell_type": "markdown",
   "metadata": {
    "colab_type": "text",
    "id": "ZWKoJkmZvLOX"
   },
   "source": [
    "## 1. Benchmarks: train mean / median\n",
    "\n",
    "To start with, two simple benchmarks: predicting all values equal to the mean (110) and median (6 claps) of the train data. By definition of R2, the former will have R2 equal zero. \n",
    "\n",
    "Noticeably, if evaluating models only by the wMAE, no model will be able to beat the median prediction. Nonetheless, it is no good model according to a negative R2 statistic."
   ]
  },
  {
   "cell_type": "code",
   "execution_count": 258,
   "metadata": {
    "colab": {},
    "colab_type": "code",
    "id": "6M8E6E70vLOX",
    "outputId": "34e0f54e-5c30-40f1-96e9-ac6d2723e076"
   },
   "outputs": [
    {
     "name": "stdout",
     "output_type": "stream",
     "text": [
      "Train dataset has 110 claps on average.\n",
      "\n",
      "wMAE - train: 108.99, test: 109.01. Current rank: 1 \n",
      "mae  - train: 153.56, test: 154.88\n",
      "mse  - train: 136817.41, test: 150765.29\n",
      "r2   - train: -0.0, test: -0.0\n"
     ]
    }
   ],
   "source": [
    "train_mean = int(np.mean(y_train))\n",
    "print(f'Train dataset has {train_mean} claps on average.\\n')\n",
    "\n",
    "models.add(\n",
    "    name = 'train_mean',\n",
    "    model = train_mean,\n",
    "    pred_train = np.full((1, len(y_train)), train_mean).reshape(-1,),\n",
    "    pred_test = np.full((1, len(y_test)), train_mean).reshape(-1,)\n",
    ")\n",
    "\n",
    "#models.visualize('train_mean')"
   ]
  },
  {
   "cell_type": "code",
   "execution_count": 259,
   "metadata": {},
   "outputs": [
    {
     "name": "stdout",
     "output_type": "stream",
     "text": [
      "Train dataset has 6 claps on average.\n",
      "\n",
      "wMAE - train: 6.49, test: 6.47. Current rank: 1 \n",
      "mae  - train: 109.66, test: 110.41\n",
      "mse  - train: 147736.1, test: 161819.38\n",
      "r2   - train: -0.08, test: -0.07\n"
     ]
    }
   ],
   "source": [
    "train_median = int(np.median(y_train))\n",
    "print(f'Train dataset has {train_median} claps on average.\\n')\n",
    "\n",
    "models.add(\n",
    "    name = 'train_median',\n",
    "    model = train_median,\n",
    "    pred_train = np.full((1, len(y_train)), train_median).reshape(-1,),\n",
    "    pred_test = np.full((1, len(y_test)), train_median).reshape(-1,)\n",
    ")"
   ]
  },
  {
   "cell_type": "markdown",
   "metadata": {
    "colab_type": "text",
    "id": "puVTR6yDvLOZ"
   },
   "source": [
    "## 2. No textual data considered: linear regression\n",
    "\n",
    "A simple model to start with: a linear regression on the 6 numeric features, which are standardized by removing the mean and scaling them to unit variance."
   ]
  },
  {
   "cell_type": "code",
   "execution_count": 239,
   "metadata": {},
   "outputs": [
    {
     "name": "stdout",
     "output_type": "stream",
     "text": [
      "('SincePublished', 'Responses', 'Images', 'Links', 'Words', 'Readability')\n"
     ]
    }
   ],
   "source": [
    "print(NUMVARS)"
   ]
  },
  {
   "cell_type": "code",
   "execution_count": 260,
   "metadata": {},
   "outputs": [
    {
     "name": "stdout",
     "output_type": "stream",
     "text": [
      "wMAE - train: 26.9, test: 26.77. Current rank: 2 \n",
      "mae  - train: 105.43, test: 105.33\n",
      "mse  - train: 82177.71, test: 89891.34\n",
      "r2   - train: 0.4, test: 0.4\n",
      "Elapsed: 0 seconds.\n"
     ]
    }
   ],
   "source": [
    "from sklearn.preprocessing import StandardScaler\n",
    "from sklearn.linear_model import LinearRegression\n",
    "from sklearn.feature_extraction.text import CountVectorizer, TfidfTransformer\n",
    "\n",
    "def passthrough(doc):\n",
    "    return doc\n",
    "\n",
    "def removedots(doc):\n",
    "    return [t for t in doc if t != \".\"]\n",
    "\n",
    "def nonnegative(a):\n",
    "    return np.where(a<0, 0, a)\n",
    "\n",
    "\n",
    "selector = ColumnTransformer([('selector', 'passthrough', NUMVARS)], remainder='drop')\n",
    "scaler = StandardScaler()\n",
    "reg = LinearRegression()\n",
    "\n",
    "pipe2 = Pipeline([('var_selector', selector),\n",
    "                  ('scaler', scaler), \n",
    "                  ('regressor', reg)])\n",
    "\n",
    "models.time()\n",
    "models.add(\n",
    "    name = 'no_text',\n",
    "    model = pipe2.fit(X_train, y_train),\n",
    "    pred_train = nonnegative(pipe2.predict(X_train)),\n",
    "    pred_test = nonnegative(pipe2.predict(X_test))\n",
    ")"
   ]
  },
  {
   "cell_type": "code",
   "execution_count": 261,
   "metadata": {
    "colab": {},
    "colab_type": "code",
    "id": "gPXlE-jkvLOb",
    "outputId": "c8b27431-d20a-46ad-9aa9-f2ecc0ab7a97"
   },
   "outputs": [
    {
     "name": "stdout",
     "output_type": "stream",
     "text": [
      "no_text - train: 0 .. 111 .. 1303\n",
      "no_text - test: 0 .. 110 .. 1302\n"
     ]
    },
    {
     "data": {
      "image/png": "[encoded data removed]",
      "text/plain": [
       "<Figure size 1152x360 with 2 Axes>"
      ]
     },
     "metadata": {
      "needs_background": "light"
     },
     "output_type": "display_data"
    }
   ],
   "source": [
    "models.distr('no_text')\n",
    "models.visualize('no_text', zscores=True)"
   ]
  },
  {
   "cell_type": "markdown",
   "metadata": {},
   "source": [
    "As it was expected, range of predicted values is less than the actual range of true claps. This simple model reaches a relatively good R2 value of 40% but, judging by the plots above, it does not really learn much about the data structure. Would these results improve if we add some naive representation of the textual data?"
   ]
  },
  {
   "attachments": {},
   "cell_type": "markdown",
   "metadata": {
    "colab_type": "text",
    "id": "xoiVouvTvLOg"
   },
   "source": [
    "## 3. Lasso regression: numeric + Tf-Idf Text\n",
    "\n",
    "In addition to standardized numeric features, this model accepts a tf-idf normalized bag-of-word. In other words, for each article, frequency of each occuring word is calculated and weighted against the inverse of its frequency in all of the articles. \n",
    "\n",
    "The final layer of the model is a penalized Lasso regression, which shrinks coefficients of non-relevant features to zero. (It has performed better than Ridge and Elastic Net regressions; I acknowledge that I did not invest much time into their fine-tuning, so that better results than with Lasso could have been theoretically achieved).\n",
    "\n",
    "Schematically, the model can be represented as follows:\n",
    "\n",
    "![lasso](https://drive.google.com/uc?export=view&id=1IawiDGwSQHS23-BaS6Z40bIA_FWkhrFY)"
   ]
  },
  {
   "cell_type": "code",
   "execution_count": 328,
   "metadata": {
    "colab": {},
    "colab_type": "code",
    "id": "V2P0ay7i12qF",
    "outputId": "501634fc-2e54-4e62-b4f1-ffdc6b55a6ff"
   },
   "outputs": [],
   "source": [
    "# Numeric variables > Normalization             ) > Lasso\n",
    "# Text > Vectorization > Tf-Idf transformation  )\n",
    "\n",
    "from sklearn.feature_extraction.text import CountVectorizer, TfidfTransformer\n",
    "from sklearn.preprocessing import StandardScaler\n",
    "from sklearn.linear_model import Lasso\n",
    "\n",
    "def passthrough(doc):\n",
    "    # https://stackoverflow.com/questions/35867484/pass-tokens-to-countvectorizer\n",
    "    return doc\n",
    "\n",
    "def removedots(doc): \n",
    "    # we only need these dots for transformers, not here\n",
    "    return [t for t in doc if t != \".\"]\n",
    "\n",
    "\n",
    "bow_vector = CountVectorizer(min_df=10, ngram_range=(1,1),\n",
    "                             tokenizer=removedots, preprocessor=passthrough)\n",
    "\n",
    "tf_idf_vector = TfidfTransformer()\n",
    "scaler = StandardScaler()\n",
    "lasso = Lasso(max_iter=1000)\n",
    "\n",
    "\n",
    "textual_pipe = Pipeline([('vectorizer', bow_vector), ('normalizer', tf_idf_vector)])\n",
    "\n",
    "preparation = ColumnTransformer([('text', textual_pipe, TEXTVARS), \n",
    "                                 ('num', scaler, NUMVARS)],\n",
    "                                remainder ='drop')"
   ]
  },
  {
   "cell_type": "code",
   "execution_count": 329,
   "metadata": {
    "scrolled": true
   },
   "outputs": [
    {
     "name": "stdout",
     "output_type": "stream",
     "text": [
      "wMAE - train: 27.07, test: 26.93. Current rank: 5 \n",
      "mae  - train: 105.3, test: 105.19\n",
      "mse  - train: 82191.68, test: 89917.98\n",
      "r2   - train: 0.4, test: 0.4\n",
      "Elapsed: 44 seconds.\n"
     ]
    }
   ],
   "source": [
    "pipe3 = Pipeline([('preparation', preparation), ('regressor', lasso)])\n",
    "\n",
    "models.time()\n",
    "models.add(name = 'lasso_all',\n",
    "           model = pipe3.fit(X_train, y_train),\n",
    "           pred_train = nonnegative(pipe3.predict(X_train)),\n",
    "           pred_test = nonnegative(pipe3.predict(X_test))\n",
    ")"
   ]
  },
  {
   "cell_type": "code",
   "execution_count": 264,
   "metadata": {
    "colab": {},
    "colab_type": "code",
    "id": "aogUapYm12qL",
    "outputId": "f3bedab3-f481-479c-dde7-fbec5b49db7d",
    "scrolled": false
   },
   "outputs": [
    {
     "name": "stdout",
     "output_type": "stream",
     "text": [
      "lasso_all - train: 0 .. 110 .. 1294\n",
      "lasso_all - test: 0 .. 110 .. 1294\n"
     ]
    },
    {
     "data": {
      "image/png": "[encoded data removed]",
      "text/plain": [
       "<Figure size 1152x360 with 2 Axes>"
      ]
     },
     "metadata": {
      "needs_background": "light"
     },
     "output_type": "display_data"
    }
   ],
   "source": [
    "models.distr('lasso_all')\n",
    "models.visualize('lasso_all', zscores=True)"
   ]
  },
  {
   "cell_type": "markdown",
   "metadata": {},
   "source": [
    "Well, it was worth a try. The results are very similar to the ones of the linear regression without any text knowledge, and no evidence for an improvement can be found based on the plots or performance metrics. "
   ]
  },
  {
   "attachments": {},
   "cell_type": "markdown",
   "metadata": {},
   "source": [
    "## 4. Random forest\n",
    "\n",
    "This model follows the intuition of the previous one, replacing the final step in the pipeline with a random forest.\n",
    "\n",
    "![rf](https://drive.google.com/uc?export=view&id=1AkxFIpjeRQxew-crkQSTBarZKGrU7-6f)"
   ]
  },
  {
   "cell_type": "code",
   "execution_count": 23,
   "metadata": {},
   "outputs": [
    {
     "name": "stdout",
     "output_type": "stream",
     "text": [
      "wMAE - train: 12.11, test: 33.5. Current rank: 2 \n",
      "mae  - train: 39.36, test: 101.89\n",
      "mse  - train: 14245.76, test: 85368.65\n",
      "r2   - train: 0.9, test: 0.43\n",
      "Elapsed: 5264 seconds.\n"
     ]
    }
   ],
   "source": [
    "# Numeric variables > Normalization             ) > RandomForest\n",
    "# Text > Vectorization > Tf-Idf transformation  )\n",
    "\n",
    "from sklearn.ensemble import RandomForestRegressor\n",
    "rf = RandomForestRegressor(n_estimators=10)\n",
    "\n",
    "pipe4 = Pipeline([('preparation', preparation), ('regressor', rf)])\n",
    "\n",
    "models.time() # ca. 8 min per tree when running locally\n",
    "models.add(name = 'rf_all',\n",
    "           model = pipe4.fit(X_train, y_train),\n",
    "           pred_train = pipe4.predict(X_train),\n",
    "           pred_test = pipe4.predict(X_test)\n",
    ")"
   ]
  },
  {
   "cell_type": "code",
   "execution_count": 268,
   "metadata": {},
   "outputs": [
    {
     "name": "stdout",
     "output_type": "stream",
     "text": [
      "rf_all - train: 0 .. 109 .. 5186\n",
      "rf_all - test: 0 .. 109 .. 3464\n"
     ]
    },
    {
     "data": {
      "image/png": "[encoded data removed]",
      "text/plain": [
       "<Figure size 1152x360 with 2 Axes>"
      ]
     },
     "metadata": {
      "needs_background": "light"
     },
     "output_type": "display_data"
    }
   ],
   "source": [
    "models.distr('rf_all')\n",
    "models.visualize('rf_all', zscores=True)"
   ]
  },
  {
   "cell_type": "markdown",
   "metadata": {},
   "source": [
    "Sadly, the random forest without further adjustments is overfitting the train data. Nonetheless, there is some evidence that it is capable of understanding data structure better than regression algorithms, reaching a somewhat higher R2 and lower MAE and MSE.\n",
    "\n",
    "Possibly, fine-tuning the random forest and its impurity as well as growing more trees may significantly improve results and make it the best-performing model. For the given data, this can be relatively expensive, as e.g. growing 100 trees would take ca. 13 hours without parallelization (which is not fully implemented in sklearn).\n",
    "\n",
    "Instead, we will focus on neural networks."
   ]
  },
  {
   "attachments": {},
   "cell_type": "markdown",
   "metadata": {},
   "source": [
    "## 5. CNN\n",
    "\n",
    "As already discussed in the lecture in great detail, convolutional neural networks (CNN) offer a state-of-art solution when it comes to recognition of image patterns. They can as well be applied to learn patterns in natural language, and in my personal opinion they offer a much more elegant and intuitive solution to such problems in terms of model design compared to LSTM and RNN, which historically are a more common choice for NLP tasks.\n",
    "\n",
    "Hence, the following several models will utilize different CNN architectures in an attempt to learn more information from the textual data from Medium.com articles to improve the prediction quality. As a first inspiration, I am following the modeling approach of [Zhang & Wallace 2015](https://arxiv.org/pdf/1510.03820.pdf), who use 2 filters of size 2, 3, and 4 words, which are then passed through a max pooling layer and concatenated with one other before being passed on to a classification layer.\n",
    "\n",
    "As it can be seen on the diagram below, the selected design of the model differs in many ways. Selected filter sizes range from 1 to 4 words, and for each filter size there exist 5 filters. The idea behind this is to learn more patterns in data that may have an impact on the popularity of the article resulting in more claps. The output of the CNN layers is then concatenated, passed through a global max pool layer to reduce dimensionality, and passed through a dropout layer (droupout rate of 0.5) to prevent model overfitting. In the next step, data is pased through a 5 filter dense layer and another dropout layer before the final prediction is fitted in a 1-filter dense layer with a linear activation. \n",
    "\n",
    "![cnn5](https://drive.google.com/uc?export=view&id=1IQlc0bWy8aNyPekJEACB-wnWHBr2ICh6)\n",
    "\n",
    "A choice of other architectures was examined, however, these models did not reach acceptable results and are therefore not reported in this notebook.\n",
    "\n",
    "Having prepared vectorized text representations (Glove embeddings) while preparing textual data with spaCy, the process of training CNNs is surprisingly trivial and quick, with ca. 1.2 minutes per epoch. Nonetheless, for the current data (with reduced precision level and only 100 words per article) it requires more than 12 GB of RAM, so that training can't be performed using the free Colab version."
   ]
  },
  {
   "cell_type": "code",
   "execution_count": 92,
   "metadata": {
    "collapsed": true
   },
   "outputs": [
    {
     "name": "stdout",
     "output_type": "stream",
     "text": [
      "Model: \"cnn5\"\n",
      "__________________________________________________________________________________________________\n",
      "Layer (type)                    Output Shape         Param #     Connected to                     \n",
      "==================================================================================================\n",
      "doc (InputLayer)                [(None, 100, 300)]   0                                            \n",
      "__________________________________________________________________________________________________\n",
      "conv_1_5 (Conv1D)               (None, 100, 5)       1505        doc[0][0]                        \n",
      "__________________________________________________________________________________________________\n",
      "conv_2_5 (Conv1D)               (None, 100, 5)       3005        doc[0][0]                        \n",
      "__________________________________________________________________________________________________\n",
      "conv_3_5 (Conv1D)               (None, 100, 5)       4505        doc[0][0]                        \n",
      "__________________________________________________________________________________________________\n",
      "conv_4_5 (Conv1D)               (None, 100, 5)       6005        doc[0][0]                        \n",
      "__________________________________________________________________________________________________\n",
      "concatenate_to_100x15 (Concaten (None, 100, 20)      0           conv_1_5[0][0]                   \n",
      "                                                                 conv_2_5[0][0]                   \n",
      "                                                                 conv_3_5[0][0]                   \n",
      "                                                                 conv_4_5[0][0]                   \n",
      "__________________________________________________________________________________________________\n",
      "max_pool_to_15 (GlobalMaxPoolin (None, 20)           0           concatenate_to_100x15[0][0]      \n",
      "__________________________________________________________________________________________________\n",
      "dropout (Dropout)               (None, 20)           0           max_pool_to_15[0][0]             \n",
      "__________________________________________________________________________________________________\n",
      "dense_to_5 (Dense)              (None, 5)            105         dropout[0][0]                    \n",
      "__________________________________________________________________________________________________\n",
      "dropout2 (Dropout)              (None, 5)            0           dense_to_5[0][0]                 \n",
      "__________________________________________________________________________________________________\n",
      "dense_to_1 (Dense)              (None, 1)            6           dropout2[0][0]                   \n",
      "==================================================================================================\n",
      "Total params: 15,131\n",
      "Trainable params: 15,131\n",
      "Non-trainable params: 0\n",
      "__________________________________________________________________________________________________\n"
     ]
    }
   ],
   "source": [
    "import keras\n",
    "from keras import layers\n",
    "\n",
    "# model partially follows Zhang & Wallace 2015\n",
    "# https://cloud.githubusercontent.com/assets/11842615/25828679/df9dc5c6-3451-11e7-9792-c8fa32dd920f.png\n",
    "\n",
    "n_filters_conv = 5\n",
    "n_filters_dense = 5\n",
    "droupout_rate = 0.5\n",
    "\n",
    "\n",
    "# convolutional part with varying filters:\n",
    "conv_input = keras.Input(shape=(100, 300), name=\"doc\")\n",
    "conv_layer = []\n",
    "\n",
    "for filter_size in (1, 2, 3, 4):\n",
    "    c = layers.Conv1D(n_filters_conv, filter_size, \n",
    "                      padding='same', \n",
    "                      activation='relu', \n",
    "                      name=f'conv_{filter_size}_{n_filters_conv}')(conv_input)\n",
    "    conv_layer.append(c)\n",
    "\n",
    "# concatenate:\n",
    "c = layers.Concatenate(name=f'concatenate_to_100x{n_filters_conv*3}')(conv_layer)\n",
    "c = layers.GlobalMaxPooling1D(name=f'max_pool_to_{n_filters_conv*3}')(c)\n",
    "\n",
    "# dense layers:\n",
    "c = layers.Dropout(droupout_rate, name='dropout')(c)\n",
    "c = layers.Dense(n_filters_dense, activation='relu', name=f'dense_to_{n_filters_dense}')(c)\n",
    "c = layers.Dropout(droupout_rate, name='dropout2')(c)\n",
    "c = layers.Dense(1, activation='linear', name='dense_to_1')(c)\n",
    "\n",
    "# build model:\n",
    "cnn5 = keras.Model(conv_input, c, name='cnn5')\n",
    "cnn5.compile(loss='mean_squared_error')\n",
    "\n",
    "cnn5.summary()\n",
    "#keras.utils.plot_model(cnn5, show_shapes=False)"
   ]
  },
  {
   "cell_type": "code",
   "execution_count": 93,
   "metadata": {
    "scrolled": true
   },
   "outputs": [
    {
     "name": "stdout",
     "output_type": "stream",
     "text": [
      "Epoch 1/50\n",
      "311/311 - 57s - loss: 145266.0000 - val_loss: 126920.1641\n",
      "Epoch 2/50\n",
      "311/311 - 70s - loss: 142587.2812 - val_loss: 125992.7031\n",
      "Epoch 3/50\n",
      "311/311 - 64s - loss: 142331.1250 - val_loss: 126038.4688\n",
      "Epoch 4/50\n",
      "311/311 - 53s - loss: 142116.7031 - val_loss: 125783.9375\n",
      "Epoch 5/50\n",
      "311/311 - 53s - loss: 141485.9375 - val_loss: 125956.6719\n",
      "Epoch 6/50\n",
      "311/311 - 48s - loss: 141340.5156 - val_loss: 125757.9141\n",
      "Epoch 7/50\n",
      "311/311 - 49s - loss: 141241.0000 - val_loss: 125049.3594\n",
      "Epoch 8/50\n",
      "311/311 - 48s - loss: 141085.0156 - val_loss: 124989.2734\n",
      "Epoch 9/50\n",
      "311/311 - 54s - loss: 140307.4688 - val_loss: 124716.9531\n",
      "Epoch 10/50\n",
      "311/311 - 45s - loss: 139675.7188 - val_loss: 124501.8594\n",
      "Epoch 11/50\n",
      "311/311 - 50s - loss: 139604.1406 - val_loss: 124517.0703\n",
      "Epoch 12/50\n",
      "311/311 - 51s - loss: 139746.9062 - val_loss: 124202.2812\n",
      "Epoch 13/50\n",
      "311/311 - 43s - loss: 139171.8906 - val_loss: 123995.1641\n",
      "Epoch 14/50\n",
      "311/311 - 53s - loss: 139198.5625 - val_loss: 124442.3203\n",
      "Epoch 15/50\n",
      "311/311 - 47s - loss: 139360.4688 - val_loss: 123969.0781\n",
      "Epoch 16/50\n",
      "311/311 - 46s - loss: 138750.0312 - val_loss: 123991.3203\n",
      "Epoch 17/50\n",
      "311/311 - 63s - loss: 138534.3125 - val_loss: 123705.6094\n",
      "Epoch 18/50\n",
      "311/311 - 55s - loss: 138504.7500 - val_loss: 123719.5703\n",
      "Epoch 19/50\n",
      "311/311 - 53s - loss: 137999.5312 - val_loss: 123807.0547\n",
      "Epoch 20/50\n",
      "311/311 - 59s - loss: 137658.4688 - val_loss: 124042.3750\n",
      "Epoch 21/50\n",
      "311/311 - 50s - loss: 137062.7969 - val_loss: 123715.2031\n",
      "Epoch 22/50\n",
      "311/311 - 45s - loss: 136876.7812 - val_loss: 123371.3281\n",
      "Epoch 23/50\n",
      "311/311 - 48s - loss: 136277.9844 - val_loss: 123065.0234\n",
      "Epoch 24/50\n",
      "311/311 - 45s - loss: 136155.1719 - val_loss: 123417.8906\n",
      "Epoch 25/50\n",
      "311/311 - 43s - loss: 136369.8281 - val_loss: 123253.7656\n",
      "Epoch 26/50\n",
      "311/311 - 58s - loss: 135687.9375 - val_loss: 123385.2500\n",
      "Epoch 27/50\n",
      "311/311 - 46s - loss: 136058.9375 - val_loss: 123091.7578\n",
      "Epoch 28/50\n",
      "311/311 - 47s - loss: 135312.9844 - val_loss: 123069.7734\n",
      "Epoch 29/50\n",
      "311/311 - 45s - loss: 134711.6406 - val_loss: 122810.0859\n",
      "Epoch 30/50\n",
      "311/311 - 45s - loss: 134071.3281 - val_loss: 122665.7266\n",
      "Epoch 31/50\n",
      "311/311 - 51s - loss: 134042.9062 - val_loss: 122764.0234\n",
      "Epoch 32/50\n",
      "311/311 - 49s - loss: 133527.4375 - val_loss: 122775.0312\n",
      "Epoch 33/50\n",
      "311/311 - 56s - loss: 133472.4375 - val_loss: 123112.4922\n",
      "Epoch 34/50\n",
      "311/311 - 47s - loss: 133354.3281 - val_loss: 122966.9609\n",
      "Epoch 35/50\n",
      "311/311 - 45s - loss: 132617.6406 - val_loss: 123133.6250\n",
      "Epoch 36/50\n",
      "311/311 - 58s - loss: 132625.2812 - val_loss: 122666.3672\n",
      "Epoch 37/50\n",
      "311/311 - 58s - loss: 130720.4375 - val_loss: 122919.8047\n",
      "Epoch 38/50\n",
      "311/311 - 62s - loss: 131902.2656 - val_loss: 123524.2578\n",
      "Epoch 39/50\n",
      "311/311 - 58s - loss: 132027.1250 - val_loss: 123091.9375\n",
      "Epoch 40/50\n",
      "311/311 - 52s - loss: 130704.0859 - val_loss: 123119.2109\n",
      "Epoch 41/50\n",
      "311/311 - 49s - loss: 131293.5781 - val_loss: 122830.5625\n",
      "Epoch 42/50\n",
      "311/311 - 50s - loss: 129706.5156 - val_loss: 122579.9375\n",
      "Epoch 43/50\n",
      "311/311 - 56s - loss: 130352.4062 - val_loss: 123185.0391\n",
      "Epoch 44/50\n",
      "311/311 - 63s - loss: 129786.7656 - val_loss: 123056.8984\n",
      "Epoch 45/50\n",
      "311/311 - 66s - loss: 128870.9062 - val_loss: 123540.7188\n",
      "Epoch 46/50\n",
      "311/311 - 66s - loss: 128563.4375 - val_loss: 123499.2656\n",
      "Epoch 47/50\n",
      "311/311 - 54s - loss: 129051.2344 - val_loss: 122998.2734\n",
      "Epoch 48/50\n",
      "311/311 - 54s - loss: 127329.5625 - val_loss: 123916.0391\n",
      "Epoch 49/50\n",
      "311/311 - 53s - loss: 127333.9531 - val_loss: 123807.8906\n",
      "Epoch 50/50\n",
      "311/311 - 58s - loss: 126531.1250 - val_loss: 122772.8359\n",
      "INFO:tensorflow:Assets written to: cnn_5/assets\n"
     ]
    },
    {
     "data": {
      "image/png": "[encoded data removed]",
      "text/plain": [
       "<Figure size 432x288 with 1 Axes>"
      ]
     },
     "metadata": {
      "needs_background": "light"
     },
     "output_type": "display_data"
    },
    {
     "name": "stdout",
     "output_type": "stream",
     "text": [
      "wMAE - train: 62.61, test: 68.5. Current rank: 4 \n",
      "mae  - train: 125.54, test: 134.93\n",
      "mse  - train: 119278.06, test: 146644.31\n",
      "r2   - train: 0.13, test: 0.03\n",
      "Elapsed: 2905 seconds.\n"
     ]
    }
   ],
   "source": [
    "models.time() # measuring total time\n",
    "\n",
    "callbacks = [keras.collbacks.EarlyStopping(patience=3, restore_best_weights=True),\n",
    "             keras.collbacks.CSVLogger('training_cnn5.log')]\n",
    "\n",
    "cnn_history = cnn5.fit(\n",
    "    x = W_train, \n",
    "    y = y_train,\n",
    "    epochs = 50, \n",
    "    validation_split = 0.2,\n",
    "    batch_size = 128, \n",
    "    #callbacks = callbacks, # no early stopping in this model; add it in consequent models\n",
    "    verbose=2)\n",
    "\n",
    "\n",
    "keras.models.save_model(\n",
    "    cnn5, filepath='cnn_5', overwrite=True, include_optimizer=True, save_format=None,\n",
    "    signatures=None, options=None)\n",
    "\n",
    "plt.plot(cnn_history.history['loss'])\n",
    "plt.plot(cnn_history.history['val_loss'])\n",
    "plt.legend(['train', 'validation'], loc='best')\n",
    "plt.title('MSE')\n",
    "plt.show()\n",
    "\n",
    "models.add(\n",
    "    name = 'cnn_5',\n",
    "    model = None, # storing model externally, see https://stackoverflow.com/a/52691785/12451060\n",
    "    pred_train = cnn5.predict(W_train),\n",
    "    pred_test = cnn5.predict(W_test)\n",
    ")"
   ]
  },
  {
   "cell_type": "code",
   "execution_count": 94,
   "metadata": {
    "scrolled": true
   },
   "outputs": [
    {
     "data": {
      "image/png": "[encoded data removed]",
      "text/plain": [
       "<Figure size 1152x360 with 2 Axes>"
      ]
     },
     "metadata": {
      "needs_background": "light"
     },
     "output_type": "display_data"
    }
   ],
   "source": [
    "models.visualize('cnn_5', zscores=True)"
   ]
  },
  {
   "cell_type": "markdown",
   "metadata": {},
   "source": [
    "Despite a relatively good wMAE, it does not seem that this model was able to learn many patterns in data. Overfitting may be a potential problem here, so that early stopping will be implemented for the next models. \n",
    "\n",
    "One other interesting enhancement is to add numeric features as additional inputs to the model. We will do this in the consequent models."
   ]
  },
  {
   "attachments": {},
   "cell_type": "markdown",
   "metadata": {},
   "source": [
    "## 6. Mixed input model\n",
    "\n",
    "Luckily, Keras allows for a very flexible design of a neural network, and it is almost trivial to design a mixed input model. The following model accepts vectorized text, which is then passed through a CNN with 20 filters of sizes 1 to 4, after which it is concatenated and max pooled. Numeric features pass a dense layer with 10 filters, after which they are concatenated with the outputs of the CNN part of the model, followed by a droupout layer to reduce overfitting, another dense layer with 10 filters, and another droupout layer. The model is concluded with a final dense layer with 1 filter and a linear activation.\n",
    "\n",
    "For this and the consequent models, an early stopping is enforced if for more than two epochs the validation loss (as measured by the MSE) is not decreasing.\n",
    "\n",
    "![mixed1](https://drive.google.com/uc?export=view&id=1rBYXzQFrCJVUIXUJM7EMekpP4bryCLYs)\n",
    "\n",
    "_(Numbers in grey indicate the output dimensions of each layer)_"
   ]
  },
  {
   "cell_type": "code",
   "execution_count": 382,
   "metadata": {
    "collapsed": true
   },
   "outputs": [
    {
     "name": "stdout",
     "output_type": "stream",
     "text": [
      "Model: \"mixed1\"\n",
      "__________________________________________________________________________________________________\n",
      "Layer (type)                    Output Shape         Param #     Connected to                     \n",
      "==================================================================================================\n",
      "doc (InputLayer)                [(None, 100, 300)]   0                                            \n",
      "__________________________________________________________________________________________________\n",
      "conv_1_5 (Conv1D)               (None, 100, 5)       1505        doc[0][0]                        \n",
      "__________________________________________________________________________________________________\n",
      "conv_2_5 (Conv1D)               (None, 100, 5)       3005        doc[0][0]                        \n",
      "__________________________________________________________________________________________________\n",
      "conv_3_5 (Conv1D)               (None, 100, 5)       4505        doc[0][0]                        \n",
      "__________________________________________________________________________________________________\n",
      "conv_4_5 (Conv1D)               (None, 100, 5)       6005        doc[0][0]                        \n",
      "__________________________________________________________________________________________________\n",
      "concatenate_to_100x20 (Concaten (None, 100, 20)      0           conv_1_5[0][0]                   \n",
      "                                                                 conv_2_5[0][0]                   \n",
      "                                                                 conv_3_5[0][0]                   \n",
      "                                                                 conv_4_5[0][0]                   \n",
      "__________________________________________________________________________________________________\n",
      "num_features (InputLayer)       [(None, 6)]          0                                            \n",
      "__________________________________________________________________________________________________\n",
      "max_pool_to_20 (GlobalMaxPoolin (None, 20)           0           concatenate_to_100x20[0][0]      \n",
      "__________________________________________________________________________________________________\n",
      "num_to_10 (Dense)               (None, 10)           70          num_features[0][0]               \n",
      "__________________________________________________________________________________________________\n",
      "conv_plus_num (Concatenate)     (None, 30)           0           max_pool_to_20[0][0]             \n",
      "                                                                 num_to_10[0][0]                  \n",
      "__________________________________________________________________________________________________\n",
      "dropout (Dropout)               (None, 30)           0           conv_plus_num[0][0]              \n",
      "__________________________________________________________________________________________________\n",
      "dense_to_10 (Dense)             (None, 10)           310         dropout[0][0]                    \n",
      "__________________________________________________________________________________________________\n",
      "dropout2 (Dropout)              (None, 10)           0           dense_to_10[0][0]                \n",
      "__________________________________________________________________________________________________\n",
      "dense_to_1 (Dense)              (None, 1)            11          dropout2[0][0]                   \n",
      "==================================================================================================\n",
      "Total params: 15,411\n",
      "Trainable params: 15,411\n",
      "Non-trainable params: 0\n",
      "__________________________________________________________________________________________________\n"
     ]
    }
   ],
   "source": [
    "# simply defining two inputs and eventually concatenating them\n",
    "# nice\n",
    "\n",
    "import keras\n",
    "from keras import layers\n",
    "\n",
    "# model partially follows Zhang & Wallace 2015\n",
    "# https://cloud.githubusercontent.com/assets/11842615/25828679/df9dc5c6-3451-11e7-9792-c8fa32dd920f.png\n",
    "\n",
    "n_filters_conv = 5\n",
    "n_filters_dense = 10\n",
    "droupout_rate = 0.5\n",
    "\n",
    "\n",
    "# convolutional part with varying filters:\n",
    "conv_input = keras.Input(shape=(100, 300), name=\"doc\")\n",
    "conv_layer = []\n",
    "\n",
    "for filter_size in (1, 2, 3, 4):\n",
    "    c = layers.Conv1D(n_filters_conv, filter_size, \n",
    "                      padding='same', \n",
    "                      activation='relu', \n",
    "                      name=f'conv_{filter_size}_{n_filters_conv}')(conv_input)\n",
    "    conv_layer.append(c)\n",
    "\n",
    "# concatenate:\n",
    "c = layers.Concatenate(name=f'concatenate_to_100x{n_filters_conv*4}')(conv_layer)\n",
    "c = layers.GlobalMaxPooling1D(name=f'max_pool_to_{n_filters_conv*4}')(c)\n",
    "\n",
    "# add numeric part:\n",
    "num_input = keras.Input(shape=(len(NUMVARS)), name=\"num_features\")\n",
    "d = layers.Dense(n_filters_dense, activation='relu', name=f'num_to_{n_filters_dense}')(num_input)\n",
    "c = layers.Concatenate(name='conv_plus_num')([c, d])\n",
    "\n",
    "# dense layers:\n",
    "c = layers.Dropout(droupout_rate, name='dropout')(c)\n",
    "c = layers.Dense(n_filters_dense, activation='relu', name=f'dense_to_{n_filters_dense}')(c)\n",
    "c = layers.Dropout(droupout_rate, name='dropout2')(c)\n",
    "c = layers.Dense(1, activation='linear', name='dense_to_1')(c)\n",
    "\n",
    "# build model:\n",
    "mixed = keras.Model([conv_input, num_input], c, name='mixed1')\n",
    "mixed.compile(loss='mean_squared_error')\n",
    "\n",
    "\n",
    "mixed.summary()\n",
    "#keras.utils.plot_model(mixed, show_shapes=False)"
   ]
  },
  {
   "cell_type": "code",
   "execution_count": 154,
   "metadata": {},
   "outputs": [
    {
     "name": "stdout",
     "output_type": "stream",
     "text": [
      "Epoch 00028: early stopping\n",
      "INFO:tensorflow:Assets written to: mixed/assets\n"
     ]
    },
    {
     "data": {
      "image/png": "[encoded data removed]",
      "text/plain": [
       "<Figure size 432x288 with 1 Axes>"
      ]
     },
     "metadata": {
      "needs_background": "light"
     },
     "output_type": "display_data"
    },
    {
     "name": "stdout",
     "output_type": "stream",
     "text": [
      "wMAE - train: 21.52, test: 21.98. Current rank: 2 \n",
      "mae  - train: 92.49, test: 93.81\n",
      "mse  - train: 95611.39, test: 107177.45\n",
      "r2   - train: 0.3, test: 0.29\n",
      "Elapsed: 1646 seconds.\n"
     ]
    }
   ],
   "source": [
    "models.time() # measuring total time\n",
    "\n",
    "callbacks = [keras.callbacks.EarlyStopping(patience=3, restore_best_weights=False, verbose=2),\n",
    "             keras.callbacks.CSVLogger(DIR + 'training_mixed.log')]\n",
    "\n",
    "cnn_history = mixed.fit(\n",
    "    x = [W_train, X_train[list(NUMVARS)]], \n",
    "    y = y_train,\n",
    "    epochs = 50, \n",
    "    validation_split = 0.2,\n",
    "    batch_size = 128, \n",
    "    callbacks = callbacks, \n",
    "    verbose=0)\n",
    "\n",
    "\n",
    "keras.models.save_model(\n",
    "    mixed, filepath=DIR + 'mixed', overwrite=True, include_optimizer=True, save_format=None,\n",
    "    signatures=None, options=None)\n",
    "\n",
    "plt.plot(cnn_history.history['loss'])\n",
    "plt.plot(cnn_history.history['val_loss'])\n",
    "plt.legend(['train', 'validation'], loc='best')\n",
    "plt.title('MSE')\n",
    "plt.show()\n",
    "\n",
    "\n",
    "models.add(\n",
    "    name = 'mixed',\n",
    "    model = None, # storing model externally, see https://stackoverflow.com/a/52691785/12451060\n",
    "    pred_train = nonnegative(mixed.predict([W_train, X_train[list(NUMVARS)]])),\n",
    "    pred_test = nonnegative(mixed.predict([W_test, X_test[list(NUMVARS)]]))\n",
    ")"
   ]
  },
  {
   "cell_type": "code",
   "execution_count": 162,
   "metadata": {
    "scrolled": false
   },
   "outputs": [
    {
     "name": "stdout",
     "output_type": "stream",
     "text": [
      "mixed - train: 3 .. 53 .. 1011\n",
      "mixed - test: 4 .. 53 .. 965\n"
     ]
    },
    {
     "data": {
      "image/png": "[encoded data removed]",
      "text/plain": [
       "<Figure size 1152x360 with 2 Axes>"
      ]
     },
     "metadata": {
      "needs_background": "light"
     },
     "output_type": "display_data"
    }
   ],
   "source": [
    "models.visualize('mixed', zscores=True)\n",
    "models.distr('mixed')"
   ]
  },
  {
   "cell_type": "markdown",
   "metadata": {},
   "source": [
    "This is far from a perfect result but it is quite good! Seems like this model can learn something about our data and decrease our wMAE further (despite a somewhat lower R2 statistic). Can we change the architecture of the neural network to improve the fit?"
   ]
  },
  {
   "attachments": {},
   "cell_type": "markdown",
   "metadata": {},
   "source": [
    "## 7. Mixed input 2\n",
    "\n",
    "The main difference of this model to the previous one is that it does not allow for a straight-forward dropout from the CNN part of the model but fully preserves its output until the dense layer. Will it perform better?\n",
    "\n",
    "![mixed2](https://drive.google.com/uc?export=view&id=1GLeAlGs0CsRQfAZlTF5EpG5_56E4uWxx)\n",
    "\n",
    "_(Numbers in grey indicate the output dimensions of each layer)_"
   ]
  },
  {
   "cell_type": "code",
   "execution_count": 383,
   "metadata": {
    "collapsed": true
   },
   "outputs": [
    {
     "name": "stdout",
     "output_type": "stream",
     "text": [
      "Model: \"mixed1\"\n",
      "__________________________________________________________________________________________________\n",
      "Layer (type)                    Output Shape         Param #     Connected to                     \n",
      "==================================================================================================\n",
      "doc (InputLayer)                [(None, 100, 300)]   0                                            \n",
      "__________________________________________________________________________________________________\n",
      "conv_1_5 (Conv1D)               (None, 100, 5)       1505        doc[0][0]                        \n",
      "__________________________________________________________________________________________________\n",
      "conv_2_5 (Conv1D)               (None, 100, 5)       3005        doc[0][0]                        \n",
      "__________________________________________________________________________________________________\n",
      "conv_3_5 (Conv1D)               (None, 100, 5)       4505        doc[0][0]                        \n",
      "__________________________________________________________________________________________________\n",
      "conv_4_5 (Conv1D)               (None, 100, 5)       6005        doc[0][0]                        \n",
      "__________________________________________________________________________________________________\n",
      "num_features (InputLayer)       [(None, 6)]          0                                            \n",
      "__________________________________________________________________________________________________\n",
      "concatenate_to_100x20 (Concaten (None, 100, 20)      0           conv_1_5[0][0]                   \n",
      "                                                                 conv_2_5[0][0]                   \n",
      "                                                                 conv_3_5[0][0]                   \n",
      "                                                                 conv_4_5[0][0]                   \n",
      "__________________________________________________________________________________________________\n",
      "num_to_10 (Dense)               (None, 10)           70          num_features[0][0]               \n",
      "__________________________________________________________________________________________________\n",
      "max_pool_to_20 (GlobalMaxPoolin (None, 20)           0           concatenate_to_100x20[0][0]      \n",
      "__________________________________________________________________________________________________\n",
      "dropout (Dropout)               (None, 10)           0           num_to_10[0][0]                  \n",
      "__________________________________________________________________________________________________\n",
      "conv_plus_num (Concatenate)     (None, 30)           0           max_pool_to_20[0][0]             \n",
      "                                                                 dropout[0][0]                    \n",
      "__________________________________________________________________________________________________\n",
      "dense_to_10 (Dense)             (None, 10)           310         conv_plus_num[0][0]              \n",
      "__________________________________________________________________________________________________\n",
      "dropout2 (Dropout)              (None, 10)           0           dense_to_10[0][0]                \n",
      "__________________________________________________________________________________________________\n",
      "dense_to_1 (Dense)              (None, 1)            11          dropout2[0][0]                   \n",
      "==================================================================================================\n",
      "Total params: 15,411\n",
      "Trainable params: 15,411\n",
      "Non-trainable params: 0\n",
      "__________________________________________________________________________________________________\n"
     ]
    }
   ],
   "source": [
    "# simply defining two inputs and eventually concatenating them\n",
    "# nice\n",
    "\n",
    "import keras\n",
    "from keras import layers\n",
    "\n",
    "# model partially follows Zhang & Wallace 2015\n",
    "# https://cloud.githubusercontent.com/assets/11842615/25828679/df9dc5c6-3451-11e7-9792-c8fa32dd920f.png\n",
    "\n",
    "n_filters_conv = 5\n",
    "n_filters_dense = 10\n",
    "droupout_rate = 0.5\n",
    "\n",
    "\n",
    "# convolutional part with varying filters:\n",
    "conv_input = keras.Input(shape=(100, 300), name=\"doc\")\n",
    "conv_layer = []\n",
    "\n",
    "for filter_size in (1, 2, 3, 4):\n",
    "    c = layers.Conv1D(n_filters_conv, filter_size, \n",
    "                      padding='same', \n",
    "                      activation='relu', \n",
    "                      name=f'conv_{filter_size}_{n_filters_conv}')(conv_input)\n",
    "    conv_layer.append(c)\n",
    "\n",
    "# concatenate:\n",
    "c = layers.Concatenate(name=f'concatenate_to_100x{n_filters_conv*4}')(conv_layer)\n",
    "c = layers.GlobalMaxPooling1D(name=f'max_pool_to_{n_filters_conv*4}')(c)\n",
    "\n",
    "# add numeric part:\n",
    "num_input = keras.Input(shape=(len(NUMVARS)), name=\"num_features\")\n",
    "d = layers.Dense(n_filters_dense, activation='relu', name=f'num_to_{n_filters_dense}')(num_input)\n",
    "d = layers.Dropout(droupout_rate, name='dropout')(d)\n",
    "\n",
    "c = layers.Concatenate(name='conv_plus_num')([c, d])\n",
    "\n",
    "# dense layers:\n",
    "c = layers.Dense(n_filters_dense, activation='relu', name=f'dense_to_{n_filters_dense}')(c)\n",
    "c = layers.Dropout(droupout_rate, name='dropout2')(c)\n",
    "c = layers.Dense(1, activation='linear', name='dense_to_1')(c)\n",
    "\n",
    "\n",
    "# build model:\n",
    "mixed2 = keras.Model([conv_input, num_input], c, name='mixed1')\n",
    "mixed2.compile(loss='mean_squared_error')\n",
    "\n",
    "\n",
    "mixed2.summary()\n",
    "#keras.utils.plot_model(mixed2, show_shapes=False)"
   ]
  },
  {
   "cell_type": "code",
   "execution_count": 271,
   "metadata": {},
   "outputs": [
    {
     "name": "stdout",
     "output_type": "stream",
     "text": [
      "Epoch 00042: early stopping\n",
      "INFO:tensorflow:Assets written to: mixed2b/assets\n"
     ]
    },
    {
     "data": {
      "image/png": "[encoded data removed]",
      "text/plain": [
       "<Figure size 432x288 with 1 Axes>"
      ]
     },
     "metadata": {
      "needs_background": "light"
     },
     "output_type": "display_data"
    },
    {
     "name": "stdout",
     "output_type": "stream",
     "text": [
      "wMAE - train: 26.51, test: 27.08. Current rank: 6 \n",
      "mae  - train: 96.24, test: 99.45\n",
      "mse  - train: 96803.35, test: 114573.65\n",
      "r2   - train: 0.29, test: 0.24\n",
      "Elapsed: 2727 seconds.\n"
     ]
    }
   ],
   "source": [
    "models.time() # measuring total time\n",
    "\n",
    "callbacks = [keras.callbacks.EarlyStopping(patience=3, restore_best_weights=False, verbose=2),\n",
    "             keras.callbacks.CSVLogger(DIR + 'training_mixed2.log')]\n",
    "\n",
    "cnn_history = mixed2.fit(\n",
    "    x = [W_train, X_train[list(NUMVARS)]], \n",
    "    y = y_train,\n",
    "    epochs = 50, \n",
    "    validation_split = 0.2,\n",
    "    batch_size = 128, \n",
    "    callbacks = callbacks, \n",
    "    verbose=0)\n",
    "\n",
    "\n",
    "keras.models.save_model(\n",
    "    mixed2, filepath=DIR + 'mixed2b', overwrite=True, include_optimizer=True, save_format=None,\n",
    "    signatures=None, options=None)\n",
    "\n",
    "plt.plot(cnn_history.history['loss'])\n",
    "plt.plot(cnn_history.history['val_loss'])\n",
    "plt.legend(['train', 'validation'], loc='best')\n",
    "plt.title('MSE')\n",
    "plt.show()\n",
    "\n",
    "\n",
    "models.add(\n",
    "    name = 'mixed2',\n",
    "    model = None, # storing model externally, see https://stackoverflow.com/a/52691785/12451060\n",
    "    pred_train = nonnegative(mixed2.predict([W_train, X_train[list(NUMVARS)]])),\n",
    "    pred_test = nonnegative(mixed2.predict([W_test, X_test[list(NUMVARS)]]))\n",
    ")"
   ]
  },
  {
   "cell_type": "code",
   "execution_count": 163,
   "metadata": {},
   "outputs": [
    {
     "name": "stdout",
     "output_type": "stream",
     "text": [
      "mixed - train: 3 .. 53 .. 1011\n",
      "mixed - test: 4 .. 53 .. 965\n"
     ]
    },
    {
     "data": {
      "image/png": "[encoded data removed]",
      "text/plain": [
       "<Figure size 1152x360 with 2 Axes>"
      ]
     },
     "metadata": {
      "needs_background": "light"
     },
     "output_type": "display_data"
    }
   ],
   "source": [
    "models.visualize('mixed', zscores=True)\n",
    "models.distr('mixed')"
   ]
  },
  {
   "cell_type": "markdown",
   "metadata": {},
   "source": [
    "No, a better fit could not be achieved."
   ]
  },
  {
   "cell_type": "markdown",
   "metadata": {},
   "source": [
    "## 8. Mixed inputs - tune parameters\n",
    "\n",
    "When designing a neural network, two considerations appear important:\n",
    "\n",
    "* What architecture of the neural network should be chosen? (Which layers should it incorporate in which order?)\n",
    "* What hyperparameter should be chosen within the chosen architecture?\n",
    "\n",
    "While the former question is usually fully left to the judgement of a data scientist, the answer to the latter question can be optimized with respect to the given data and the selected architecture. \n",
    "\n",
    "Assuming that the first design of the mixed input model is better than the one of the second, what would be the best choice of hyperparameters (number of convolutional and dense filters and the dropout rate) with respect to the validation MAE? \n",
    "\n",
    "Parameter tuning will be performed with the help of the **kerastuner** package, which will randomly select 20 combinations of hyperparameter values from a pre-defined grid:\n",
    "\n",
    "* number of convolutional filters: 3 to 6 with a step of 1,\n",
    "* number of dense filters: 5 to 15 with a step of 1,\n",
    "* dropout rate: 0.4 (rather very restrictive) to 0.7 with a step of 0.05."
   ]
  },
  {
   "cell_type": "code",
   "execution_count": null,
   "metadata": {},
   "outputs": [],
   "source": [
    "import keras\n",
    "from keras import layers\n",
    "from kerastuner import RandomSearch\n",
    "\n",
    "# model partially follows Zhang & Wallace 2015\n",
    "# https://cloud.githubusercontent.com/assets/11842615/25828679/df9dc5c6-3451-11e7-9792-c8fa32dd920f.png\n",
    "# https://keras-team.github.io/keras-tuner/#usage-the-basics\n",
    "\n",
    "\n",
    "def build_model(hp):\n",
    "    \n",
    "    # tunable hyperparameters:\n",
    "    #n_filters_conv = hp.Int('n_filters_conv', 3, 6, step=1) # > 4\n",
    "    #n_filters_dense = hp.Int('n_filters_dense', 5, 15, step=1) # > 7\n",
    "    #dropout_rate = hp.Float('dropout_rate', 0.4, 0.7, step=0.05) # > 0.35\n",
    "\n",
    "\n",
    "    # convolutional part with varying filters:\n",
    "    conv_input = keras.Input(shape=(100, 300), name=\"doc\")\n",
    "    conv_layer = []\n",
    "\n",
    "    for filter_size in (1, 2, 3, 4):\n",
    "        c = layers.Conv1D(hp.Int('n_filters_conv', 3, 6, step=1), filter_size, \n",
    "                          padding='same', \n",
    "                          activation='relu', \n",
    "                          name=f'conv_{filter_size}_n_filters_conv')(conv_input)\n",
    "        conv_layer.append(c)\n",
    "\n",
    "    # concatenate:\n",
    "    c = layers.Concatenate(name=f'concatenate_to_100xn_filters_conv3')(conv_layer)\n",
    "    c = layers.GlobalMaxPooling1D(name=f'max_pool_to_n_filters_conv3')(c)\n",
    "\n",
    "    # add numeric part:\n",
    "    num_input = keras.Input(shape=(len(NUMVARS)), name=\"num_features\")\n",
    "    d = layers.Dense(hp.Int('n_filters_dense', 5, 15, step=1),\n",
    "                     activation='relu', name=f'num_to_n_filters_dense')(num_input)\n",
    "    c = layers.Concatenate(name='conv_plus_num')([c, d])\n",
    "\n",
    "    # dense layers:\n",
    "    c = layers.Dropout(hp.Float('dropout_rate', 0.4, 0.7, step=0.05), name='dropout')(c)\n",
    "    c = layers.Dense(hp.Int('n_filters_dense', 5, 15, step=1), activation='relu', \n",
    "                     name=f'dense_to_n_filters_dense')(c)\n",
    "    c = layers.Dropout(hp.Float('dropout_rate', 0.4, 0.7, step=0.05), name='dropout2')(c)\n",
    "    c = layers.Dense(1, activation='linear', name='dense_to_1')(c)\n",
    "\n",
    "    # build model:\n",
    "    mixed = keras.Model([conv_input, num_input], c, name='mixed1')\n",
    "    mixed.compile(loss='mean_squared_error', metrics=['mean_absolute_error'])\n",
    "    \n",
    "    return mixed\n",
    "\n",
    "\n",
    "callbacks = [keras.callbacks.EarlyStopping(patience=3, restore_best_weights=False, verbose=2)]\n",
    "\n",
    "tuner = RandomSearch(\n",
    "    build_model,\n",
    "    objective = 'val_mean_absolute_error',\n",
    "    max_trials = 20,\n",
    "    executions_per_trial = 1,\n",
    "    directory = DIR,\n",
    "    project_name = 'mixed_TUNING')\n",
    "\n",
    "\n",
    "tuner.search(x = [W_train, X_train[list(NUMVARS)]],\n",
    "             y = y_train,\n",
    "             epochs = 30,\n",
    "             callbacks = callbacks,\n",
    "             validation_split = 0.2,\n",
    "             verbose = 2\n",
    "            )"
   ]
  },
  {
   "cell_type": "code",
   "execution_count": 173,
   "metadata": {},
   "outputs": [
    {
     "data": {
      "text/html": [
       "<span style=\"color:#4527A0\"><h1 style=\"font-size:18px\">Results summary</h1></span>"
      ],
      "text/plain": [
       "<IPython.core.display.HTML object>"
      ]
     },
     "metadata": {},
     "output_type": "display_data"
    },
    {
     "data": {
      "text/html": [
       "<span style=\"color:cyan\"> |-Results in ./mixed_TUNING</span>"
      ],
      "text/plain": [
       "<IPython.core.display.HTML object>"
      ]
     },
     "metadata": {},
     "output_type": "display_data"
    },
    {
     "data": {
      "text/html": [
       "<span style=\"color:cyan\"> |-Showing 1 best trials</span>"
      ],
      "text/plain": [
       "<IPython.core.display.HTML object>"
      ]
     },
     "metadata": {},
     "output_type": "display_data"
    },
    {
     "data": {
      "text/html": [
       "<span style=\"color:cyan\"> |-Objective(name='val_mean_absolute_error', direction='min')</span>"
      ],
      "text/plain": [
       "<IPython.core.display.HTML object>"
      ]
     },
     "metadata": {},
     "output_type": "display_data"
    },
    {
     "data": {
      "text/html": [
       "<span style=\"color:#4527A0\"><h1 style=\"font-size:18px\">Trial summary</h1></span>"
      ],
      "text/plain": [
       "<IPython.core.display.HTML object>"
      ]
     },
     "metadata": {},
     "output_type": "display_data"
    },
    {
     "data": {
      "text/html": [
       "<span style=\"color:cyan\"> |-Trial ID: faef758a7f9275a8417e192060deec71</span>"
      ],
      "text/plain": [
       "<IPython.core.display.HTML object>"
      ]
     },
     "metadata": {},
     "output_type": "display_data"
    },
    {
     "data": {
      "text/html": [
       "<span style=\"color:cyan\"> |-Score: 88.37620544433594</span>"
      ],
      "text/plain": [
       "<IPython.core.display.HTML object>"
      ]
     },
     "metadata": {},
     "output_type": "display_data"
    },
    {
     "data": {
      "text/html": [
       "<span style=\"color:cyan\"> |-Best step: 0</span>"
      ],
      "text/plain": [
       "<IPython.core.display.HTML object>"
      ]
     },
     "metadata": {},
     "output_type": "display_data"
    },
    {
     "data": {
      "text/html": [
       "<span style=\"color:#7E57C2\"><h2 style=\"font-size:16px\">Hyperparameters:</h2></span>"
      ],
      "text/plain": [
       "<IPython.core.display.HTML object>"
      ]
     },
     "metadata": {},
     "output_type": "display_data"
    },
    {
     "data": {
      "text/html": [
       "<span style=\"color:cyan\"> |-dropout_rate: 0.45</span>"
      ],
      "text/plain": [
       "<IPython.core.display.HTML object>"
      ]
     },
     "metadata": {},
     "output_type": "display_data"
    },
    {
     "data": {
      "text/html": [
       "<span style=\"color:blue\"> |-n_filters_conv: 3</span>"
      ],
      "text/plain": [
       "<IPython.core.display.HTML object>"
      ]
     },
     "metadata": {},
     "output_type": "display_data"
    },
    {
     "data": {
      "text/html": [
       "<span style=\"color:cyan\"> |-n_filters_dense: 11</span>"
      ],
      "text/plain": [
       "<IPython.core.display.HTML object>"
      ]
     },
     "metadata": {},
     "output_type": "display_data"
    }
   ],
   "source": [
    "tuner.results_summary(1) # best parameters"
   ]
  },
  {
   "cell_type": "code",
   "execution_count": 384,
   "metadata": {
    "collapsed": true
   },
   "outputs": [
    {
     "name": "stdout",
     "output_type": "stream",
     "text": [
      "Model: \"mixed1f\"\n",
      "__________________________________________________________________________________________________\n",
      "Layer (type)                    Output Shape         Param #     Connected to                     \n",
      "==================================================================================================\n",
      "doc (InputLayer)                [(None, 100, 300)]   0                                            \n",
      "__________________________________________________________________________________________________\n",
      "conv_1_3 (Conv1D)               (None, 100, 3)       903         doc[0][0]                        \n",
      "__________________________________________________________________________________________________\n",
      "conv_2_3 (Conv1D)               (None, 100, 3)       1803        doc[0][0]                        \n",
      "__________________________________________________________________________________________________\n",
      "conv_3_3 (Conv1D)               (None, 100, 3)       2703        doc[0][0]                        \n",
      "__________________________________________________________________________________________________\n",
      "conv_4_3 (Conv1D)               (None, 100, 3)       3603        doc[0][0]                        \n",
      "__________________________________________________________________________________________________\n",
      "concatenate_to_100x12 (Concaten (None, 100, 12)      0           conv_1_3[0][0]                   \n",
      "                                                                 conv_2_3[0][0]                   \n",
      "                                                                 conv_3_3[0][0]                   \n",
      "                                                                 conv_4_3[0][0]                   \n",
      "__________________________________________________________________________________________________\n",
      "num_features (InputLayer)       [(None, 6)]          0                                            \n",
      "__________________________________________________________________________________________________\n",
      "max_pool_to_12 (GlobalMaxPoolin (None, 12)           0           concatenate_to_100x12[0][0]      \n",
      "__________________________________________________________________________________________________\n",
      "num_to_11 (Dense)               (None, 11)           77          num_features[0][0]               \n",
      "__________________________________________________________________________________________________\n",
      "conv_plus_num (Concatenate)     (None, 23)           0           max_pool_to_12[0][0]             \n",
      "                                                                 num_to_11[0][0]                  \n",
      "__________________________________________________________________________________________________\n",
      "dropout (Dropout)               (None, 23)           0           conv_plus_num[0][0]              \n",
      "__________________________________________________________________________________________________\n",
      "dense_to_11 (Dense)             (None, 11)           264         dropout[0][0]                    \n",
      "__________________________________________________________________________________________________\n",
      "dropout2 (Dropout)              (None, 11)           0           dense_to_11[0][0]                \n",
      "__________________________________________________________________________________________________\n",
      "dense_to_1 (Dense)              (None, 1)            12          dropout2[0][0]                   \n",
      "==================================================================================================\n",
      "Total params: 9,365\n",
      "Trainable params: 9,365\n",
      "Non-trainable params: 0\n",
      "__________________________________________________________________________________________________\n"
     ]
    }
   ],
   "source": [
    "import keras\n",
    "from keras import layers\n",
    "\n",
    "# using the optimized hyperparameters:\n",
    "n_filters_conv = 3\n",
    "n_filters_dense = 11\n",
    "droupout_rate = 0.45\n",
    "\n",
    "\n",
    "# convolutional part with varying filters:\n",
    "conv_input = keras.Input(shape=(100, 300), name=\"doc\")\n",
    "conv_layer = []\n",
    "\n",
    "for filter_size in (1, 2, 3, 4):\n",
    "    c = layers.Conv1D(n_filters_conv, filter_size, \n",
    "                      padding='same', \n",
    "                      activation='relu', \n",
    "                      name=f'conv_{filter_size}_{n_filters_conv}')(conv_input)\n",
    "    conv_layer.append(c)\n",
    "\n",
    "# concatenate:\n",
    "c = layers.Concatenate(name=f'concatenate_to_100x{n_filters_conv*4}')(conv_layer)\n",
    "c = layers.GlobalMaxPooling1D(name=f'max_pool_to_{n_filters_conv*4}')(c)\n",
    "\n",
    "# add numeric part:\n",
    "num_input = keras.Input(shape=(len(NUMVARS)), name=\"num_features\")\n",
    "d = layers.Dense(n_filters_dense, activation='relu', name=f'num_to_{n_filters_dense}')(num_input)\n",
    "c = layers.Concatenate(name='conv_plus_num')([c, d])\n",
    "\n",
    "# dense layers:\n",
    "c = layers.Dropout(droupout_rate, name='dropout')(c)\n",
    "c = layers.Dense(n_filters_dense, activation='relu', name=f'dense_to_{n_filters_dense}')(c)\n",
    "c = layers.Dropout(droupout_rate, name='dropout2')(c)\n",
    "c = layers.Dense(1, activation='linear', name='dense_to_1')(c)\n",
    "\n",
    "# build model:\n",
    "mixed3 = keras.Model([conv_input, num_input], c, name='mixed1f')\n",
    "mixed3.compile(loss='mean_squared_error')\n",
    "\n",
    "if IN_COLAB: \n",
    "    keras.utils.plot_model(mixed3, show_shapes=False)\n",
    "else:\n",
    "    mixed3.summary()"
   ]
  },
  {
   "cell_type": "code",
   "execution_count": 174,
   "metadata": {},
   "outputs": [
    {
     "name": "stdout",
     "output_type": "stream",
     "text": [
      "Epoch 00031: early stopping\n",
      "INFO:tensorflow:Assets written to: mixed3/assets\n"
     ]
    },
    {
     "data": {
      "image/png": "[encoded data removed]",
      "text/plain": [
       "<Figure size 432x288 with 1 Axes>"
      ]
     },
     "metadata": {
      "needs_background": "light"
     },
     "output_type": "display_data"
    },
    {
     "name": "stdout",
     "output_type": "stream",
     "text": [
      "wMAE - train: 30.84, test: 31.3. Current rank: 5 \n",
      "mae  - train: 93.6, test: 95.68\n",
      "mse  - train: 81840.35, test: 92825.07\n",
      "r2   - train: 0.4, test: 0.38\n",
      "Elapsed: 1683 seconds.\n"
     ]
    }
   ],
   "source": [
    "models.time() # measuring total time\n",
    "\n",
    "callbacks = [keras.callbacks.EarlyStopping(patience=3, restore_best_weights=False, verbose=2),\n",
    "             keras.callbacks.CSVLogger(DIR + 'training_mixed3.log')]\n",
    "\n",
    "cnn_history = mixed3.fit(\n",
    "    x = [W_train, X_train[list(NUMVARS)]], \n",
    "    y = y_train,\n",
    "    epochs = 50, \n",
    "    validation_split = 0.2,\n",
    "    batch_size = 128, \n",
    "    callbacks = callbacks, \n",
    "    verbose=0)\n",
    "\n",
    "\n",
    "keras.models.save_model(\n",
    "    mixed3, filepath=DIR + 'mixed3', overwrite=True, include_optimizer=True, save_format=None,\n",
    "    signatures=None, options=None)\n",
    "\n",
    "plt.plot(cnn_history.history['loss'])\n",
    "plt.plot(cnn_history.history['val_loss'])\n",
    "plt.legend(['train', 'validation'], loc='best')\n",
    "plt.title('MSE')\n",
    "plt.show()\n",
    "\n",
    "\n",
    "models.add(\n",
    "    name = 'mixed3',\n",
    "    model = None, # storing model externally, see https://stackoverflow.com/a/52691785/12451060\n",
    "    pred_train = nonnegative(mixed3.predict([W_train, X_train[list(NUMVARS)]])),\n",
    "    pred_test = nonnegative(mixed3.predict([W_test, X_test[list(NUMVARS)]]))\n",
    ")"
   ]
  },
  {
   "cell_type": "markdown",
   "metadata": {},
   "source": [
    "Interestingly enough, the model with optimized hyperparameters performs worse than the original model. This can have the following explanation: The fine-tuning was defined such that only one execution per choice of hyperparameters was tried. This single execution with randomly initiated weights may be not generalizable. \n",
    "\n",
    "A possible improvement would therefore be to allow for more trials per execution. Moreover, some further potential improvements at the level of the model architecture remain partially uninvestigated, as it would require many more trials to arrive at the \"perfect\" model. Within the boundaries of this assignment, the first mixed input model can be assumed to be the best model to solve the given task."
   ]
  },
  {
   "cell_type": "markdown",
   "metadata": {},
   "source": [
    "----\n",
    "\n",
    "# ENSEMBLE & final prediction\n",
    "\n",
    "## Model evaluation\n",
    "\n",
    "The following overview (see `models.summary()` below) compares all models built in the previous section. \n",
    "\n",
    "Interestingly, if we would only evaluate models based on the wMAE, the best choice would be the **train_median** model, predicting all claps equal to 6. Obviously, this model does not offer much explanation to the actual distribution of claps, which is also mirrored in a negative R2 statistic value as well as comparably high MAE and MSE.\n",
    "\n",
    "The first **mixed** input model scores second based on the wMAE. It also appears to have some grasp on the data structure, having the lowest test MAE among all other models: on average, each prediction is 94 claps off its true value. Obviously, this still is a very high error, which may not be satisfactory for a business deployment. \n",
    "\n",
    "The **no_text** linear regression and **lasso_all** regression have very close results, suggesting that the bag of words used in the **lasso_all** model does not improve model performance. These two models have a relatively high (for the current task) R2 value, with only the random forest **rf_all** solution scoring slightly better. At the same time, the random forest has likely overfitted the train data, and it has a much higher wMAE than the regressive models.\n",
    "\n",
    "**cnn5**, which has only seen the textual embeddings, sadly scores last on all evaluation criteria. It does, however, overperform the benchmark **train_mean**."
   ]
  },
  {
   "cell_type": "code",
   "execution_count": 381,
   "metadata": {},
   "outputs": [
    {
     "name": "stdout",
     "output_type": "stream",
     "text": [
      "Correlation between no_text and lasso_all prediction (for train): 0.99998003233627\n"
     ]
    }
   ],
   "source": [
    "print('Correlation between no_text and lasso_all prediction (for train): ' +\n",
    "      str(np.corrcoef(models.predictions['no_text']['train'], models.predictions['lasso_all']['train'])[1,0]))"
   ]
  },
  {
   "cell_type": "code",
   "execution_count": 360,
   "metadata": {},
   "outputs": [
    {
     "name": "stdout",
     "output_type": "stream",
     "text": [
      "train_median:\n",
      "wMAE - train: 6.49, test: 6.47. Current rank: 1 \n",
      "mae  - train: 109.66, test: 110.41\n",
      "mse  - train: 147736.1, test: 161819.38\n",
      "r2   - train: -0.08, test: -0.07\n",
      "\n",
      "mixed:\n",
      "wMAE - train: 21.52, test: 21.98. Current rank: 2 \n",
      "mae  - train: 92.49, test: 93.81\n",
      "mse  - train: 95611.39, test: 107177.45\n",
      "r2   - train: 0.3, test: 0.29\n",
      "\n",
      "no_text:\n",
      "wMAE - train: 26.9, test: 26.77. Current rank: 3 \n",
      "mae  - train: 105.43, test: 105.33\n",
      "mse  - train: 82177.71, test: 89891.34\n",
      "r2   - train: 0.4, test: 0.4\n",
      "\n",
      "lasso_all:\n",
      "wMAE - train: 27.07, test: 26.93. Current rank: 4 \n",
      "mae  - train: 105.3, test: 105.19\n",
      "mse  - train: 82191.68, test: 89917.98\n",
      "r2   - train: 0.4, test: 0.4\n",
      "\n",
      "mixed2:\n",
      "wMAE - train: 26.51, test: 27.08. Current rank: 5 \n",
      "mae  - train: 96.24, test: 99.45\n",
      "mse  - train: 96803.35, test: 114573.65\n",
      "r2   - train: 0.29, test: 0.24\n",
      "\n",
      "mixed3:\n",
      "wMAE - train: 30.84, test: 31.3. Current rank: 6 \n",
      "mae  - train: 93.6, test: 95.68\n",
      "mse  - train: 81840.35, test: 92825.07\n",
      "r2   - train: 0.4, test: 0.38\n",
      "\n",
      "rf_all:\n",
      "wMAE - train: 12.11, test: 33.5. Current rank: 7 \n",
      "mae  - train: 39.36, test: 101.89\n",
      "mse  - train: 14245.76, test: 85368.65\n",
      "r2   - train: 0.9, test: 0.43\n",
      "\n",
      "cnn_5:\n",
      "wMAE - train: 62.61, test: 68.5. Current rank: 8 \n",
      "mae  - train: 125.54, test: 134.93\n",
      "mse  - train: 119278.06, test: 146644.31\n",
      "r2   - train: 0.13, test: 0.03\n",
      "\n",
      "train_mean:\n",
      "wMAE - train: 108.99, test: 109.01. Current rank: 9 \n",
      "mae  - train: 153.56, test: 154.88\n",
      "mse  - train: 136817.41, test: 150765.29\n",
      "r2   - train: -0.0, test: -0.0\n",
      "\n"
     ]
    }
   ],
   "source": [
    "#models = Models()\n",
    "#models.load(DIR + 'MODELS_30aug.pkl')\n",
    "models.summary()"
   ]
  },
  {
   "cell_type": "markdown",
   "metadata": {},
   "source": [
    "Often, using heterogenous model ensembles can help boosting the accuracy of prediction results. The first __mixed__ input model and one of the regressions seem to be good choices for this purpose, with the mixed model having lower wMAE and MAE, and regressions having a better R2 statistic. \n",
    "\n",
    "Despite the fact that __no_text__ and __lasso_all__ deliver very similar results, I believe that lasso regression, having seen the tokenized texts, _may know more_ about the data. Hence, it will be used as a second model in the ensemble. The six numeric features will be repeatedly added to the ensemble. In other words, such an ensemble design can be seen as a regular model which, however, has access to predictions generated by two other models, which should improve overall prediction results.\n",
    "\n",
    "Three alternatives will be examined: an ensemble with a head consisting of a dense layer with 5 filters, a dropout layer, and a dense layer with linear activation; an ensemble with a linear regression head; and a linear ensemble which accepts features of the last dense layer of the mixed model rather than the final result. For a better understanding, detailed diagrams are provided for each ensemble."
   ]
  },
  {
   "attachments": {},
   "cell_type": "markdown",
   "metadata": {},
   "source": [
    "## Ensemble with dense layers\n",
    "\n",
    "![ensemble1](https://drive.google.com/uc?export=view&id=1iLTXpDx8AOXDywTcfGJ0jP_IY4gamZQL)"
   ]
  },
  {
   "cell_type": "code",
   "execution_count": 188,
   "metadata": {
    "collapsed": true
   },
   "outputs": [
    {
     "name": "stdout",
     "output_type": "stream",
     "text": [
      "Model: \"ensemble\"\n",
      "__________________________________________________________________________________________________\n",
      "Layer (type)                    Output Shape         Param #     Connected to                     \n",
      "==================================================================================================\n",
      "num_features (InputLayer)       [(None, 6)]          0                                            \n",
      "__________________________________________________________________________________________________\n",
      "lasso_output (InputLayer)       [(None, 1)]          0                                            \n",
      "__________________________________________________________________________________________________\n",
      "mixed_output (InputLayer)       [(None, 1)]          0                                            \n",
      "__________________________________________________________________________________________________\n",
      "concatenate_inputs (Concatenate (None, 8)            0           num_features[0][0]               \n",
      "                                                                 lasso_output[0][0]               \n",
      "                                                                 mixed_output[0][0]               \n",
      "__________________________________________________________________________________________________\n",
      "dense_to_5 (Dense)              (None, 5)            45          concatenate_inputs[0][0]         \n",
      "__________________________________________________________________________________________________\n",
      "dropout (Dropout)               (None, 5)            0           dense_to_5[0][0]                 \n",
      "__________________________________________________________________________________________________\n",
      "dense_to_1 (Dense)              (None, 1)            6           dropout[0][0]                    \n",
      "==================================================================================================\n",
      "Total params: 51\n",
      "Trainable params: 51\n",
      "Non-trainable params: 0\n",
      "__________________________________________________________________________________________________\n"
     ]
    }
   ],
   "source": [
    "import keras\n",
    "from keras import layers\n",
    "\n",
    "n_filters_dense = 5\n",
    "droupout_rate = 0.5\n",
    "\n",
    "# inputs:\n",
    "num_input = keras.Input(shape=(len(NUMVARS)), name=\"num_features\")\n",
    "lasso_input = keras.Input(shape=(1), name=\"lasso_output\")\n",
    "mixed_input = keras.Input(shape=(1), name=\"mixed_output\")\n",
    "\n",
    "# concatenate:\n",
    "c = layers.Concatenate(name='concatenate_inputs')([num_input, lasso_input, mixed_input])\n",
    "\n",
    "# dense part:\n",
    "c = layers.Dense(n_filters_dense, activation='relu', name=f'dense_to_{n_filters_dense}')(c)\n",
    "c = layers.Dropout(droupout_rate, name='dropout')(c)\n",
    "c = layers.Dense(1, activation='linear', name='dense_to_1')(c)\n",
    "\n",
    "# build model:\n",
    "ensemble = keras.Model([num_input, lasso_input, mixed_input], c, name='ensemble')\n",
    "ensemble.compile(loss='mean_squared_error')\n",
    "\n",
    "if IN_COLAB: \n",
    "    keras.utils.plot_model(ensemble, show_shapes=False)\n",
    "else:\n",
    "    ensemble.summary()"
   ]
  },
  {
   "cell_type": "code",
   "execution_count": 189,
   "metadata": {},
   "outputs": [
    {
     "name": "stdout",
     "output_type": "stream",
     "text": [
      "Epoch 00012: early stopping\n",
      "INFO:tensorflow:Assets written to: ensemble/assets\n"
     ]
    },
    {
     "data": {
      "image/png": "[encoded data removed]",
      "text/plain": [
       "<Figure size 432x288 with 1 Axes>"
      ]
     },
     "metadata": {
      "needs_background": "light"
     },
     "output_type": "display_data"
    },
    {
     "name": "stdout",
     "output_type": "stream",
     "text": [
      "wMAE - train: 18.38, test: 18.56. Current rank: 2 \n",
      "mae  - train: 89.63, test: 91.04\n",
      "mse  - train: 80463.72, test: 89924.67\n",
      "r2   - train: 0.41, test: 0.4\n",
      "Elapsed: 7 seconds.\n"
     ]
    }
   ],
   "source": [
    "models.time() # measuring total time\n",
    "\n",
    "callbacks = [keras.callbacks.EarlyStopping(patience=3, restore_best_weights=False, verbose=2),\n",
    "             keras.callbacks.CSVLogger(DIR + 'training_ensemble.log')]\n",
    "\n",
    "ens_history = ensemble.fit(\n",
    "    x = [X_train[list(NUMVARS)], \n",
    "         models.predictions['lasso_all']['train'],\n",
    "         models.predictions['mixed']['train']], \n",
    "    y = y_train,\n",
    "    epochs = 50, \n",
    "    validation_split = 0.2,\n",
    "    batch_size = 128, \n",
    "    callbacks = callbacks, \n",
    "    verbose=0)\n",
    "\n",
    "\n",
    "keras.models.save_model(\n",
    "    ensemble, filepath=DIR + 'ensemble', overwrite=True, include_optimizer=True, save_format=None,\n",
    "    signatures=None, options=None)\n",
    "\n",
    "plt.plot(ens_history.history['loss'])\n",
    "plt.plot(ens_history.history['val_loss'])\n",
    "plt.legend(['train', 'validation'], loc='best')\n",
    "plt.title('MSE')\n",
    "plt.show()\n",
    "\n",
    "\n",
    "models.add(\n",
    "    name = 'ensemble',\n",
    "    model = None, # storing model externally, see https://stackoverflow.com/a/52691785/12451060\n",
    "    pred_train = nonnegative(ensemble.predict([\n",
    "        X_train[list(NUMVARS)], \n",
    "        models.predictions['lasso_all']['train'],\n",
    "        models.predictions['mixed']['train'] ])),\n",
    "    pred_test = nonnegative(ensemble.predict([\n",
    "        X_test[list(NUMVARS)], \n",
    "        models.predictions['lasso_all']['test'],\n",
    "        models.predictions['mixed']['test'] ]))\n",
    ")"
   ]
  },
  {
   "cell_type": "code",
   "execution_count": 190,
   "metadata": {},
   "outputs": [
    {
     "name": "stdout",
     "output_type": "stream",
     "text": [
      "ensemble - train: 2 .. 73 .. 1368\n",
      "ensemble - test: 2 .. 73 .. 1326\n"
     ]
    },
    {
     "data": {
      "image/png": "[encoded data removed]",
      "text/plain": [
       "<Figure size 1152x360 with 2 Axes>"
      ]
     },
     "metadata": {
      "needs_background": "light"
     },
     "output_type": "display_data"
    }
   ],
   "source": [
    "models.distr('ensemble')\n",
    "models.visualize('ensemble', zscores=True)"
   ]
  },
  {
   "cell_type": "markdown",
   "metadata": {},
   "source": [
    "This is a clear success! Despite the model still not being able to predict claps with high values, this ensemble reaches an even smaller wMAE and MAE than all preceding models (MAE: an improve of 3 claps compared to __mixed__ model). At the same time, it preserves the higher R2 from the Lasso model."
   ]
  },
  {
   "attachments": {},
   "cell_type": "markdown",
   "metadata": {},
   "source": [
    "## Linear ensemble\n",
    "\n",
    "Same as before but with a linear head without any additional dense and dropout layers.\n",
    "\n",
    "![ensemble2](https://drive.google.com/uc?export=view&id=1JWujtWkCXCCytfam-wV4NmwZvHdRQh57)"
   ]
  },
  {
   "cell_type": "code",
   "execution_count": 227,
   "metadata": {},
   "outputs": [
    {
     "name": "stdout",
     "output_type": "stream",
     "text": [
      "wMAE - train: 37.68, test: 38.32. Current rank: 10 \n",
      "mae  - train: 101.29, test: 104.13\n",
      "mse  - train: 73702.54, test: 82835.16\n",
      "r2   - train: 0.46, test: 0.45\n",
      "Elapsed: 0 seconds.\n"
     ]
    }
   ],
   "source": [
    "from sklearn.preprocessing import Normalizer\n",
    "from sklearn.linear_model import LinearRegression\n",
    "\n",
    "#normalizer = Normalizer() # unexpectedly, all metrics are worse when normalizing\n",
    "reg = LinearRegression()\n",
    "\n",
    "#lin_ens = Pipeline([('normalizer', normalizer), ('regressor', reg)])\n",
    "lin_ens = reg\n",
    "\n",
    "ens_input_train = X_train[list(NUMVARS)].copy()\n",
    "ens_input_train['lasso'] = models.predictions['lasso_all']['train']\n",
    "ens_input_train['mixed'] = models.predictions['mixed']['train']\n",
    "\n",
    "ens_input_test = X_test[list(NUMVARS)].copy()\n",
    "ens_input_test['lasso'] = models.predictions['lasso_all']['test']\n",
    "ens_input_test['mixed'] = models.predictions['mixed']['test']\n",
    "\n",
    "\n",
    "models.time()\n",
    "models.add(\n",
    "    name = 'lin_ensemble',\n",
    "    model = lin_ens.fit(ens_input_train, y_train),\n",
    "    pred_train = nonnegative(lin_ens.predict(ens_input_train)),\n",
    "    pred_test = nonnegative(lin_ens.predict(ens_input_test))\n",
    ")"
   ]
  },
  {
   "cell_type": "code",
   "execution_count": 229,
   "metadata": {},
   "outputs": [
    {
     "name": "stdout",
     "output_type": "stream",
     "text": [
      "lin_ensemble - train: 0 .. 110 .. 2146\n",
      "lin_ensemble - test: 0 .. 111 .. 2057\n"
     ]
    },
    {
     "data": {
      "image/png": "[encoded data removed]",
      "text/plain": [
       "<Figure size 1152x360 with 2 Axes>"
      ]
     },
     "metadata": {
      "needs_background": "light"
     },
     "output_type": "display_data"
    }
   ],
   "source": [
    "models.distr('lin_ensemble')\n",
    "models.visualize('lin_ensemble', zscores=True)"
   ]
  },
  {
   "cell_type": "markdown",
   "metadata": {},
   "source": [
    "This ensemble has a much higher test MAE (104 vs. 91 for the previous ensemble), which is likely due to the fact that this model predicts a higher range of claps, going beyond 2000 predicted claps (previous ensemble: maximum is around 1350 claps). Furthermore, this linear ensemble has the highest R2 and the lowest MSE among all models. "
   ]
  },
  {
   "attachments": {},
   "cell_type": "markdown",
   "metadata": {},
   "source": [
    "## Linear ensemble with raw values from CNN\n",
    "\n",
    "The idea behind this ensemble architecture is the intuition that the penultimate layer of the mixed NLP model represents a set of 10 latent features that carry some valuable information for the final prediction. By concatenating them with the results of another model and with the numeric features, we obtain a more informed model compared to the previous two ensembles.\n",
    "\n",
    "![ensemble3](https://drive.google.com/uc?export=view&id=15cH88OXKs5-eQlLUJwAHb_tkekP3J-ow)"
   ]
  },
  {
   "cell_type": "code",
   "execution_count": 388,
   "metadata": {},
   "outputs": [
    {
     "data": {
      "text/html": [
       "<div>\n",
       "<style scoped>\n",
       "    .dataframe tbody tr th:only-of-type {\n",
       "        vertical-align: middle;\n",
       "    }\n",
       "\n",
       "    .dataframe tbody tr th {\n",
       "        vertical-align: top;\n",
       "    }\n",
       "\n",
       "    .dataframe thead th {\n",
       "        text-align: right;\n",
       "    }\n",
       "</style>\n",
       "<table border=\"1\" class=\"dataframe\">\n",
       "  <thead>\n",
       "    <tr style=\"text-align: right;\">\n",
       "      <th></th>\n",
       "      <th>0</th>\n",
       "      <th>1</th>\n",
       "      <th>2</th>\n",
       "      <th>3</th>\n",
       "      <th>4</th>\n",
       "      <th>5</th>\n",
       "      <th>6</th>\n",
       "      <th>7</th>\n",
       "      <th>8</th>\n",
       "      <th>9</th>\n",
       "    </tr>\n",
       "  </thead>\n",
       "  <tbody>\n",
       "    <tr>\n",
       "      <th>count</th>\n",
       "      <td>49605</td>\n",
       "      <td>49605</td>\n",
       "      <td>49605</td>\n",
       "      <td>49605</td>\n",
       "      <td>49605</td>\n",
       "      <td>49605</td>\n",
       "      <td>49605</td>\n",
       "      <td>49605</td>\n",
       "      <td>49605</td>\n",
       "      <td>49605</td>\n",
       "    </tr>\n",
       "    <tr>\n",
       "      <th>mean</th>\n",
       "      <td>0</td>\n",
       "      <td>0</td>\n",
       "      <td>0</td>\n",
       "      <td>3</td>\n",
       "      <td>0</td>\n",
       "      <td>4</td>\n",
       "      <td>4</td>\n",
       "      <td>0</td>\n",
       "      <td>4</td>\n",
       "      <td>15</td>\n",
       "    </tr>\n",
       "    <tr>\n",
       "      <th>std</th>\n",
       "      <td>0</td>\n",
       "      <td>0</td>\n",
       "      <td>0</td>\n",
       "      <td>4</td>\n",
       "      <td>0</td>\n",
       "      <td>17</td>\n",
       "      <td>16</td>\n",
       "      <td>2</td>\n",
       "      <td>17</td>\n",
       "      <td>21</td>\n",
       "    </tr>\n",
       "    <tr>\n",
       "      <th>min</th>\n",
       "      <td>0</td>\n",
       "      <td>0</td>\n",
       "      <td>0</td>\n",
       "      <td>0</td>\n",
       "      <td>0</td>\n",
       "      <td>0</td>\n",
       "      <td>0</td>\n",
       "      <td>0</td>\n",
       "      <td>0</td>\n",
       "      <td>0</td>\n",
       "    </tr>\n",
       "    <tr>\n",
       "      <th>25%</th>\n",
       "      <td>0</td>\n",
       "      <td>0</td>\n",
       "      <td>0</td>\n",
       "      <td>0</td>\n",
       "      <td>0</td>\n",
       "      <td>0</td>\n",
       "      <td>0</td>\n",
       "      <td>0</td>\n",
       "      <td>0</td>\n",
       "      <td>4</td>\n",
       "    </tr>\n",
       "    <tr>\n",
       "      <th>50%</th>\n",
       "      <td>0</td>\n",
       "      <td>0</td>\n",
       "      <td>0</td>\n",
       "      <td>2</td>\n",
       "      <td>0</td>\n",
       "      <td>0</td>\n",
       "      <td>0</td>\n",
       "      <td>0</td>\n",
       "      <td>0</td>\n",
       "      <td>9</td>\n",
       "    </tr>\n",
       "    <tr>\n",
       "      <th>75%</th>\n",
       "      <td>0</td>\n",
       "      <td>0</td>\n",
       "      <td>0</td>\n",
       "      <td>6</td>\n",
       "      <td>0</td>\n",
       "      <td>0</td>\n",
       "      <td>0</td>\n",
       "      <td>0</td>\n",
       "      <td>0</td>\n",
       "      <td>16</td>\n",
       "    </tr>\n",
       "    <tr>\n",
       "      <th>max</th>\n",
       "      <td>9</td>\n",
       "      <td>5</td>\n",
       "      <td>7</td>\n",
       "      <td>32</td>\n",
       "      <td>3</td>\n",
       "      <td>148</td>\n",
       "      <td>143</td>\n",
       "      <td>45</td>\n",
       "      <td>146</td>\n",
       "      <td>168</td>\n",
       "    </tr>\n",
       "  </tbody>\n",
       "</table>\n",
       "</div>"
      ],
      "text/plain": [
       "          0     1     2     3     4     5     6     7     8     9\n",
       "count 49605 49605 49605 49605 49605 49605 49605 49605 49605 49605\n",
       "mean      0     0     0     3     0     4     4     0     4    15\n",
       "std       0     0     0     4     0    17    16     2    17    21\n",
       "min       0     0     0     0     0     0     0     0     0     0\n",
       "25%       0     0     0     0     0     0     0     0     0     4\n",
       "50%       0     0     0     2     0     0     0     0     0     9\n",
       "75%       0     0     0     6     0     0     0     0     0    16\n",
       "max       9     5     7    32     3   148   143    45   146   168"
      ]
     },
     "execution_count": 388,
     "metadata": {},
     "output_type": "execute_result"
    }
   ],
   "source": [
    "import keras\n",
    "from keras import layers\n",
    "\n",
    "# load mixed model and make an extract/a submodel without the last dropout and dense layers:\n",
    "mixed_cnn = keras.models.load_model(DIR + 'mixed')\n",
    "mixed_extract = keras.Model(mixed_cnn.input, mixed_cnn.get_layer('dense_to_10').output)\n",
    "#mixed_extract.summary()\n",
    "\n",
    "# make predictions and take a look at them:\n",
    "extract_train = mixed_extract.predict([W_train, X_train[list(NUMVARS)]])\n",
    "extract_test = mixed_extract.predict([W_test, X_test[list(NUMVARS)]])\n",
    "\n",
    "extract_train = pd.DataFrame(extract_train)\n",
    "extract_test = pd.DataFrame(extract_test)\n",
    "\n",
    "extract_train.describe() # latent features"
   ]
  },
  {
   "cell_type": "code",
   "execution_count": 395,
   "metadata": {},
   "outputs": [
    {
     "name": "stdout",
     "output_type": "stream",
     "text": [
      "wMAE - train: 38.11, test: 38.61. Current rank: 10 \n",
      "mae  - train: 101.35, test: 104.04\n",
      "mse  - train: 73483.55, test: 82388.73\n",
      "r2   - train: 0.46, test: 0.45\n"
     ]
    }
   ],
   "source": [
    "from sklearn.preprocessing import Normalizer\n",
    "from sklearn.linear_model import LinearRegression\n",
    "\n",
    "lin_ens_ext = LinearRegression()\n",
    "\n",
    "ens3_input_train = X_train[list(NUMVARS)].copy()\n",
    "ens3_input_train.reset_index(inplace=True, drop=True)\n",
    "ens3_input_train['lasso'] = models.predictions['lasso_all']['train']\n",
    "ens3_input_train[extract_train.columns] = extract_train\n",
    "\n",
    "ens3_input_test = X_test[list(NUMVARS)].copy()\n",
    "ens3_input_test.reset_index(inplace=True, drop=True)\n",
    "ens3_input_test['lasso'] = models.predictions['lasso_all']['test']\n",
    "ens3_input_test[extract_test.columns] = extract_test\n",
    "\n",
    "\n",
    "models.add(\n",
    "    name = 'lin_ensemble_extended',\n",
    "    model = lin_ens_ext.fit(ens3_input_train, y_train),\n",
    "    pred_train = nonnegative(lin_ens_ext.predict(ens3_input_train)),\n",
    "    pred_test = nonnegative(lin_ens_ext.predict(ens3_input_test))\n",
    ")"
   ]
  },
  {
   "cell_type": "code",
   "execution_count": 390,
   "metadata": {},
   "outputs": [
    {
     "name": "stdout",
     "output_type": "stream",
     "text": [
      "lin_ensemble_extended - train: 0 .. 111 .. 2167\n",
      "lin_ensemble_extended - test: 0 .. 112 .. 2082\n"
     ]
    },
    {
     "data": {
      "image/png": "[encoded data removed]",
      "text/plain": [
       "<Figure size 1152x360 with 2 Axes>"
      ]
     },
     "metadata": {
      "needs_background": "light"
     },
     "output_type": "display_data"
    }
   ],
   "source": [
    "models.distr('lin_ensemble_extended')\n",
    "models.visualize('lin_ensemble_extended', zscores=True)"
   ]
  },
  {
   "cell_type": "markdown",
   "metadata": {},
   "source": [
    "This model has an even better MSE! The MAE, however, remains at a relatively high level. "
   ]
  },
  {
   "cell_type": "markdown",
   "metadata": {},
   "source": [
    "## Ensemble selection\n",
    "\n",
    "Clearly, each ensemble improves the result in a certain way. The first ensemble (with dense layers) is successful at minimizing the wMAE, which we have previously defined as a main performance evaluation metric, having a potential business application in mind. Yet it is incapable of predicting claps values higher than around 1300 (which may also at least partially explain the lower wMAE).\n",
    "\n",
    "The second and third ensembles (linear and linear extended) deliver the minimal MSE among all of the examined models, and their prediction ranges reach further up to ca. 2100 claps.\n",
    "\n",
    "To make a more informed decision between the two ensembles, we can have a look at how well the distribution of each of the predictions matches the true distribution (see histograms below). Clearly, the first ensemble is closer to the true distribution of claps. \n",
    "\n",
    "Given the available evidence, it can be concluded that it is the best model. It will be therefore used to predict the claps received by the articles contained in the `Test.csv` dataset."
   ]
  },
  {
   "cell_type": "code",
   "execution_count": 410,
   "metadata": {},
   "outputs": [
    {
     "name": "stdout",
     "output_type": "stream",
     "text": [
      "ensemble - train: 2 .. 73 .. 1368\n",
      "ensemble - test: 2 .. 73 .. 1326\n",
      "wMAE - train: 18.38, test: 18.56. Current rank: 2 \n",
      "mae  - train: 89.63, test: 91.04\n",
      "mse  - train: 80463.72, test: 89924.67\n",
      "r2   - train: 0.41, test: 0.4\n",
      "\n",
      "lin_ensemble - train: 0 .. 111 .. 2147\n",
      "lin_ensemble - test: 0 .. 111 .. 2057\n",
      "wMAE - train: 38.0, test: 38.6. Current rank: 9 \n",
      "mae  - train: 101.46, test: 104.3\n",
      "mse  - train: 73651.71, test: 82807.85\n",
      "r2   - train: 0.46, test: 0.45\n",
      "\n",
      "lin_ensemble_extended - train: 0 .. 111 .. 2167\n",
      "lin_ensemble_extended - test: 0 .. 112 .. 2082\n",
      "wMAE - train: 38.11, test: 38.61. Current rank: 10 \n",
      "mae  - train: 101.35, test: 104.04\n",
      "mse  - train: 73483.55, test: 82388.73\n",
      "r2   - train: 0.46, test: 0.45\n",
      "\n"
     ]
    }
   ],
   "source": [
    "for m in ['ensemble', 'lin_ensemble', 'lin_ensemble_extended']:\n",
    "    models.distr(m)\n",
    "    models.print_stats(m)\n",
    "    print()"
   ]
  },
  {
   "cell_type": "code",
   "execution_count": 436,
   "metadata": {
    "scrolled": false
   },
   "outputs": [
    {
     "data": {
      "text/plain": [
       "array([[<matplotlib.axes._subplots.AxesSubplot object at 0x187f726a0>]],\n",
       "      dtype=object)"
      ]
     },
     "execution_count": 436,
     "metadata": {},
     "output_type": "execute_result"
    },
    {
     "data": {
      "image/png": "[encoded data removed]",
      "text/plain": [
       "<Figure size 1152x288 with 1 Axes>"
      ]
     },
     "metadata": {
      "needs_background": "light"
     },
     "output_type": "display_data"
    },
    {
     "data": {
      "image/png": "[encoded data removed]",
      "text/plain": [
       "<Figure size 1152x288 with 1 Axes>"
      ]
     },
     "metadata": {
      "needs_background": "light"
     },
     "output_type": "display_data"
    },
    {
     "data": {
      "image/png": "[encoded data removed]",
      "text/plain": [
       "<Figure size 1152x288 with 1 Axes>"
      ]
     },
     "metadata": {
      "needs_background": "light"
     },
     "output_type": "display_data"
    }
   ],
   "source": [
    "def hist(var, name, bins=250):\n",
    "    x = pd.DataFrame(var)\n",
    "    x.columns = [name]\n",
    "    p = x.hist(bins=bins, figsize=(16, 4))\n",
    "    p[0][0].set_xlim((0, 1000))\n",
    "    return p\n",
    "\n",
    "hist(y_train, 'Train data: true claps')\n",
    "hist(models.predictions['ensemble']['train'], 'Train data: ensemble predictions')\n",
    "hist(models.predictions['lin_ensemble_extended']['train'], 'Train data: linear ensemble extended predictions')"
   ]
  },
  {
   "cell_type": "markdown",
   "metadata": {},
   "source": [
    "## Final prediction for the assignment\n",
    "\n",
    "In this final part, the pre-prepared test data is loaded and outliers are replaced according to the upper bounds of the `X_train` dataset (which was used to train all models). Prediction is then being made using the ensemble incorporating results of the Lasso regression and of the Mixed input model."
   ]
  },
  {
   "cell_type": "code",
   "execution_count": 330,
   "metadata": {},
   "outputs": [
    {
     "name": "stdout",
     "output_type": "stream",
     "text": [
      "Loaded from local storage.\n",
      "SincePublished: 209 values replaced with the upper bound of 396\n",
      "Responses: 200 values replaced with the upper bound of 6\n",
      "Images: 3 values replaced with the upper bound of 12\n",
      "Links: 2 values replaced with the upper bound of 25\n",
      "Length: 67 values replaced with the upper bound of 13059\n",
      "Words: 0 values replaced with the upper bound of 538\n",
      "Readability: 0 values replaced with the upper bound of 66\n"
     ]
    }
   ],
   "source": [
    "replacer = ReplaceOutliers()\n",
    "\n",
    "# reuse upper bounds from the X_train dataset:\n",
    "with open(DIR + 'replacer_ub.pkl', 'rb') as f:\n",
    "    replacer.ub = pickle.load(f)\n",
    "    \n",
    "with open(DIR + 'ready_for_analysis.pkl', 'rb') as f:\n",
    "    train_target3, train3, test3, word_vectors = pickle.load(f)\n",
    "print('Loaded from local storage.')\n",
    "\n",
    "\n",
    "# data to use for predictions:\n",
    "testdata = replacer.transform(test3)\n",
    "testvectors = word_vectors['test']"
   ]
  },
  {
   "cell_type": "code",
   "execution_count": 348,
   "metadata": {},
   "outputs": [
    {
     "data": {
      "text/html": [
       "<div>\n",
       "<style scoped>\n",
       "    .dataframe tbody tr th:only-of-type {\n",
       "        vertical-align: middle;\n",
       "    }\n",
       "\n",
       "    .dataframe tbody tr th {\n",
       "        vertical-align: top;\n",
       "    }\n",
       "\n",
       "    .dataframe thead th {\n",
       "        text-align: right;\n",
       "    }\n",
       "</style>\n",
       "<table border=\"1\" class=\"dataframe\">\n",
       "  <thead>\n",
       "    <tr style=\"text-align: right;\">\n",
       "      <th></th>\n",
       "      <th>Claps</th>\n",
       "    </tr>\n",
       "  </thead>\n",
       "  <tbody>\n",
       "    <tr>\n",
       "      <th>count</th>\n",
       "      <td>514</td>\n",
       "    </tr>\n",
       "    <tr>\n",
       "      <th>mean</th>\n",
       "      <td>429</td>\n",
       "    </tr>\n",
       "    <tr>\n",
       "      <th>std</th>\n",
       "      <td>334</td>\n",
       "    </tr>\n",
       "    <tr>\n",
       "      <th>min</th>\n",
       "      <td>0</td>\n",
       "    </tr>\n",
       "    <tr>\n",
       "      <th>25%</th>\n",
       "      <td>72</td>\n",
       "    </tr>\n",
       "    <tr>\n",
       "      <th>50%</th>\n",
       "      <td>430</td>\n",
       "    </tr>\n",
       "    <tr>\n",
       "      <th>75%</th>\n",
       "      <td>752</td>\n",
       "    </tr>\n",
       "    <tr>\n",
       "      <th>max</th>\n",
       "      <td>1108</td>\n",
       "    </tr>\n",
       "  </tbody>\n",
       "</table>\n",
       "</div>"
      ],
      "text/plain": [
       "       Claps\n",
       "count    514\n",
       "mean     429\n",
       "std      334\n",
       "min        0\n",
       "25%       72\n",
       "50%      430\n",
       "75%      752\n",
       "max     1108"
      ]
     },
     "execution_count": 348,
     "metadata": {},
     "output_type": "execute_result"
    }
   ],
   "source": [
    "# load models:\n",
    "mixed_cnn = keras.models.load_model(DIR + 'mixed')\n",
    "ensemble = keras.models.load_model(DIR + 'ensemble')\n",
    "\n",
    "\n",
    "# make prediction(s):\n",
    "mixed_prediction = nonnegative(mixed_cnn.predict([testvectors, testdata[list(NUMVARS)]]))\n",
    "lasso_prediction = nonnegative(models.models['lasso_all'].predict(testdata))\n",
    "\n",
    "ensemble_prediction = nonnegative(ensemble.predict([\n",
    "    testdata[list(NUMVARS)], \n",
    "    lasso_prediction, \n",
    "    mixed_prediction]))\n",
    "\n",
    "\n",
    "# match the suggested output format and write csv-file:\n",
    "final_prediction = pd.DataFrame(ensemble_prediction)\n",
    "final_prediction.columns = ['Claps']\n",
    "final_prediction.reset_index(inplace=True)\n",
    "final_prediction.to_csv('Submission_Gleb_Zhidkov.csv', index=False)\n",
    "\n",
    "\n",
    "# descriptive stats:\n",
    "final_prediction.describe()"
   ]
  },
  {
   "cell_type": "code",
   "execution_count": 446,
   "metadata": {
    "scrolled": true
   },
   "outputs": [
    {
     "data": {
      "text/plain": [
       "array([[<matplotlib.axes._subplots.AxesSubplot object at 0x188b395e0>]],\n",
       "      dtype=object)"
      ]
     },
     "execution_count": 446,
     "metadata": {},
     "output_type": "execute_result"
    },
    {
     "data": {
      "image/png": "[encoded data removed]",
      "text/plain": [
       "<Figure size 1152x288 with 1 Axes>"
      ]
     },
     "metadata": {
      "needs_background": "light"
     },
     "output_type": "display_data"
    }
   ],
   "source": [
    "hist(final_prediction.Claps, 'Claps predicted for the submission') \n",
    "# looks pretty much like a city with skyscrapers"
   ]
  },
  {
   "cell_type": "markdown",
   "metadata": {
    "colab_type": "text",
    "id": "TFEG30hA12qs"
   },
   "source": [
    "# Appendix: Transformers"
   ]
  },
  {
   "cell_type": "markdown",
   "metadata": {
    "colab_type": "text",
    "id": "2TsLTRXTU15r"
   },
   "source": [
    "Before making some success with CNN/Mixed input models, I have attempted to build a model using BERT. Unfortunately, the pre-prepared regression model from the **bert-sklearn** package learned a loss-optimizing pattern that had nothing to do with the actual distribution of data (all predictions in a small range around 55 claps). Due to the time constraint, I did not further work with transformers; however, I believe that they _may_ allow for an even better prediction accuracy. The code for the BERT model is presented in this appendix.\n",
    "\n",
    "----\n",
    "\n",
    "BERT requires some extra data preparation steps:\n",
    "\n",
    "*   Using (cleaned) text, keeping sentence structure which is of interest to BERT\n",
    "*   Running on Colab to make use of extra GPU\n",
    "*   Removing everything not needed from RAM to avoid notebook from crashing\n",
    "*   Using **bert-sklearn** as a very intuitive and powerful **torch** wrapper for BERT\n",
    "*   Removing almost-empty data entries when training, because they cause an internal error at the level of **torch** (non-matching dimensions between input and target)"
   ]
  },
  {
   "cell_type": "code",
   "execution_count": 9,
   "metadata": {
    "colab": {},
    "colab_type": "code",
    "executionInfo": {
     "elapsed": 76985,
     "status": "ok",
     "timestamp": 1598127277197,
     "user": {
      "displayName": "Gleb Zhidkov",
      "photoUrl": "https://lh3.googleusercontent.com/a-/AOh14GhxfJzUwgmsmanA2jq59QhUF0o850l2N9yvgdM-8g=s64",
      "userId": "07389285725153387427"
     },
     "user_tz": -120
    },
    "id": "Uug20yr5sPex"
   },
   "outputs": [],
   "source": [
    "# free up RAM:\n",
    "\n",
    "X_train = X_train[['Text']]\n",
    "X_test = X_test[['Text']]\n",
    "\n",
    "del W_train, W_test "
   ]
  },
  {
   "cell_type": "code",
   "execution_count": 16,
   "metadata": {
    "colab": {
     "base_uri": "https://localhost:8080/",
     "height": 666
    },
    "colab_type": "code",
    "executionInfo": {
     "elapsed": 12121,
     "status": "ok",
     "timestamp": 1598127131502,
     "user": {
      "displayName": "Gleb Zhidkov",
      "photoUrl": "https://lh3.googleusercontent.com/a-/AOh14GhxfJzUwgmsmanA2jq59QhUF0o850l2N9yvgdM-8g=s64",
      "userId": "07389285725153387427"
     },
     "user_tz": -120
    },
    "id": "r5CIF6ZH12qt",
    "outputId": "b4200120-455e-4645-bf82-b4a945b1011e"
   },
   "outputs": [],
   "source": [
    "try:\n",
    "    from bert_sklearn import BertClassifier\n",
    "except:\n",
    "    print('Installing bert_sklearn from github...')\n",
    "    !git clone -b master https://github.com/charles9n/bert-sklearn\n",
    "    !cd bert-sklearn; pip install .\n",
    "\n",
    "# demo:\n",
    "# https://colab.research.google.com/drive/1-wTNA-qYmOBdSYG7sRhIdOrxcgPpcl6L#scrollTo=VQW8xgpSlIKG\n",
    "\n",
    "from bert_sklearn import BertRegressor\n",
    "from bert_sklearn import load_model"
   ]
  },
  {
   "cell_type": "code",
   "execution_count": 17,
   "metadata": {
    "colab": {
     "base_uri": "https://localhost:8080/",
     "height": 51
    },
    "colab_type": "code",
    "executionInfo": {
     "elapsed": 74029,
     "status": "ok",
     "timestamp": 1598127277502,
     "user": {
      "displayName": "Gleb Zhidkov",
      "photoUrl": "https://lh3.googleusercontent.com/a-/AOh14GhxfJzUwgmsmanA2jq59QhUF0o850l2N9yvgdM-8g=s64",
      "userId": "07389285725153387427"
     },
     "user_tz": -120
    },
    "id": "ekeAC7-8AhAN",
    "outputId": "fd72aae0-b907-4e90-f64e-bf13e228a93d"
   },
   "outputs": [
    {
     "name": "stdout",
     "output_type": "stream",
     "text": [
      "pytorch version: 1.6.0\n",
      "WARNING: No GPU identified and/or this error: Torch not compiled with CUDA enabled\n"
     ]
    }
   ],
   "source": [
    "import torch\n",
    "print('pytorch version:', torch.__version__)\n",
    "\n",
    "try:\n",
    "    print('GPU:',torch.cuda.get_device_name(0))\n",
    "except Exception as e:\n",
    "    print(f'WARNING: No GPU identified and/or this error: {e}')"
   ]
  },
  {
   "cell_type": "code",
   "execution_count": 19,
   "metadata": {
    "colab": {
     "base_uri": "https://localhost:8080/",
     "height": 34
    },
    "colab_type": "code",
    "executionInfo": {
     "elapsed": 5076,
     "status": "ok",
     "timestamp": 1598106516041,
     "user": {
      "displayName": "Gleb Zhidkov",
      "photoUrl": "https://lh3.googleusercontent.com/a-/AOh14GhxfJzUwgmsmanA2jq59QhUF0o850l2N9yvgdM-8g=s64",
      "userId": "07389285725153387427"
     },
     "user_tz": -120
    },
    "id": "sb-VSlkZ12qu",
    "outputId": "066b4fd7-c7cf-411a-e37d-787274a9c3c8"
   },
   "outputs": [
    {
     "name": "stdout",
     "output_type": "stream",
     "text": [
      "Building sklearn text regressor...\n"
     ]
    }
   ],
   "source": [
    "#https://github.com/charles9n/bert-sklearn/blob/master/Options.md\n",
    "\n",
    "bert = BertRegressor(bert_model = 'bert-base-uncased',\n",
    "                    max_seq_length = 256, #100, # 512 tokens is max\n",
    "                    validation_fraction = 0.2,\n",
    "                    epochs = 3,\n",
    "                    train_batch_size = 16,\n",
    "                    logfile = DIR+'bert_sklearn.log')"
   ]
  },
  {
   "cell_type": "code",
   "execution_count": 18,
   "metadata": {
    "colab": {
     "base_uri": "https://localhost:8080/",
     "height": 34
    },
    "colab_type": "code",
    "executionInfo": {
     "elapsed": 33355,
     "status": "ok",
     "timestamp": 1598127328692,
     "user": {
      "displayName": "Gleb Zhidkov",
      "photoUrl": "https://lh3.googleusercontent.com/a-/AOh14GhxfJzUwgmsmanA2jq59QhUF0o850l2N9yvgdM-8g=s64",
      "userId": "07389285725153387427"
     },
     "user_tz": -120
    },
    "id": "uisXJ46Rzcch",
    "outputId": "c4e18a6e-89fd-4c9b-eb9f-8881d77ec949"
   },
   "outputs": [
    {
     "name": "stdout",
     "output_type": "stream",
     "text": [
      "457 short articles excluded from training.\n"
     ]
    }
   ],
   "source": [
    "#bert_train = np.array(words_to_docs(X_train['Text'], drop_dots=False))\n",
    "#bert_test = np.array(words_to_docs(X_test['Text'], drop_dots=False))\n",
    "\n",
    "bert_train = words_to_docs(X_train['Text'], drop_dots=False)\n",
    "bert_test = words_to_docs(X_test['Text'], drop_dots=False)\n",
    "\n",
    "\n",
    "KEEP = [idx for idx, x in enumerate(bert_train) if len(x) > 100]\n",
    "bert_train2 = [bert_train[i] for i in KEEP]\n",
    "bert_target2 = [y_train.to_list()[i] for i in KEEP]\n",
    "\n",
    "assert len(bert_train2) == len(bert_target2)\n",
    "print(f'{len(bert_train) - len(KEEP)} short articles excluded from training.')"
   ]
  },
  {
   "cell_type": "code",
   "execution_count": null,
   "metadata": {
    "colab": {
     "base_uri": "https://localhost:8080/",
     "height": 671,
     "referenced_widgets": [
      "37160c3a9fab4c9a981862c7e5943467",
      "df13c00e62914b4aafca417bb062229c",
      "86ddc77a033345df9dab4d6a334682d3",
      "6409468fd1314321a39975c8d3c9cbfd",
      "1c14ef35544b44b5a73903c11c58158c",
      "45eb5c3000de42909a0b78c0ff704f2b",
      "198894d8a2ae42aa945fe08249b13667",
      "afb86ccce25a44b78becb1de5f7646ae",
      "b8817ed3c39c4faaa2954429462855d2",
      "d608d876b70e4554b85a40ba2ca4ad1e",
      "012d0770049540b78a42b6cff2d453e9",
      "2ebc19679ad74e54afe731628ddd9d40",
      "b4ba802dabc1424ba38a786eba79531c",
      "95c31a5f6d374625b1c17cf4b12f121f",
      "d3bb808406454dc8a085594c0e364dd7",
      "d6d059e3b9aa47cb91be6d215f854ac7",
      "85e6c585ceeb4fa4a8a7d54eac7a230e",
      "71ccd261cb504e5fb325961ae43f9302",
      "2b90a29de38647e2ae4d9577587c4b7d",
      "2b9a8192e9644eb18b6e12fb812dc866",
      "18d1a061991e4163b9719a9a1ae8b96a",
      "fcf002c74a0b48e181799b0e4f77737b",
      "b31379b93bbe47c2bf03ad92eb049c91",
      "6f01b2571fe84b5db17ebfe05f7ccb1c",
      "1ce0ee561f564c8f97850f4a1f4b76dd",
      "c369b82da1a0469c90380c6ac211adea",
      "0ba6b8c0dca541699a8fb3fac1df8afb",
      "3ea2d0ad0f4543e09e839c23ee058954",
      "fdbb5ca0081b4a1c9d6d8ee1fa9d3d8f",
      "c2dd546090a24316af59e083a4329372",
      "b94f914054b947d0bd57aac145ff8ed7",
      "a6f24ce6a6c74a91a4dd615a852313d8",
      "a70495d39f2a463892882fc4aa7fb7dd",
      "98f9167fb55844e291b8a3099b6fb664",
      "b305e662be374f3a9fe969aeecb9de66",
      "ac97680c7fa5411994b2f1315a0b8120",
      "e601d5b455184dc5a66500a455f1fbcb",
      "ef7075e9991c44bbb831adc6e85f28b4",
      "6808ed07acd64afdb9a091ea2b011a8b",
      "fbc793f160e44f10850c5626f28a0d64",
      "990a0474d19547dda75615f2ce273fec",
      "b8ae2b1ff42f4fb6b069cf1f05487fdf",
      "18011349bce24a2795e05925da57abb1",
      "14d1960a8b6e495ba6f9d8290ee9ca9d",
      "175118da260d4095bb920826d11e8cb5",
      "2db0ba2d16b546b18dbe45f64fcdc006",
      "c21e4c34976a430780f0685941995396",
      "3ea09c58b87e449999951ff6b6fc9d03"
     ]
    },
    "colab_type": "code",
    "executionInfo": {
     "elapsed": 7240389,
     "status": "ok",
     "timestamp": 1598113785977,
     "user": {
      "displayName": "Gleb Zhidkov",
      "photoUrl": "https://lh3.googleusercontent.com/a-/AOh14GhxfJzUwgmsmanA2jq59QhUF0o850l2N9yvgdM-8g=s64",
      "userId": "07389285725153387427"
     },
     "user_tz": -120
    },
    "id": "Y6Vgc2IXrVqa",
    "outputId": "8d9ff95d-7bf3-4486-aae7-a47057da06a3"
   },
   "outputs": [],
   "source": [
    "# fit BERT:\n",
    "\n",
    "bert_model = bert.fit(bert_train2, bert_target2)"
   ]
  },
  {
   "cell_type": "code",
   "execution_count": 13,
   "metadata": {
    "colab": {
     "base_uri": "https://localhost:8080/",
     "height": 200,
     "referenced_widgets": [
      "e79863c80b624cb1ba2e0df81ff8cf49",
      "ddc05043b0534cacb3f317464b6a6638",
      "37eabdf3245a44ca94720a4c324c09cc",
      "a5de600450594721aeaf7c2c86e9c8dd",
      "fbdf287b24b943ab893e9f84345db03f",
      "1cb4acc6b3a347869dbe30ff7a8b5bdd",
      "db786176009541d1a74b20e74a3aa9ad",
      "f6e28a18a2c14be49fd6047b01076677",
      "98771543648740bd9e6210fea5bb9dd3",
      "cef679f7a28944a4a30d89570cd38c4d",
      "d0bdeb3732374fb2a70c86dc67157dd2",
      "9fe358f255194a5895d566964cbcc69b",
      "7eec57dae52d4600bd0e7c301eca42ca",
      "cd80f351fd284021b1b9b79b9bab202e",
      "baa20e45e9a64b6fae04049b68e8dbad",
      "afa88858030448f48ec728ee7309de2b"
     ]
    },
    "colab_type": "code",
    "executionInfo": {
     "elapsed": 1189606,
     "status": "ok",
     "timestamp": 1598114977809,
     "user": {
      "displayName": "Gleb Zhidkov",
      "photoUrl": "https://lh3.googleusercontent.com/a-/AOh14GhxfJzUwgmsmanA2jq59QhUF0o850l2N9yvgdM-8g=s64",
      "userId": "07389285725153387427"
     },
     "user_tz": -120
    },
    "id": "LlfbSmw1WCYc",
    "outputId": "43feb647-8877-41ca-8dd1-fa069cc6053f"
   },
   "outputs": [
    {
     "data": {
      "application/vnd.jupyter.widget-view+json": {
       "model_id": "e79863c80b624cb1ba2e0df81ff8cf49",
       "version_major": 2,
       "version_minor": 0
      },
      "text/plain": [
       "HBox(children=(FloatProgress(value=0.0, description='Predicting', max=6201.0, style=ProgressStyle(description_…"
      ]
     },
     "metadata": {
      "tags": []
     },
     "output_type": "display_data"
    },
    {
     "name": "stdout",
     "output_type": "stream",
     "text": [
      "\n"
     ]
    },
    {
     "data": {
      "application/vnd.jupyter.widget-view+json": {
       "model_id": "98771543648740bd9e6210fea5bb9dd3",
       "version_major": 2,
       "version_minor": 0
      },
      "text/plain": [
       "HBox(children=(FloatProgress(value=0.0, description='Predicting', max=2067.0, style=ProgressStyle(description_…"
      ]
     },
     "metadata": {
      "tags": []
     },
     "output_type": "display_data"
    },
    {
     "name": "stdout",
     "output_type": "stream",
     "text": [
      "\n",
      "wMAE - train: 53.29, test: 53.3. Current rank: 1 \n",
      "r2   - train: -0.02, test: -0.02\n",
      "Elapsed: 8405 seconds.\n",
      "Saved locally.\n",
      "\n"
     ]
    }
   ],
   "source": [
    "models.add(name = 'bert_256',\n",
    "           model = None,\n",
    "           pred_train = bert.predict(bert_train),\n",
    "           pred_test = bert.predict(bert_test)\n",
    ")\n",
    "\n",
    "bert.save(DIR + 'bert_256') # saving the model separately\n",
    "models.save(DIR + 'models_22aug.pkl')"
   ]
  },
  {
   "cell_type": "code",
   "execution_count": 14,
   "metadata": {
    "colab": {
     "base_uri": "https://localhost:8080/",
     "height": 356
    },
    "colab_type": "code",
    "executionInfo": {
     "elapsed": 2644,
     "status": "ok",
     "timestamp": 1598117196219,
     "user": {
      "displayName": "Gleb Zhidkov",
      "photoUrl": "https://lh3.googleusercontent.com/a-/AOh14GhxfJzUwgmsmanA2jq59QhUF0o850l2N9yvgdM-8g=s64",
      "userId": "07389285725153387427"
     },
     "user_tz": -120
    },
    "id": "oXZCGOxkgb9H",
    "outputId": "712152cc-986d-4eda-c8b2-2700881c7b7c"
   },
   "outputs": [
    {
     "data": {
      "image/png": "[encoded data removed]",
      "text/plain": [
       "<Figure size 1152x360 with 2 Axes>"
      ]
     },
     "metadata": {
      "needs_background": "light",
      "tags": []
     },
     "output_type": "display_data"
    }
   ],
   "source": [
    "models.visualize('bert_256')"
   ]
  },
  {
   "cell_type": "code",
   "execution_count": 18,
   "metadata": {
    "colab": {
     "base_uri": "https://localhost:8080/",
     "height": 34
    },
    "colab_type": "code",
    "executionInfo": {
     "elapsed": 985,
     "status": "ok",
     "timestamp": 1598117244764,
     "user": {
      "displayName": "Gleb Zhidkov",
      "photoUrl": "https://lh3.googleusercontent.com/a-/AOh14GhxfJzUwgmsmanA2jq59QhUF0o850l2N9yvgdM-8g=s64",
      "userId": "07389285725153387427"
     },
     "user_tz": -120
    },
    "id": "FnlBdaJFgb9J",
    "outputId": "14ccb3c7-88bc-4537-bc41-7eb714fd6ce4"
   },
   "outputs": [
    {
     "data": {
      "text/plain": [
       "53.315384"
      ]
     },
     "execution_count": 18,
     "metadata": {
      "tags": []
     },
     "output_type": "execute_result"
    }
   ],
   "source": [
    "min(models.predictions['bert_256']['train'])"
   ]
  }
 ],
 "metadata": {
  "accelerator": "GPU",
  "colab": {
   "collapsed_sections": [
    "u2IPSXTT12nw",
    "jasyDtftvLNn",
    "JQQKU4bLvLN7",
    "KLVMUC6o12ok",
    "zlS3nLaH12o7",
    "0CFHYiAm12pD",
    "zTvgy-rz12pG"
   ],
   "name": "analysis-prep4.ipynb",
   "provenance": [],
   "toc_visible": true
  },
  "kernelspec": {
   "display_name": "Python 3",
   "language": "python",
   "name": "python3"
  },
  "language_info": {
   "codemirror_mode": {
    "name": "ipython",
    "version": 3
   },
   "file_extension": ".py",
   "mimetype": "text/x-python",
   "name": "python",
   "nbconvert_exporter": "python",
   "pygments_lexer": "ipython3",
   "version": "3.8.0"
  },
  "toc": {
   "base_numbering": 1,
   "nav_menu": {
    "height": "250px",
    "width": "210px"
   },
   "number_sections": true,
   "sideBar": true,
   "skip_h1_title": false,
   "title_cell": "Table of Contents",
   "title_sidebar": "Contents",
   "toc_cell": false,
   "toc_position": {
    "height": "calc(100% - 180px)",
    "left": "10px",
    "top": "150px",
    "width": "185px"
   },
   "toc_section_display": true,
   "toc_window_display": true
  },
  "widgets": {
   "application/vnd.jupyter.widget-state+json": {
    "012d0770049540b78a42b6cff2d453e9": {
     "model_module": "@jupyter-widgets/controls",
     "model_name": "FloatProgressModel",
     "state": {
      "_dom_classes": [],
      "_model_module": "@jupyter-widgets/controls",
      "_model_module_version": "1.5.0",
      "_model_name": "FloatProgressModel",
      "_view_count": null,
      "_view_module": "@jupyter-widgets/controls",
      "_view_module_version": "1.5.0",
      "_view_name": "ProgressView",
      "bar_style": "success",
      "description": "Validating: 100%",
      "description_tooltip": null,
      "layout": "IPY_MODEL_95c31a5f6d374625b1c17cf4b12f121f",
      "max": 1229,
      "min": 0,
      "orientation": "horizontal",
      "style": "IPY_MODEL_b4ba802dabc1424ba38a786eba79531c",
      "value": 1229
     }
    },
    "097ee1bdf8464447892bff9b595f912c": {
     "model_module": "@jupyter-widgets/base",
     "model_name": "LayoutModel",
     "state": {
      "_model_module": "@jupyter-widgets/base",
      "_model_module_version": "1.2.0",
      "_model_name": "LayoutModel",
      "_view_count": null,
      "_view_module": "@jupyter-widgets/base",
      "_view_module_version": "1.2.0",
      "_view_name": "LayoutView",
      "align_content": null,
      "align_items": null,
      "align_self": null,
      "border": null,
      "bottom": null,
      "display": null,
      "flex": null,
      "flex_flow": null,
      "grid_area": null,
      "grid_auto_columns": null,
      "grid_auto_flow": null,
      "grid_auto_rows": null,
      "grid_column": null,
      "grid_gap": null,
      "grid_row": null,
      "grid_template_areas": null,
      "grid_template_columns": null,
      "grid_template_rows": null,
      "height": null,
      "justify_content": null,
      "justify_items": null,
      "left": null,
      "margin": null,
      "max_height": null,
      "max_width": null,
      "min_height": null,
      "min_width": null,
      "object_fit": null,
      "object_position": null,
      "order": null,
      "overflow": null,
      "overflow_x": null,
      "overflow_y": null,
      "padding": null,
      "right": null,
      "top": null,
      "visibility": null,
      "width": null
     }
    },
    "0ba6b8c0dca541699a8fb3fac1df8afb": {
     "model_module": "@jupyter-widgets/controls",
     "model_name": "FloatProgressModel",
     "state": {
      "_dom_classes": [],
      "_model_module": "@jupyter-widgets/controls",
      "_model_module_version": "1.5.0",
      "_model_name": "FloatProgressModel",
      "_view_count": null,
      "_view_module": "@jupyter-widgets/controls",
      "_view_module_version": "1.5.0",
      "_view_name": "ProgressView",
      "bar_style": "success",
      "description": "Validating: 100%",
      "description_tooltip": null,
      "layout": "IPY_MODEL_c2dd546090a24316af59e083a4329372",
      "max": 1229,
      "min": 0,
      "orientation": "horizontal",
      "style": "IPY_MODEL_fdbb5ca0081b4a1c9d6d8ee1fa9d3d8f",
      "value": 1229
     }
    },
    "1058f10522174b578d1cdb6de7215180": {
     "model_module": "@jupyter-widgets/controls",
     "model_name": "DescriptionStyleModel",
     "state": {
      "_model_module": "@jupyter-widgets/controls",
      "_model_module_version": "1.5.0",
      "_model_name": "DescriptionStyleModel",
      "_view_count": null,
      "_view_module": "@jupyter-widgets/base",
      "_view_module_version": "1.2.0",
      "_view_name": "StyleView",
      "description_width": ""
     }
    },
    "14d1960a8b6e495ba6f9d8290ee9ca9d": {
     "model_module": "@jupyter-widgets/controls",
     "model_name": "HTMLModel",
     "state": {
      "_dom_classes": [],
      "_model_module": "@jupyter-widgets/controls",
      "_model_module_version": "1.5.0",
      "_model_name": "HTMLModel",
      "_view_count": null,
      "_view_module": "@jupyter-widgets/controls",
      "_view_module_version": "1.5.0",
      "_view_name": "HTMLView",
      "description": "",
      "description_tooltip": null,
      "layout": "IPY_MODEL_3ea09c58b87e449999951ff6b6fc9d03",
      "placeholder": "​",
      "style": "IPY_MODEL_c21e4c34976a430780f0685941995396",
      "value": " 1229/1229 [1:16:46&lt;00:00,  3.75s/it]"
     }
    },
    "175118da260d4095bb920826d11e8cb5": {
     "model_module": "@jupyter-widgets/controls",
     "model_name": "ProgressStyleModel",
     "state": {
      "_model_module": "@jupyter-widgets/controls",
      "_model_module_version": "1.5.0",
      "_model_name": "ProgressStyleModel",
      "_view_count": null,
      "_view_module": "@jupyter-widgets/base",
      "_view_module_version": "1.2.0",
      "_view_name": "StyleView",
      "bar_color": null,
      "description_width": "initial"
     }
    },
    "18011349bce24a2795e05925da57abb1": {
     "model_module": "@jupyter-widgets/controls",
     "model_name": "FloatProgressModel",
     "state": {
      "_dom_classes": [],
      "_model_module": "@jupyter-widgets/controls",
      "_model_module_version": "1.5.0",
      "_model_name": "FloatProgressModel",
      "_view_count": null,
      "_view_module": "@jupyter-widgets/controls",
      "_view_module_version": "1.5.0",
      "_view_name": "ProgressView",
      "bar_style": "success",
      "description": "Validating: 100%",
      "description_tooltip": null,
      "layout": "IPY_MODEL_2db0ba2d16b546b18dbe45f64fcdc006",
      "max": 1229,
      "min": 0,
      "orientation": "horizontal",
      "style": "IPY_MODEL_175118da260d4095bb920826d11e8cb5",
      "value": 1229
     }
    },
    "18d1a061991e4163b9719a9a1ae8b96a": {
     "model_module": "@jupyter-widgets/controls",
     "model_name": "ProgressStyleModel",
     "state": {
      "_model_module": "@jupyter-widgets/controls",
      "_model_module_version": "1.5.0",
      "_model_name": "ProgressStyleModel",
      "_view_count": null,
      "_view_module": "@jupyter-widgets/base",
      "_view_module_version": "1.2.0",
      "_view_name": "StyleView",
      "bar_color": null,
      "description_width": "initial"
     }
    },
    "198894d8a2ae42aa945fe08249b13667": {
     "model_module": "@jupyter-widgets/controls",
     "model_name": "DescriptionStyleModel",
     "state": {
      "_model_module": "@jupyter-widgets/controls",
      "_model_module_version": "1.5.0",
      "_model_name": "DescriptionStyleModel",
      "_view_count": null,
      "_view_module": "@jupyter-widgets/base",
      "_view_module_version": "1.2.0",
      "_view_name": "StyleView",
      "description_width": ""
     }
    },
    "1c14ef35544b44b5a73903c11c58158c": {
     "model_module": "@jupyter-widgets/controls",
     "model_name": "ProgressStyleModel",
     "state": {
      "_model_module": "@jupyter-widgets/controls",
      "_model_module_version": "1.5.0",
      "_model_name": "ProgressStyleModel",
      "_view_count": null,
      "_view_module": "@jupyter-widgets/base",
      "_view_module_version": "1.2.0",
      "_view_name": "StyleView",
      "bar_color": null,
      "description_width": "initial"
     }
    },
    "1cb4acc6b3a347869dbe30ff7a8b5bdd": {
     "model_module": "@jupyter-widgets/base",
     "model_name": "LayoutModel",
     "state": {
      "_model_module": "@jupyter-widgets/base",
      "_model_module_version": "1.2.0",
      "_model_name": "LayoutModel",
      "_view_count": null,
      "_view_module": "@jupyter-widgets/base",
      "_view_module_version": "1.2.0",
      "_view_name": "LayoutView",
      "align_content": null,
      "align_items": null,
      "align_self": null,
      "border": null,
      "bottom": null,
      "display": null,
      "flex": null,
      "flex_flow": null,
      "grid_area": null,
      "grid_auto_columns": null,
      "grid_auto_flow": null,
      "grid_auto_rows": null,
      "grid_column": null,
      "grid_gap": null,
      "grid_row": null,
      "grid_template_areas": null,
      "grid_template_columns": null,
      "grid_template_rows": null,
      "height": null,
      "justify_content": null,
      "justify_items": null,
      "left": null,
      "margin": null,
      "max_height": null,
      "max_width": null,
      "min_height": null,
      "min_width": null,
      "object_fit": null,
      "object_position": null,
      "order": null,
      "overflow": null,
      "overflow_x": null,
      "overflow_y": null,
      "padding": null,
      "right": null,
      "top": null,
      "visibility": null,
      "width": null
     }
    },
    "1ce0ee561f564c8f97850f4a1f4b76dd": {
     "model_module": "@jupyter-widgets/controls",
     "model_name": "HBoxModel",
     "state": {
      "_dom_classes": [],
      "_model_module": "@jupyter-widgets/controls",
      "_model_module_version": "1.5.0",
      "_model_name": "HBoxModel",
      "_view_count": null,
      "_view_module": "@jupyter-widgets/controls",
      "_view_module_version": "1.5.0",
      "_view_name": "HBoxView",
      "box_style": "",
      "children": [
       "IPY_MODEL_0ba6b8c0dca541699a8fb3fac1df8afb",
       "IPY_MODEL_3ea2d0ad0f4543e09e839c23ee058954"
      ],
      "layout": "IPY_MODEL_c369b82da1a0469c90380c6ac211adea"
     }
    },
    "1dd0dc860bbe46efb3e8c8d1ea7510db": {
     "model_module": "@jupyter-widgets/base",
     "model_name": "LayoutModel",
     "state": {
      "_model_module": "@jupyter-widgets/base",
      "_model_module_version": "1.2.0",
      "_model_name": "LayoutModel",
      "_view_count": null,
      "_view_module": "@jupyter-widgets/base",
      "_view_module_version": "1.2.0",
      "_view_name": "LayoutView",
      "align_content": null,
      "align_items": null,
      "align_self": null,
      "border": null,
      "bottom": null,
      "display": null,
      "flex": null,
      "flex_flow": null,
      "grid_area": null,
      "grid_auto_columns": null,
      "grid_auto_flow": null,
      "grid_auto_rows": null,
      "grid_column": null,
      "grid_gap": null,
      "grid_row": null,
      "grid_template_areas": null,
      "grid_template_columns": null,
      "grid_template_rows": null,
      "height": null,
      "justify_content": null,
      "justify_items": null,
      "left": null,
      "margin": null,
      "max_height": null,
      "max_width": null,
      "min_height": null,
      "min_width": null,
      "object_fit": null,
      "object_position": null,
      "order": null,
      "overflow": null,
      "overflow_x": null,
      "overflow_y": null,
      "padding": null,
      "right": null,
      "top": null,
      "visibility": null,
      "width": null
     }
    },
    "222c7ce161524d39b78bf53e44bc1879": {
     "model_module": "@jupyter-widgets/controls",
     "model_name": "HBoxModel",
     "state": {
      "_dom_classes": [],
      "_model_module": "@jupyter-widgets/controls",
      "_model_module_version": "1.5.0",
      "_model_name": "HBoxModel",
      "_view_count": null,
      "_view_module": "@jupyter-widgets/controls",
      "_view_module_version": "1.5.0",
      "_view_name": "HBoxView",
      "box_style": "",
      "children": [
       "IPY_MODEL_d18e8f1e046d4c7e89418674c0303932",
       "IPY_MODEL_ed551a54ad04460fb7a0357b30e363ed"
      ],
      "layout": "IPY_MODEL_6301d131c23c45fc8218cbfdb20f959c"
     }
    },
    "23b26b9dc37c47729048c5dadeb397e4": {
     "model_module": "@jupyter-widgets/controls",
     "model_name": "FloatProgressModel",
     "state": {
      "_dom_classes": [],
      "_model_module": "@jupyter-widgets/controls",
      "_model_module_version": "1.5.0",
      "_model_name": "FloatProgressModel",
      "_view_count": null,
      "_view_module": "@jupyter-widgets/controls",
      "_view_module_version": "1.5.0",
      "_view_name": "ProgressView",
      "bar_style": "success",
      "description": "Validating: 100%",
      "description_tooltip": null,
      "layout": "IPY_MODEL_d35a46915e344a44b76d27f358f5c05f",
      "max": 1229,
      "min": 0,
      "orientation": "horizontal",
      "style": "IPY_MODEL_5066c02db20d4d1e83a8268605c6413c",
      "value": 1229
     }
    },
    "28a083193bd24a6ea44abdc0d4cbb48e": {
     "model_module": "@jupyter-widgets/base",
     "model_name": "LayoutModel",
     "state": {
      "_model_module": "@jupyter-widgets/base",
      "_model_module_version": "1.2.0",
      "_model_name": "LayoutModel",
      "_view_count": null,
      "_view_module": "@jupyter-widgets/base",
      "_view_module_version": "1.2.0",
      "_view_name": "LayoutView",
      "align_content": null,
      "align_items": null,
      "align_self": null,
      "border": null,
      "bottom": null,
      "display": null,
      "flex": null,
      "flex_flow": null,
      "grid_area": null,
      "grid_auto_columns": null,
      "grid_auto_flow": null,
      "grid_auto_rows": null,
      "grid_column": null,
      "grid_gap": null,
      "grid_row": null,
      "grid_template_areas": null,
      "grid_template_columns": null,
      "grid_template_rows": null,
      "height": null,
      "justify_content": null,
      "justify_items": null,
      "left": null,
      "margin": null,
      "max_height": null,
      "max_width": null,
      "min_height": null,
      "min_width": null,
      "object_fit": null,
      "object_position": null,
      "order": null,
      "overflow": null,
      "overflow_x": null,
      "overflow_y": null,
      "padding": null,
      "right": null,
      "top": null,
      "visibility": null,
      "width": null
     }
    },
    "2b90a29de38647e2ae4d9577587c4b7d": {
     "model_module": "@jupyter-widgets/controls",
     "model_name": "FloatProgressModel",
     "state": {
      "_dom_classes": [],
      "_model_module": "@jupyter-widgets/controls",
      "_model_module_version": "1.5.0",
      "_model_name": "FloatProgressModel",
      "_view_count": null,
      "_view_module": "@jupyter-widgets/controls",
      "_view_module_version": "1.5.0",
      "_view_name": "ProgressView",
      "bar_style": "success",
      "description": "Training  : 100%",
      "description_tooltip": null,
      "layout": "IPY_MODEL_fcf002c74a0b48e181799b0e4f77737b",
      "max": 2458,
      "min": 0,
      "orientation": "horizontal",
      "style": "IPY_MODEL_18d1a061991e4163b9719a9a1ae8b96a",
      "value": 2458
     }
    },
    "2b9a8192e9644eb18b6e12fb812dc866": {
     "model_module": "@jupyter-widgets/controls",
     "model_name": "HTMLModel",
     "state": {
      "_dom_classes": [],
      "_model_module": "@jupyter-widgets/controls",
      "_model_module_version": "1.5.0",
      "_model_name": "HTMLModel",
      "_view_count": null,
      "_view_module": "@jupyter-widgets/controls",
      "_view_module_version": "1.5.0",
      "_view_name": "HTMLView",
      "description": "",
      "description_tooltip": null,
      "layout": "IPY_MODEL_6f01b2571fe84b5db17ebfe05f7ccb1c",
      "placeholder": "​",
      "style": "IPY_MODEL_b31379b93bbe47c2bf03ad92eb049c91",
      "value": " 2458/2458 [1:16:52&lt;00:00,  1.88s/it, loss=1.4e+5]"
     }
    },
    "2db0ba2d16b546b18dbe45f64fcdc006": {
     "model_module": "@jupyter-widgets/base",
     "model_name": "LayoutModel",
     "state": {
      "_model_module": "@jupyter-widgets/base",
      "_model_module_version": "1.2.0",
      "_model_name": "LayoutModel",
      "_view_count": null,
      "_view_module": "@jupyter-widgets/base",
      "_view_module_version": "1.2.0",
      "_view_name": "LayoutView",
      "align_content": null,
      "align_items": null,
      "align_self": null,
      "border": null,
      "bottom": null,
      "display": null,
      "flex": null,
      "flex_flow": null,
      "grid_area": null,
      "grid_auto_columns": null,
      "grid_auto_flow": null,
      "grid_auto_rows": null,
      "grid_column": null,
      "grid_gap": null,
      "grid_row": null,
      "grid_template_areas": null,
      "grid_template_columns": null,
      "grid_template_rows": null,
      "height": null,
      "justify_content": null,
      "justify_items": null,
      "left": null,
      "margin": null,
      "max_height": null,
      "max_width": null,
      "min_height": null,
      "min_width": null,
      "object_fit": null,
      "object_position": null,
      "order": null,
      "overflow": null,
      "overflow_x": null,
      "overflow_y": null,
      "padding": null,
      "right": null,
      "top": null,
      "visibility": null,
      "width": null
     }
    },
    "2ebc19679ad74e54afe731628ddd9d40": {
     "model_module": "@jupyter-widgets/controls",
     "model_name": "HTMLModel",
     "state": {
      "_dom_classes": [],
      "_model_module": "@jupyter-widgets/controls",
      "_model_module_version": "1.5.0",
      "_model_name": "HTMLModel",
      "_view_count": null,
      "_view_module": "@jupyter-widgets/controls",
      "_view_module_version": "1.5.0",
      "_view_name": "HTMLView",
      "description": "",
      "description_tooltip": null,
      "layout": "IPY_MODEL_d6d059e3b9aa47cb91be6d215f854ac7",
      "placeholder": "​",
      "style": "IPY_MODEL_d3bb808406454dc8a085594c0e364dd7",
      "value": " 1229/1229 [1:19:51&lt;00:00,  3.90s/it]"
     }
    },
    "3240818297784669ac1ee07eae07075f": {
     "model_module": "@jupyter-widgets/base",
     "model_name": "LayoutModel",
     "state": {
      "_model_module": "@jupyter-widgets/base",
      "_model_module_version": "1.2.0",
      "_model_name": "LayoutModel",
      "_view_count": null,
      "_view_module": "@jupyter-widgets/base",
      "_view_module_version": "1.2.0",
      "_view_name": "LayoutView",
      "align_content": null,
      "align_items": null,
      "align_self": null,
      "border": null,
      "bottom": null,
      "display": null,
      "flex": null,
      "flex_flow": null,
      "grid_area": null,
      "grid_auto_columns": null,
      "grid_auto_flow": null,
      "grid_auto_rows": null,
      "grid_column": null,
      "grid_gap": null,
      "grid_row": null,
      "grid_template_areas": null,
      "grid_template_columns": null,
      "grid_template_rows": null,
      "height": null,
      "justify_content": null,
      "justify_items": null,
      "left": null,
      "margin": null,
      "max_height": null,
      "max_width": null,
      "min_height": null,
      "min_width": null,
      "object_fit": null,
      "object_position": null,
      "order": null,
      "overflow": null,
      "overflow_x": null,
      "overflow_y": null,
      "padding": null,
      "right": null,
      "top": null,
      "visibility": null,
      "width": null
     }
    },
    "325f51ea7adf45f780734f3421926615": {
     "model_module": "@jupyter-widgets/base",
     "model_name": "LayoutModel",
     "state": {
      "_model_module": "@jupyter-widgets/base",
      "_model_module_version": "1.2.0",
      "_model_name": "LayoutModel",
      "_view_count": null,
      "_view_module": "@jupyter-widgets/base",
      "_view_module_version": "1.2.0",
      "_view_name": "LayoutView",
      "align_content": null,
      "align_items": null,
      "align_self": null,
      "border": null,
      "bottom": null,
      "display": null,
      "flex": null,
      "flex_flow": null,
      "grid_area": null,
      "grid_auto_columns": null,
      "grid_auto_flow": null,
      "grid_auto_rows": null,
      "grid_column": null,
      "grid_gap": null,
      "grid_row": null,
      "grid_template_areas": null,
      "grid_template_columns": null,
      "grid_template_rows": null,
      "height": null,
      "justify_content": null,
      "justify_items": null,
      "left": null,
      "margin": null,
      "max_height": null,
      "max_width": null,
      "min_height": null,
      "min_width": null,
      "object_fit": null,
      "object_position": null,
      "order": null,
      "overflow": null,
      "overflow_x": null,
      "overflow_y": null,
      "padding": null,
      "right": null,
      "top": null,
      "visibility": null,
      "width": null
     }
    },
    "35e991b5d2e7415187b06a664805941e": {
     "model_module": "@jupyter-widgets/controls",
     "model_name": "ProgressStyleModel",
     "state": {
      "_model_module": "@jupyter-widgets/controls",
      "_model_module_version": "1.5.0",
      "_model_name": "ProgressStyleModel",
      "_view_count": null,
      "_view_module": "@jupyter-widgets/base",
      "_view_module_version": "1.2.0",
      "_view_name": "StyleView",
      "bar_color": null,
      "description_width": "initial"
     }
    },
    "37160c3a9fab4c9a981862c7e5943467": {
     "model_module": "@jupyter-widgets/controls",
     "model_name": "HBoxModel",
     "state": {
      "_dom_classes": [],
      "_model_module": "@jupyter-widgets/controls",
      "_model_module_version": "1.5.0",
      "_model_name": "HBoxModel",
      "_view_count": null,
      "_view_module": "@jupyter-widgets/controls",
      "_view_module_version": "1.5.0",
      "_view_name": "HBoxView",
      "box_style": "",
      "children": [
       "IPY_MODEL_86ddc77a033345df9dab4d6a334682d3",
       "IPY_MODEL_6409468fd1314321a39975c8d3c9cbfd"
      ],
      "layout": "IPY_MODEL_df13c00e62914b4aafca417bb062229c"
     }
    },
    "37eabdf3245a44ca94720a4c324c09cc": {
     "model_module": "@jupyter-widgets/controls",
     "model_name": "FloatProgressModel",
     "state": {
      "_dom_classes": [],
      "_model_module": "@jupyter-widgets/controls",
      "_model_module_version": "1.5.0",
      "_model_name": "FloatProgressModel",
      "_view_count": null,
      "_view_module": "@jupyter-widgets/controls",
      "_view_module_version": "1.5.0",
      "_view_name": "ProgressView",
      "bar_style": "success",
      "description": "Predicting: 100%",
      "description_tooltip": null,
      "layout": "IPY_MODEL_1cb4acc6b3a347869dbe30ff7a8b5bdd",
      "max": 6201,
      "min": 0,
      "orientation": "horizontal",
      "style": "IPY_MODEL_fbdf287b24b943ab893e9f84345db03f",
      "value": 6201
     }
    },
    "3b9eed89e88e4bd185ad459c5a64625c": {
     "model_module": "@jupyter-widgets/base",
     "model_name": "LayoutModel",
     "state": {
      "_model_module": "@jupyter-widgets/base",
      "_model_module_version": "1.2.0",
      "_model_name": "LayoutModel",
      "_view_count": null,
      "_view_module": "@jupyter-widgets/base",
      "_view_module_version": "1.2.0",
      "_view_name": "LayoutView",
      "align_content": null,
      "align_items": null,
      "align_self": null,
      "border": null,
      "bottom": null,
      "display": null,
      "flex": null,
      "flex_flow": null,
      "grid_area": null,
      "grid_auto_columns": null,
      "grid_auto_flow": null,
      "grid_auto_rows": null,
      "grid_column": null,
      "grid_gap": null,
      "grid_row": null,
      "grid_template_areas": null,
      "grid_template_columns": null,
      "grid_template_rows": null,
      "height": null,
      "justify_content": null,
      "justify_items": null,
      "left": null,
      "margin": null,
      "max_height": null,
      "max_width": null,
      "min_height": null,
      "min_width": null,
      "object_fit": null,
      "object_position": null,
      "order": null,
      "overflow": null,
      "overflow_x": null,
      "overflow_y": null,
      "padding": null,
      "right": null,
      "top": null,
      "visibility": null,
      "width": null
     }
    },
    "3ea09c58b87e449999951ff6b6fc9d03": {
     "model_module": "@jupyter-widgets/base",
     "model_name": "LayoutModel",
     "state": {
      "_model_module": "@jupyter-widgets/base",
      "_model_module_version": "1.2.0",
      "_model_name": "LayoutModel",
      "_view_count": null,
      "_view_module": "@jupyter-widgets/base",
      "_view_module_version": "1.2.0",
      "_view_name": "LayoutView",
      "align_content": null,
      "align_items": null,
      "align_self": null,
      "border": null,
      "bottom": null,
      "display": null,
      "flex": null,
      "flex_flow": null,
      "grid_area": null,
      "grid_auto_columns": null,
      "grid_auto_flow": null,
      "grid_auto_rows": null,
      "grid_column": null,
      "grid_gap": null,
      "grid_row": null,
      "grid_template_areas": null,
      "grid_template_columns": null,
      "grid_template_rows": null,
      "height": null,
      "justify_content": null,
      "justify_items": null,
      "left": null,
      "margin": null,
      "max_height": null,
      "max_width": null,
      "min_height": null,
      "min_width": null,
      "object_fit": null,
      "object_position": null,
      "order": null,
      "overflow": null,
      "overflow_x": null,
      "overflow_y": null,
      "padding": null,
      "right": null,
      "top": null,
      "visibility": null,
      "width": null
     }
    },
    "3ea2d0ad0f4543e09e839c23ee058954": {
     "model_module": "@jupyter-widgets/controls",
     "model_name": "HTMLModel",
     "state": {
      "_dom_classes": [],
      "_model_module": "@jupyter-widgets/controls",
      "_model_module_version": "1.5.0",
      "_model_name": "HTMLModel",
      "_view_count": null,
      "_view_module": "@jupyter-widgets/controls",
      "_view_module_version": "1.5.0",
      "_view_name": "HTMLView",
      "description": "",
      "description_tooltip": null,
      "layout": "IPY_MODEL_a6f24ce6a6c74a91a4dd615a852313d8",
      "placeholder": "​",
      "style": "IPY_MODEL_b94f914054b947d0bd57aac145ff8ed7",
      "value": " 1229/1229 [39:56&lt;00:00,  1.95s/it]"
     }
    },
    "41b44da75a874819b311793e2f0cfeb0": {
     "model_module": "@jupyter-widgets/controls",
     "model_name": "HBoxModel",
     "state": {
      "_dom_classes": [],
      "_model_module": "@jupyter-widgets/controls",
      "_model_module_version": "1.5.0",
      "_model_name": "HBoxModel",
      "_view_count": null,
      "_view_module": "@jupyter-widgets/controls",
      "_view_module_version": "1.5.0",
      "_view_name": "HBoxView",
      "box_style": "",
      "children": [
       "IPY_MODEL_d787367283c74bd8b08253d2e964db8d",
       "IPY_MODEL_69b02f15a2024f73a9020d72b4811b70"
      ],
      "layout": "IPY_MODEL_8ae7df70a54a4d3b9be0687114ee50da"
     }
    },
    "45eb5c3000de42909a0b78c0ff704f2b": {
     "model_module": "@jupyter-widgets/base",
     "model_name": "LayoutModel",
     "state": {
      "_model_module": "@jupyter-widgets/base",
      "_model_module_version": "1.2.0",
      "_model_name": "LayoutModel",
      "_view_count": null,
      "_view_module": "@jupyter-widgets/base",
      "_view_module_version": "1.2.0",
      "_view_name": "LayoutView",
      "align_content": null,
      "align_items": null,
      "align_self": null,
      "border": null,
      "bottom": null,
      "display": null,
      "flex": null,
      "flex_flow": null,
      "grid_area": null,
      "grid_auto_columns": null,
      "grid_auto_flow": null,
      "grid_auto_rows": null,
      "grid_column": null,
      "grid_gap": null,
      "grid_row": null,
      "grid_template_areas": null,
      "grid_template_columns": null,
      "grid_template_rows": null,
      "height": null,
      "justify_content": null,
      "justify_items": null,
      "left": null,
      "margin": null,
      "max_height": null,
      "max_width": null,
      "min_height": null,
      "min_width": null,
      "object_fit": null,
      "object_position": null,
      "order": null,
      "overflow": null,
      "overflow_x": null,
      "overflow_y": null,
      "padding": null,
      "right": null,
      "top": null,
      "visibility": null,
      "width": null
     }
    },
    "4afef77418f44f3e908267f87ef106e6": {
     "model_module": "@jupyter-widgets/controls",
     "model_name": "HBoxModel",
     "state": {
      "_dom_classes": [],
      "_model_module": "@jupyter-widgets/controls",
      "_model_module_version": "1.5.0",
      "_model_name": "HBoxModel",
      "_view_count": null,
      "_view_module": "@jupyter-widgets/controls",
      "_view_module_version": "1.5.0",
      "_view_name": "HBoxView",
      "box_style": "",
      "children": [
       "IPY_MODEL_fb85a235e1614f7b9f4d6a07f6a9ef5e",
       "IPY_MODEL_c351f4d5d3aa4046b50442dce72369bd"
      ],
      "layout": "IPY_MODEL_097ee1bdf8464447892bff9b595f912c"
     }
    },
    "4e41fbb5c2a243f58416fc6980737900": {
     "model_module": "@jupyter-widgets/controls",
     "model_name": "HBoxModel",
     "state": {
      "_dom_classes": [],
      "_model_module": "@jupyter-widgets/controls",
      "_model_module_version": "1.5.0",
      "_model_name": "HBoxModel",
      "_view_count": null,
      "_view_module": "@jupyter-widgets/controls",
      "_view_module_version": "1.5.0",
      "_view_name": "HBoxView",
      "box_style": "",
      "children": [
       "IPY_MODEL_23b26b9dc37c47729048c5dadeb397e4",
       "IPY_MODEL_4e99d677147249eab10cf3fc9ed1d218"
      ],
      "layout": "IPY_MODEL_3240818297784669ac1ee07eae07075f"
     }
    },
    "4e99d677147249eab10cf3fc9ed1d218": {
     "model_module": "@jupyter-widgets/controls",
     "model_name": "HTMLModel",
     "state": {
      "_dom_classes": [],
      "_model_module": "@jupyter-widgets/controls",
      "_model_module_version": "1.5.0",
      "_model_name": "HTMLModel",
      "_view_count": null,
      "_view_module": "@jupyter-widgets/controls",
      "_view_module_version": "1.5.0",
      "_view_name": "HTMLView",
      "description": "",
      "description_tooltip": null,
      "layout": "IPY_MODEL_c895a109495f40fc92dbc35857a866d1",
      "placeholder": "​",
      "style": "IPY_MODEL_d9568f5b0f9a401688bad8d1ddd5f214",
      "value": " 1229/1229 [02:57&lt;00:00,  6.91it/s]"
     }
    },
    "5066c02db20d4d1e83a8268605c6413c": {
     "model_module": "@jupyter-widgets/controls",
     "model_name": "ProgressStyleModel",
     "state": {
      "_model_module": "@jupyter-widgets/controls",
      "_model_module_version": "1.5.0",
      "_model_name": "ProgressStyleModel",
      "_view_count": null,
      "_view_module": "@jupyter-widgets/base",
      "_view_module_version": "1.2.0",
      "_view_name": "StyleView",
      "bar_color": null,
      "description_width": "initial"
     }
    },
    "549b939b53c1406884d79280b9c8ede9": {
     "model_module": "@jupyter-widgets/controls",
     "model_name": "DescriptionStyleModel",
     "state": {
      "_model_module": "@jupyter-widgets/controls",
      "_model_module_version": "1.5.0",
      "_model_name": "DescriptionStyleModel",
      "_view_count": null,
      "_view_module": "@jupyter-widgets/base",
      "_view_module_version": "1.2.0",
      "_view_name": "StyleView",
      "description_width": ""
     }
    },
    "5be79a15a0c44bc781c4d631445d33f3": {
     "model_module": "@jupyter-widgets/base",
     "model_name": "LayoutModel",
     "state": {
      "_model_module": "@jupyter-widgets/base",
      "_model_module_version": "1.2.0",
      "_model_name": "LayoutModel",
      "_view_count": null,
      "_view_module": "@jupyter-widgets/base",
      "_view_module_version": "1.2.0",
      "_view_name": "LayoutView",
      "align_content": null,
      "align_items": null,
      "align_self": null,
      "border": null,
      "bottom": null,
      "display": null,
      "flex": null,
      "flex_flow": null,
      "grid_area": null,
      "grid_auto_columns": null,
      "grid_auto_flow": null,
      "grid_auto_rows": null,
      "grid_column": null,
      "grid_gap": null,
      "grid_row": null,
      "grid_template_areas": null,
      "grid_template_columns": null,
      "grid_template_rows": null,
      "height": null,
      "justify_content": null,
      "justify_items": null,
      "left": null,
      "margin": null,
      "max_height": null,
      "max_width": null,
      "min_height": null,
      "min_width": null,
      "object_fit": null,
      "object_position": null,
      "order": null,
      "overflow": null,
      "overflow_x": null,
      "overflow_y": null,
      "padding": null,
      "right": null,
      "top": null,
      "visibility": null,
      "width": null
     }
    },
    "5db27b8b0e6844e88a42f9929752c29a": {
     "model_module": "@jupyter-widgets/controls",
     "model_name": "HTMLModel",
     "state": {
      "_dom_classes": [],
      "_model_module": "@jupyter-widgets/controls",
      "_model_module_version": "1.5.0",
      "_model_name": "HTMLModel",
      "_view_count": null,
      "_view_module": "@jupyter-widgets/controls",
      "_view_module_version": "1.5.0",
      "_view_name": "HTMLView",
      "description": "",
      "description_tooltip": null,
      "layout": "IPY_MODEL_d39ad36f0bca424380e7ee69fd66cb8f",
      "placeholder": "​",
      "style": "IPY_MODEL_549b939b53c1406884d79280b9c8ede9",
      "value": " 1229/1229 [02:57&lt;00:00,  6.91it/s]"
     }
    },
    "5e8b76c2d8ad4fbc84912af962a2eb70": {
     "model_module": "@jupyter-widgets/controls",
     "model_name": "ProgressStyleModel",
     "state": {
      "_model_module": "@jupyter-widgets/controls",
      "_model_module_version": "1.5.0",
      "_model_name": "ProgressStyleModel",
      "_view_count": null,
      "_view_module": "@jupyter-widgets/base",
      "_view_module_version": "1.2.0",
      "_view_name": "StyleView",
      "bar_color": null,
      "description_width": "initial"
     }
    },
    "6301d131c23c45fc8218cbfdb20f959c": {
     "model_module": "@jupyter-widgets/base",
     "model_name": "LayoutModel",
     "state": {
      "_model_module": "@jupyter-widgets/base",
      "_model_module_version": "1.2.0",
      "_model_name": "LayoutModel",
      "_view_count": null,
      "_view_module": "@jupyter-widgets/base",
      "_view_module_version": "1.2.0",
      "_view_name": "LayoutView",
      "align_content": null,
      "align_items": null,
      "align_self": null,
      "border": null,
      "bottom": null,
      "display": null,
      "flex": null,
      "flex_flow": null,
      "grid_area": null,
      "grid_auto_columns": null,
      "grid_auto_flow": null,
      "grid_auto_rows": null,
      "grid_column": null,
      "grid_gap": null,
      "grid_row": null,
      "grid_template_areas": null,
      "grid_template_columns": null,
      "grid_template_rows": null,
      "height": null,
      "justify_content": null,
      "justify_items": null,
      "left": null,
      "margin": null,
      "max_height": null,
      "max_width": null,
      "min_height": null,
      "min_width": null,
      "object_fit": null,
      "object_position": null,
      "order": null,
      "overflow": null,
      "overflow_x": null,
      "overflow_y": null,
      "padding": null,
      "right": null,
      "top": null,
      "visibility": null,
      "width": null
     }
    },
    "6409468fd1314321a39975c8d3c9cbfd": {
     "model_module": "@jupyter-widgets/controls",
     "model_name": "HTMLModel",
     "state": {
      "_dom_classes": [],
      "_model_module": "@jupyter-widgets/controls",
      "_model_module_version": "1.5.0",
      "_model_name": "HTMLModel",
      "_view_count": null,
      "_view_module": "@jupyter-widgets/controls",
      "_view_module_version": "1.5.0",
      "_view_name": "HTMLView",
      "description": "",
      "description_tooltip": null,
      "layout": "IPY_MODEL_afb86ccce25a44b78becb1de5f7646ae",
      "placeholder": "​",
      "style": "IPY_MODEL_198894d8a2ae42aa945fe08249b13667",
      "value": " 2458/2458 [1:56:57&lt;00:00,  2.85s/it, loss=1.43e+5]"
     }
    },
    "6808ed07acd64afdb9a091ea2b011a8b": {
     "model_module": "@jupyter-widgets/controls",
     "model_name": "DescriptionStyleModel",
     "state": {
      "_model_module": "@jupyter-widgets/controls",
      "_model_module_version": "1.5.0",
      "_model_name": "DescriptionStyleModel",
      "_view_count": null,
      "_view_module": "@jupyter-widgets/base",
      "_view_module_version": "1.2.0",
      "_view_name": "StyleView",
      "description_width": ""
     }
    },
    "68b41f3789cc4d3e8e199121fbdecc8f": {
     "model_module": "@jupyter-widgets/controls",
     "model_name": "HTMLModel",
     "state": {
      "_dom_classes": [],
      "_model_module": "@jupyter-widgets/controls",
      "_model_module_version": "1.5.0",
      "_model_name": "HTMLModel",
      "_view_count": null,
      "_view_module": "@jupyter-widgets/controls",
      "_view_module_version": "1.5.0",
      "_view_name": "HTMLView",
      "description": "",
      "description_tooltip": null,
      "layout": "IPY_MODEL_3b9eed89e88e4bd185ad459c5a64625c",
      "placeholder": "​",
      "style": "IPY_MODEL_cf56ba6437284c60b3aef2ec04cee3dd",
      "value": " 2458/2458 [36:31&lt;00:00,  1.12it/s, loss=1.54]"
     }
    },
    "69b02f15a2024f73a9020d72b4811b70": {
     "model_module": "@jupyter-widgets/controls",
     "model_name": "HTMLModel",
     "state": {
      "_dom_classes": [],
      "_model_module": "@jupyter-widgets/controls",
      "_model_module_version": "1.5.0",
      "_model_name": "HTMLModel",
      "_view_count": null,
      "_view_module": "@jupyter-widgets/controls",
      "_view_module_version": "1.5.0",
      "_view_name": "HTMLView",
      "description": "",
      "description_tooltip": null,
      "layout": "IPY_MODEL_28a083193bd24a6ea44abdc0d4cbb48e",
      "placeholder": "​",
      "style": "IPY_MODEL_fd86bd33005b43f4ac0e3848fe075504",
      "value": " 1229/1229 [39:32&lt;00:00,  1.93s/it]"
     }
    },
    "6b7a5a404b0845b78bdaae2d2569f435": {
     "model_module": "@jupyter-widgets/controls",
     "model_name": "ProgressStyleModel",
     "state": {
      "_model_module": "@jupyter-widgets/controls",
      "_model_module_version": "1.5.0",
      "_model_name": "ProgressStyleModel",
      "_view_count": null,
      "_view_module": "@jupyter-widgets/base",
      "_view_module_version": "1.2.0",
      "_view_name": "StyleView",
      "bar_color": null,
      "description_width": "initial"
     }
    },
    "6f01b2571fe84b5db17ebfe05f7ccb1c": {
     "model_module": "@jupyter-widgets/base",
     "model_name": "LayoutModel",
     "state": {
      "_model_module": "@jupyter-widgets/base",
      "_model_module_version": "1.2.0",
      "_model_name": "LayoutModel",
      "_view_count": null,
      "_view_module": "@jupyter-widgets/base",
      "_view_module_version": "1.2.0",
      "_view_name": "LayoutView",
      "align_content": null,
      "align_items": null,
      "align_self": null,
      "border": null,
      "bottom": null,
      "display": null,
      "flex": null,
      "flex_flow": null,
      "grid_area": null,
      "grid_auto_columns": null,
      "grid_auto_flow": null,
      "grid_auto_rows": null,
      "grid_column": null,
      "grid_gap": null,
      "grid_row": null,
      "grid_template_areas": null,
      "grid_template_columns": null,
      "grid_template_rows": null,
      "height": null,
      "justify_content": null,
      "justify_items": null,
      "left": null,
      "margin": null,
      "max_height": null,
      "max_width": null,
      "min_height": null,
      "min_width": null,
      "object_fit": null,
      "object_position": null,
      "order": null,
      "overflow": null,
      "overflow_x": null,
      "overflow_y": null,
      "padding": null,
      "right": null,
      "top": null,
      "visibility": null,
      "width": null
     }
    },
    "71ccd261cb504e5fb325961ae43f9302": {
     "model_module": "@jupyter-widgets/base",
     "model_name": "LayoutModel",
     "state": {
      "_model_module": "@jupyter-widgets/base",
      "_model_module_version": "1.2.0",
      "_model_name": "LayoutModel",
      "_view_count": null,
      "_view_module": "@jupyter-widgets/base",
      "_view_module_version": "1.2.0",
      "_view_name": "LayoutView",
      "align_content": null,
      "align_items": null,
      "align_self": null,
      "border": null,
      "bottom": null,
      "display": null,
      "flex": null,
      "flex_flow": null,
      "grid_area": null,
      "grid_auto_columns": null,
      "grid_auto_flow": null,
      "grid_auto_rows": null,
      "grid_column": null,
      "grid_gap": null,
      "grid_row": null,
      "grid_template_areas": null,
      "grid_template_columns": null,
      "grid_template_rows": null,
      "height": null,
      "justify_content": null,
      "justify_items": null,
      "left": null,
      "margin": null,
      "max_height": null,
      "max_width": null,
      "min_height": null,
      "min_width": null,
      "object_fit": null,
      "object_position": null,
      "order": null,
      "overflow": null,
      "overflow_x": null,
      "overflow_y": null,
      "padding": null,
      "right": null,
      "top": null,
      "visibility": null,
      "width": null
     }
    },
    "781ebf2708ad4c2f83a2cfd85bdca4f5": {
     "model_module": "@jupyter-widgets/controls",
     "model_name": "HBoxModel",
     "state": {
      "_dom_classes": [],
      "_model_module": "@jupyter-widgets/controls",
      "_model_module_version": "1.5.0",
      "_model_name": "HBoxModel",
      "_view_count": null,
      "_view_module": "@jupyter-widgets/controls",
      "_view_module_version": "1.5.0",
      "_view_name": "HBoxView",
      "box_style": "",
      "children": [
       "IPY_MODEL_b68d5f722b734bfb9f3341abb0b61fca",
       "IPY_MODEL_68b41f3789cc4d3e8e199121fbdecc8f"
      ],
      "layout": "IPY_MODEL_7c55014fd7234f19ae504a1d4a8db96f"
     }
    },
    "7b7aaa79b05a4d1ba6ef1a7f8c8102e8": {
     "model_module": "@jupyter-widgets/controls",
     "model_name": "ProgressStyleModel",
     "state": {
      "_model_module": "@jupyter-widgets/controls",
      "_model_module_version": "1.5.0",
      "_model_name": "ProgressStyleModel",
      "_view_count": null,
      "_view_module": "@jupyter-widgets/base",
      "_view_module_version": "1.2.0",
      "_view_name": "StyleView",
      "bar_color": null,
      "description_width": "initial"
     }
    },
    "7c55014fd7234f19ae504a1d4a8db96f": {
     "model_module": "@jupyter-widgets/base",
     "model_name": "LayoutModel",
     "state": {
      "_model_module": "@jupyter-widgets/base",
      "_model_module_version": "1.2.0",
      "_model_name": "LayoutModel",
      "_view_count": null,
      "_view_module": "@jupyter-widgets/base",
      "_view_module_version": "1.2.0",
      "_view_name": "LayoutView",
      "align_content": null,
      "align_items": null,
      "align_self": null,
      "border": null,
      "bottom": null,
      "display": null,
      "flex": null,
      "flex_flow": null,
      "grid_area": null,
      "grid_auto_columns": null,
      "grid_auto_flow": null,
      "grid_auto_rows": null,
      "grid_column": null,
      "grid_gap": null,
      "grid_row": null,
      "grid_template_areas": null,
      "grid_template_columns": null,
      "grid_template_rows": null,
      "height": null,
      "justify_content": null,
      "justify_items": null,
      "left": null,
      "margin": null,
      "max_height": null,
      "max_width": null,
      "min_height": null,
      "min_width": null,
      "object_fit": null,
      "object_position": null,
      "order": null,
      "overflow": null,
      "overflow_x": null,
      "overflow_y": null,
      "padding": null,
      "right": null,
      "top": null,
      "visibility": null,
      "width": null
     }
    },
    "7eec57dae52d4600bd0e7c301eca42ca": {
     "model_module": "@jupyter-widgets/controls",
     "model_name": "ProgressStyleModel",
     "state": {
      "_model_module": "@jupyter-widgets/controls",
      "_model_module_version": "1.5.0",
      "_model_name": "ProgressStyleModel",
      "_view_count": null,
      "_view_module": "@jupyter-widgets/base",
      "_view_module_version": "1.2.0",
      "_view_name": "StyleView",
      "bar_color": null,
      "description_width": "initial"
     }
    },
    "834a66f4d8ec49388fce4bf0893109fe": {
     "model_module": "@jupyter-widgets/base",
     "model_name": "LayoutModel",
     "state": {
      "_model_module": "@jupyter-widgets/base",
      "_model_module_version": "1.2.0",
      "_model_name": "LayoutModel",
      "_view_count": null,
      "_view_module": "@jupyter-widgets/base",
      "_view_module_version": "1.2.0",
      "_view_name": "LayoutView",
      "align_content": null,
      "align_items": null,
      "align_self": null,
      "border": null,
      "bottom": null,
      "display": null,
      "flex": null,
      "flex_flow": null,
      "grid_area": null,
      "grid_auto_columns": null,
      "grid_auto_flow": null,
      "grid_auto_rows": null,
      "grid_column": null,
      "grid_gap": null,
      "grid_row": null,
      "grid_template_areas": null,
      "grid_template_columns": null,
      "grid_template_rows": null,
      "height": null,
      "justify_content": null,
      "justify_items": null,
      "left": null,
      "margin": null,
      "max_height": null,
      "max_width": null,
      "min_height": null,
      "min_width": null,
      "object_fit": null,
      "object_position": null,
      "order": null,
      "overflow": null,
      "overflow_x": null,
      "overflow_y": null,
      "padding": null,
      "right": null,
      "top": null,
      "visibility": null,
      "width": null
     }
    },
    "85e6c585ceeb4fa4a8a7d54eac7a230e": {
     "model_module": "@jupyter-widgets/controls",
     "model_name": "HBoxModel",
     "state": {
      "_dom_classes": [],
      "_model_module": "@jupyter-widgets/controls",
      "_model_module_version": "1.5.0",
      "_model_name": "HBoxModel",
      "_view_count": null,
      "_view_module": "@jupyter-widgets/controls",
      "_view_module_version": "1.5.0",
      "_view_name": "HBoxView",
      "box_style": "",
      "children": [
       "IPY_MODEL_2b90a29de38647e2ae4d9577587c4b7d",
       "IPY_MODEL_2b9a8192e9644eb18b6e12fb812dc866"
      ],
      "layout": "IPY_MODEL_71ccd261cb504e5fb325961ae43f9302"
     }
    },
    "86ddc77a033345df9dab4d6a334682d3": {
     "model_module": "@jupyter-widgets/controls",
     "model_name": "FloatProgressModel",
     "state": {
      "_dom_classes": [],
      "_model_module": "@jupyter-widgets/controls",
      "_model_module_version": "1.5.0",
      "_model_name": "FloatProgressModel",
      "_view_count": null,
      "_view_module": "@jupyter-widgets/controls",
      "_view_module_version": "1.5.0",
      "_view_name": "ProgressView",
      "bar_style": "success",
      "description": "Training  : 100%",
      "description_tooltip": null,
      "layout": "IPY_MODEL_45eb5c3000de42909a0b78c0ff704f2b",
      "max": 2458,
      "min": 0,
      "orientation": "horizontal",
      "style": "IPY_MODEL_1c14ef35544b44b5a73903c11c58158c",
      "value": 2458
     }
    },
    "88d2d97f4ebd476d9e72840cc073372a": {
     "model_module": "@jupyter-widgets/controls",
     "model_name": "FloatProgressModel",
     "state": {
      "_dom_classes": [],
      "_model_module": "@jupyter-widgets/controls",
      "_model_module_version": "1.5.0",
      "_model_name": "FloatProgressModel",
      "_view_count": null,
      "_view_module": "@jupyter-widgets/controls",
      "_view_module_version": "1.5.0",
      "_view_name": "ProgressView",
      "bar_style": "success",
      "description": "Validating: 100%",
      "description_tooltip": null,
      "layout": "IPY_MODEL_834a66f4d8ec49388fce4bf0893109fe",
      "max": 1229,
      "min": 0,
      "orientation": "horizontal",
      "style": "IPY_MODEL_6b7a5a404b0845b78bdaae2d2569f435",
      "value": 1229
     }
    },
    "8ae7df70a54a4d3b9be0687114ee50da": {
     "model_module": "@jupyter-widgets/base",
     "model_name": "LayoutModel",
     "state": {
      "_model_module": "@jupyter-widgets/base",
      "_model_module_version": "1.2.0",
      "_model_name": "LayoutModel",
      "_view_count": null,
      "_view_module": "@jupyter-widgets/base",
      "_view_module_version": "1.2.0",
      "_view_name": "LayoutView",
      "align_content": null,
      "align_items": null,
      "align_self": null,
      "border": null,
      "bottom": null,
      "display": null,
      "flex": null,
      "flex_flow": null,
      "grid_area": null,
      "grid_auto_columns": null,
      "grid_auto_flow": null,
      "grid_auto_rows": null,
      "grid_column": null,
      "grid_gap": null,
      "grid_row": null,
      "grid_template_areas": null,
      "grid_template_columns": null,
      "grid_template_rows": null,
      "height": null,
      "justify_content": null,
      "justify_items": null,
      "left": null,
      "margin": null,
      "max_height": null,
      "max_width": null,
      "min_height": null,
      "min_width": null,
      "object_fit": null,
      "object_position": null,
      "order": null,
      "overflow": null,
      "overflow_x": null,
      "overflow_y": null,
      "padding": null,
      "right": null,
      "top": null,
      "visibility": null,
      "width": null
     }
    },
    "95c31a5f6d374625b1c17cf4b12f121f": {
     "model_module": "@jupyter-widgets/base",
     "model_name": "LayoutModel",
     "state": {
      "_model_module": "@jupyter-widgets/base",
      "_model_module_version": "1.2.0",
      "_model_name": "LayoutModel",
      "_view_count": null,
      "_view_module": "@jupyter-widgets/base",
      "_view_module_version": "1.2.0",
      "_view_name": "LayoutView",
      "align_content": null,
      "align_items": null,
      "align_self": null,
      "border": null,
      "bottom": null,
      "display": null,
      "flex": null,
      "flex_flow": null,
      "grid_area": null,
      "grid_auto_columns": null,
      "grid_auto_flow": null,
      "grid_auto_rows": null,
      "grid_column": null,
      "grid_gap": null,
      "grid_row": null,
      "grid_template_areas": null,
      "grid_template_columns": null,
      "grid_template_rows": null,
      "height": null,
      "justify_content": null,
      "justify_items": null,
      "left": null,
      "margin": null,
      "max_height": null,
      "max_width": null,
      "min_height": null,
      "min_width": null,
      "object_fit": null,
      "object_position": null,
      "order": null,
      "overflow": null,
      "overflow_x": null,
      "overflow_y": null,
      "padding": null,
      "right": null,
      "top": null,
      "visibility": null,
      "width": null
     }
    },
    "963e80d20bc14190b2273ce32a722d43": {
     "model_module": "@jupyter-widgets/controls",
     "model_name": "DescriptionStyleModel",
     "state": {
      "_model_module": "@jupyter-widgets/controls",
      "_model_module_version": "1.5.0",
      "_model_name": "DescriptionStyleModel",
      "_view_count": null,
      "_view_module": "@jupyter-widgets/base",
      "_view_module_version": "1.2.0",
      "_view_name": "StyleView",
      "description_width": ""
     }
    },
    "98771543648740bd9e6210fea5bb9dd3": {
     "model_module": "@jupyter-widgets/controls",
     "model_name": "HBoxModel",
     "state": {
      "_dom_classes": [],
      "_model_module": "@jupyter-widgets/controls",
      "_model_module_version": "1.5.0",
      "_model_name": "HBoxModel",
      "_view_count": null,
      "_view_module": "@jupyter-widgets/controls",
      "_view_module_version": "1.5.0",
      "_view_name": "HBoxView",
      "box_style": "",
      "children": [
       "IPY_MODEL_d0bdeb3732374fb2a70c86dc67157dd2",
       "IPY_MODEL_9fe358f255194a5895d566964cbcc69b"
      ],
      "layout": "IPY_MODEL_cef679f7a28944a4a30d89570cd38c4d"
     }
    },
    "98f9167fb55844e291b8a3099b6fb664": {
     "model_module": "@jupyter-widgets/base",
     "model_name": "LayoutModel",
     "state": {
      "_model_module": "@jupyter-widgets/base",
      "_model_module_version": "1.2.0",
      "_model_name": "LayoutModel",
      "_view_count": null,
      "_view_module": "@jupyter-widgets/base",
      "_view_module_version": "1.2.0",
      "_view_name": "LayoutView",
      "align_content": null,
      "align_items": null,
      "align_self": null,
      "border": null,
      "bottom": null,
      "display": null,
      "flex": null,
      "flex_flow": null,
      "grid_area": null,
      "grid_auto_columns": null,
      "grid_auto_flow": null,
      "grid_auto_rows": null,
      "grid_column": null,
      "grid_gap": null,
      "grid_row": null,
      "grid_template_areas": null,
      "grid_template_columns": null,
      "grid_template_rows": null,
      "height": null,
      "justify_content": null,
      "justify_items": null,
      "left": null,
      "margin": null,
      "max_height": null,
      "max_width": null,
      "min_height": null,
      "min_width": null,
      "object_fit": null,
      "object_position": null,
      "order": null,
      "overflow": null,
      "overflow_x": null,
      "overflow_y": null,
      "padding": null,
      "right": null,
      "top": null,
      "visibility": null,
      "width": null
     }
    },
    "990a0474d19547dda75615f2ce273fec": {
     "model_module": "@jupyter-widgets/controls",
     "model_name": "HBoxModel",
     "state": {
      "_dom_classes": [],
      "_model_module": "@jupyter-widgets/controls",
      "_model_module_version": "1.5.0",
      "_model_name": "HBoxModel",
      "_view_count": null,
      "_view_module": "@jupyter-widgets/controls",
      "_view_module_version": "1.5.0",
      "_view_name": "HBoxView",
      "box_style": "",
      "children": [
       "IPY_MODEL_18011349bce24a2795e05925da57abb1",
       "IPY_MODEL_14d1960a8b6e495ba6f9d8290ee9ca9d"
      ],
      "layout": "IPY_MODEL_b8ae2b1ff42f4fb6b069cf1f05487fdf"
     }
    },
    "99fa181a297b41f6b6a6158d664963c2": {
     "model_module": "@jupyter-widgets/base",
     "model_name": "LayoutModel",
     "state": {
      "_model_module": "@jupyter-widgets/base",
      "_model_module_version": "1.2.0",
      "_model_name": "LayoutModel",
      "_view_count": null,
      "_view_module": "@jupyter-widgets/base",
      "_view_module_version": "1.2.0",
      "_view_name": "LayoutView",
      "align_content": null,
      "align_items": null,
      "align_self": null,
      "border": null,
      "bottom": null,
      "display": null,
      "flex": null,
      "flex_flow": null,
      "grid_area": null,
      "grid_auto_columns": null,
      "grid_auto_flow": null,
      "grid_auto_rows": null,
      "grid_column": null,
      "grid_gap": null,
      "grid_row": null,
      "grid_template_areas": null,
      "grid_template_columns": null,
      "grid_template_rows": null,
      "height": null,
      "justify_content": null,
      "justify_items": null,
      "left": null,
      "margin": null,
      "max_height": null,
      "max_width": null,
      "min_height": null,
      "min_width": null,
      "object_fit": null,
      "object_position": null,
      "order": null,
      "overflow": null,
      "overflow_x": null,
      "overflow_y": null,
      "padding": null,
      "right": null,
      "top": null,
      "visibility": null,
      "width": null
     }
    },
    "9fe358f255194a5895d566964cbcc69b": {
     "model_module": "@jupyter-widgets/controls",
     "model_name": "HTMLModel",
     "state": {
      "_dom_classes": [],
      "_model_module": "@jupyter-widgets/controls",
      "_model_module_version": "1.5.0",
      "_model_name": "HTMLModel",
      "_view_count": null,
      "_view_module": "@jupyter-widgets/controls",
      "_view_module_version": "1.5.0",
      "_view_name": "HTMLView",
      "description": "",
      "description_tooltip": null,
      "layout": "IPY_MODEL_afa88858030448f48ec728ee7309de2b",
      "placeholder": "​",
      "style": "IPY_MODEL_baa20e45e9a64b6fae04049b68e8dbad",
      "value": " 2067/2067 [58:56&lt;00:00,  1.71s/it]"
     }
    },
    "a54a3af1c09149cf9f7c15c981d62347": {
     "model_module": "@jupyter-widgets/base",
     "model_name": "LayoutModel",
     "state": {
      "_model_module": "@jupyter-widgets/base",
      "_model_module_version": "1.2.0",
      "_model_name": "LayoutModel",
      "_view_count": null,
      "_view_module": "@jupyter-widgets/base",
      "_view_module_version": "1.2.0",
      "_view_name": "LayoutView",
      "align_content": null,
      "align_items": null,
      "align_self": null,
      "border": null,
      "bottom": null,
      "display": null,
      "flex": null,
      "flex_flow": null,
      "grid_area": null,
      "grid_auto_columns": null,
      "grid_auto_flow": null,
      "grid_auto_rows": null,
      "grid_column": null,
      "grid_gap": null,
      "grid_row": null,
      "grid_template_areas": null,
      "grid_template_columns": null,
      "grid_template_rows": null,
      "height": null,
      "justify_content": null,
      "justify_items": null,
      "left": null,
      "margin": null,
      "max_height": null,
      "max_width": null,
      "min_height": null,
      "min_width": null,
      "object_fit": null,
      "object_position": null,
      "order": null,
      "overflow": null,
      "overflow_x": null,
      "overflow_y": null,
      "padding": null,
      "right": null,
      "top": null,
      "visibility": null,
      "width": null
     }
    },
    "a5de600450594721aeaf7c2c86e9c8dd": {
     "model_module": "@jupyter-widgets/controls",
     "model_name": "HTMLModel",
     "state": {
      "_dom_classes": [],
      "_model_module": "@jupyter-widgets/controls",
      "_model_module_version": "1.5.0",
      "_model_name": "HTMLModel",
      "_view_count": null,
      "_view_module": "@jupyter-widgets/controls",
      "_view_module_version": "1.5.0",
      "_view_name": "HTMLView",
      "description": "",
      "description_tooltip": null,
      "layout": "IPY_MODEL_f6e28a18a2c14be49fd6047b01076677",
      "placeholder": "​",
      "style": "IPY_MODEL_db786176009541d1a74b20e74a3aa9ad",
      "value": " 6201/6201 [1:13:45&lt;00:00,  1.40it/s]"
     }
    },
    "a6f24ce6a6c74a91a4dd615a852313d8": {
     "model_module": "@jupyter-widgets/base",
     "model_name": "LayoutModel",
     "state": {
      "_model_module": "@jupyter-widgets/base",
      "_model_module_version": "1.2.0",
      "_model_name": "LayoutModel",
      "_view_count": null,
      "_view_module": "@jupyter-widgets/base",
      "_view_module_version": "1.2.0",
      "_view_name": "LayoutView",
      "align_content": null,
      "align_items": null,
      "align_self": null,
      "border": null,
      "bottom": null,
      "display": null,
      "flex": null,
      "flex_flow": null,
      "grid_area": null,
      "grid_auto_columns": null,
      "grid_auto_flow": null,
      "grid_auto_rows": null,
      "grid_column": null,
      "grid_gap": null,
      "grid_row": null,
      "grid_template_areas": null,
      "grid_template_columns": null,
      "grid_template_rows": null,
      "height": null,
      "justify_content": null,
      "justify_items": null,
      "left": null,
      "margin": null,
      "max_height": null,
      "max_width": null,
      "min_height": null,
      "min_width": null,
      "object_fit": null,
      "object_position": null,
      "order": null,
      "overflow": null,
      "overflow_x": null,
      "overflow_y": null,
      "padding": null,
      "right": null,
      "top": null,
      "visibility": null,
      "width": null
     }
    },
    "a70495d39f2a463892882fc4aa7fb7dd": {
     "model_module": "@jupyter-widgets/controls",
     "model_name": "HBoxModel",
     "state": {
      "_dom_classes": [],
      "_model_module": "@jupyter-widgets/controls",
      "_model_module_version": "1.5.0",
      "_model_name": "HBoxModel",
      "_view_count": null,
      "_view_module": "@jupyter-widgets/controls",
      "_view_module_version": "1.5.0",
      "_view_name": "HBoxView",
      "box_style": "",
      "children": [
       "IPY_MODEL_b305e662be374f3a9fe969aeecb9de66",
       "IPY_MODEL_ac97680c7fa5411994b2f1315a0b8120"
      ],
      "layout": "IPY_MODEL_98f9167fb55844e291b8a3099b6fb664"
     }
    },
    "a823818022c74291a541c6e8a6cac8aa": {
     "model_module": "@jupyter-widgets/base",
     "model_name": "LayoutModel",
     "state": {
      "_model_module": "@jupyter-widgets/base",
      "_model_module_version": "1.2.0",
      "_model_name": "LayoutModel",
      "_view_count": null,
      "_view_module": "@jupyter-widgets/base",
      "_view_module_version": "1.2.0",
      "_view_name": "LayoutView",
      "align_content": null,
      "align_items": null,
      "align_self": null,
      "border": null,
      "bottom": null,
      "display": null,
      "flex": null,
      "flex_flow": null,
      "grid_area": null,
      "grid_auto_columns": null,
      "grid_auto_flow": null,
      "grid_auto_rows": null,
      "grid_column": null,
      "grid_gap": null,
      "grid_row": null,
      "grid_template_areas": null,
      "grid_template_columns": null,
      "grid_template_rows": null,
      "height": null,
      "justify_content": null,
      "justify_items": null,
      "left": null,
      "margin": null,
      "max_height": null,
      "max_width": null,
      "min_height": null,
      "min_width": null,
      "object_fit": null,
      "object_position": null,
      "order": null,
      "overflow": null,
      "overflow_x": null,
      "overflow_y": null,
      "padding": null,
      "right": null,
      "top": null,
      "visibility": null,
      "width": null
     }
    },
    "ac97680c7fa5411994b2f1315a0b8120": {
     "model_module": "@jupyter-widgets/controls",
     "model_name": "HTMLModel",
     "state": {
      "_dom_classes": [],
      "_model_module": "@jupyter-widgets/controls",
      "_model_module_version": "1.5.0",
      "_model_name": "HTMLModel",
      "_view_count": null,
      "_view_module": "@jupyter-widgets/controls",
      "_view_module_version": "1.5.0",
      "_view_name": "HTMLView",
      "description": "",
      "description_tooltip": null,
      "layout": "IPY_MODEL_fbc793f160e44f10850c5626f28a0d64",
      "placeholder": "​",
      "style": "IPY_MODEL_6808ed07acd64afdb9a091ea2b011a8b",
      "value": " 2458/2458 [1:53:41&lt;00:00,  2.78s/it, loss=1.39e+5]"
     }
    },
    "afa88858030448f48ec728ee7309de2b": {
     "model_module": "@jupyter-widgets/base",
     "model_name": "LayoutModel",
     "state": {
      "_model_module": "@jupyter-widgets/base",
      "_model_module_version": "1.2.0",
      "_model_name": "LayoutModel",
      "_view_count": null,
      "_view_module": "@jupyter-widgets/base",
      "_view_module_version": "1.2.0",
      "_view_name": "LayoutView",
      "align_content": null,
      "align_items": null,
      "align_self": null,
      "border": null,
      "bottom": null,
      "display": null,
      "flex": null,
      "flex_flow": null,
      "grid_area": null,
      "grid_auto_columns": null,
      "grid_auto_flow": null,
      "grid_auto_rows": null,
      "grid_column": null,
      "grid_gap": null,
      "grid_row": null,
      "grid_template_areas": null,
      "grid_template_columns": null,
      "grid_template_rows": null,
      "height": null,
      "justify_content": null,
      "justify_items": null,
      "left": null,
      "margin": null,
      "max_height": null,
      "max_width": null,
      "min_height": null,
      "min_width": null,
      "object_fit": null,
      "object_position": null,
      "order": null,
      "overflow": null,
      "overflow_x": null,
      "overflow_y": null,
      "padding": null,
      "right": null,
      "top": null,
      "visibility": null,
      "width": null
     }
    },
    "afb86ccce25a44b78becb1de5f7646ae": {
     "model_module": "@jupyter-widgets/base",
     "model_name": "LayoutModel",
     "state": {
      "_model_module": "@jupyter-widgets/base",
      "_model_module_version": "1.2.0",
      "_model_name": "LayoutModel",
      "_view_count": null,
      "_view_module": "@jupyter-widgets/base",
      "_view_module_version": "1.2.0",
      "_view_name": "LayoutView",
      "align_content": null,
      "align_items": null,
      "align_self": null,
      "border": null,
      "bottom": null,
      "display": null,
      "flex": null,
      "flex_flow": null,
      "grid_area": null,
      "grid_auto_columns": null,
      "grid_auto_flow": null,
      "grid_auto_rows": null,
      "grid_column": null,
      "grid_gap": null,
      "grid_row": null,
      "grid_template_areas": null,
      "grid_template_columns": null,
      "grid_template_rows": null,
      "height": null,
      "justify_content": null,
      "justify_items": null,
      "left": null,
      "margin": null,
      "max_height": null,
      "max_width": null,
      "min_height": null,
      "min_width": null,
      "object_fit": null,
      "object_position": null,
      "order": null,
      "overflow": null,
      "overflow_x": null,
      "overflow_y": null,
      "padding": null,
      "right": null,
      "top": null,
      "visibility": null,
      "width": null
     }
    },
    "b305e662be374f3a9fe969aeecb9de66": {
     "model_module": "@jupyter-widgets/controls",
     "model_name": "FloatProgressModel",
     "state": {
      "_dom_classes": [],
      "_model_module": "@jupyter-widgets/controls",
      "_model_module_version": "1.5.0",
      "_model_name": "FloatProgressModel",
      "_view_count": null,
      "_view_module": "@jupyter-widgets/controls",
      "_view_module_version": "1.5.0",
      "_view_name": "ProgressView",
      "bar_style": "success",
      "description": "Training  : 100%",
      "description_tooltip": null,
      "layout": "IPY_MODEL_ef7075e9991c44bbb831adc6e85f28b4",
      "max": 2458,
      "min": 0,
      "orientation": "horizontal",
      "style": "IPY_MODEL_e601d5b455184dc5a66500a455f1fbcb",
      "value": 2458
     }
    },
    "b31379b93bbe47c2bf03ad92eb049c91": {
     "model_module": "@jupyter-widgets/controls",
     "model_name": "DescriptionStyleModel",
     "state": {
      "_model_module": "@jupyter-widgets/controls",
      "_model_module_version": "1.5.0",
      "_model_name": "DescriptionStyleModel",
      "_view_count": null,
      "_view_module": "@jupyter-widgets/base",
      "_view_module_version": "1.2.0",
      "_view_name": "StyleView",
      "description_width": ""
     }
    },
    "b4ba802dabc1424ba38a786eba79531c": {
     "model_module": "@jupyter-widgets/controls",
     "model_name": "ProgressStyleModel",
     "state": {
      "_model_module": "@jupyter-widgets/controls",
      "_model_module_version": "1.5.0",
      "_model_name": "ProgressStyleModel",
      "_view_count": null,
      "_view_module": "@jupyter-widgets/base",
      "_view_module_version": "1.2.0",
      "_view_name": "StyleView",
      "bar_color": null,
      "description_width": "initial"
     }
    },
    "b5ac5c2f4792463182c9026b2fa9c15b": {
     "model_module": "@jupyter-widgets/base",
     "model_name": "LayoutModel",
     "state": {
      "_model_module": "@jupyter-widgets/base",
      "_model_module_version": "1.2.0",
      "_model_name": "LayoutModel",
      "_view_count": null,
      "_view_module": "@jupyter-widgets/base",
      "_view_module_version": "1.2.0",
      "_view_name": "LayoutView",
      "align_content": null,
      "align_items": null,
      "align_self": null,
      "border": null,
      "bottom": null,
      "display": null,
      "flex": null,
      "flex_flow": null,
      "grid_area": null,
      "grid_auto_columns": null,
      "grid_auto_flow": null,
      "grid_auto_rows": null,
      "grid_column": null,
      "grid_gap": null,
      "grid_row": null,
      "grid_template_areas": null,
      "grid_template_columns": null,
      "grid_template_rows": null,
      "height": null,
      "justify_content": null,
      "justify_items": null,
      "left": null,
      "margin": null,
      "max_height": null,
      "max_width": null,
      "min_height": null,
      "min_width": null,
      "object_fit": null,
      "object_position": null,
      "order": null,
      "overflow": null,
      "overflow_x": null,
      "overflow_y": null,
      "padding": null,
      "right": null,
      "top": null,
      "visibility": null,
      "width": null
     }
    },
    "b68d5f722b734bfb9f3341abb0b61fca": {
     "model_module": "@jupyter-widgets/controls",
     "model_name": "FloatProgressModel",
     "state": {
      "_dom_classes": [],
      "_model_module": "@jupyter-widgets/controls",
      "_model_module_version": "1.5.0",
      "_model_name": "FloatProgressModel",
      "_view_count": null,
      "_view_module": "@jupyter-widgets/controls",
      "_view_module_version": "1.5.0",
      "_view_name": "ProgressView",
      "bar_style": "success",
      "description": "Training  : 100%",
      "description_tooltip": null,
      "layout": "IPY_MODEL_1dd0dc860bbe46efb3e8c8d1ea7510db",
      "max": 2458,
      "min": 0,
      "orientation": "horizontal",
      "style": "IPY_MODEL_5e8b76c2d8ad4fbc84912af962a2eb70",
      "value": 2458
     }
    },
    "b8817ed3c39c4faaa2954429462855d2": {
     "model_module": "@jupyter-widgets/controls",
     "model_name": "HBoxModel",
     "state": {
      "_dom_classes": [],
      "_model_module": "@jupyter-widgets/controls",
      "_model_module_version": "1.5.0",
      "_model_name": "HBoxModel",
      "_view_count": null,
      "_view_module": "@jupyter-widgets/controls",
      "_view_module_version": "1.5.0",
      "_view_name": "HBoxView",
      "box_style": "",
      "children": [
       "IPY_MODEL_012d0770049540b78a42b6cff2d453e9",
       "IPY_MODEL_2ebc19679ad74e54afe731628ddd9d40"
      ],
      "layout": "IPY_MODEL_d608d876b70e4554b85a40ba2ca4ad1e"
     }
    },
    "b8ae2b1ff42f4fb6b069cf1f05487fdf": {
     "model_module": "@jupyter-widgets/base",
     "model_name": "LayoutModel",
     "state": {
      "_model_module": "@jupyter-widgets/base",
      "_model_module_version": "1.2.0",
      "_model_name": "LayoutModel",
      "_view_count": null,
      "_view_module": "@jupyter-widgets/base",
      "_view_module_version": "1.2.0",
      "_view_name": "LayoutView",
      "align_content": null,
      "align_items": null,
      "align_self": null,
      "border": null,
      "bottom": null,
      "display": null,
      "flex": null,
      "flex_flow": null,
      "grid_area": null,
      "grid_auto_columns": null,
      "grid_auto_flow": null,
      "grid_auto_rows": null,
      "grid_column": null,
      "grid_gap": null,
      "grid_row": null,
      "grid_template_areas": null,
      "grid_template_columns": null,
      "grid_template_rows": null,
      "height": null,
      "justify_content": null,
      "justify_items": null,
      "left": null,
      "margin": null,
      "max_height": null,
      "max_width": null,
      "min_height": null,
      "min_width": null,
      "object_fit": null,
      "object_position": null,
      "order": null,
      "overflow": null,
      "overflow_x": null,
      "overflow_y": null,
      "padding": null,
      "right": null,
      "top": null,
      "visibility": null,
      "width": null
     }
    },
    "b94f914054b947d0bd57aac145ff8ed7": {
     "model_module": "@jupyter-widgets/controls",
     "model_name": "DescriptionStyleModel",
     "state": {
      "_model_module": "@jupyter-widgets/controls",
      "_model_module_version": "1.5.0",
      "_model_name": "DescriptionStyleModel",
      "_view_count": null,
      "_view_module": "@jupyter-widgets/base",
      "_view_module_version": "1.2.0",
      "_view_name": "StyleView",
      "description_width": ""
     }
    },
    "baa20e45e9a64b6fae04049b68e8dbad": {
     "model_module": "@jupyter-widgets/controls",
     "model_name": "DescriptionStyleModel",
     "state": {
      "_model_module": "@jupyter-widgets/controls",
      "_model_module_version": "1.5.0",
      "_model_name": "DescriptionStyleModel",
      "_view_count": null,
      "_view_module": "@jupyter-widgets/base",
      "_view_module_version": "1.2.0",
      "_view_name": "StyleView",
      "description_width": ""
     }
    },
    "c21e4c34976a430780f0685941995396": {
     "model_module": "@jupyter-widgets/controls",
     "model_name": "DescriptionStyleModel",
     "state": {
      "_model_module": "@jupyter-widgets/controls",
      "_model_module_version": "1.5.0",
      "_model_name": "DescriptionStyleModel",
      "_view_count": null,
      "_view_module": "@jupyter-widgets/base",
      "_view_module_version": "1.2.0",
      "_view_name": "StyleView",
      "description_width": ""
     }
    },
    "c2dd546090a24316af59e083a4329372": {
     "model_module": "@jupyter-widgets/base",
     "model_name": "LayoutModel",
     "state": {
      "_model_module": "@jupyter-widgets/base",
      "_model_module_version": "1.2.0",
      "_model_name": "LayoutModel",
      "_view_count": null,
      "_view_module": "@jupyter-widgets/base",
      "_view_module_version": "1.2.0",
      "_view_name": "LayoutView",
      "align_content": null,
      "align_items": null,
      "align_self": null,
      "border": null,
      "bottom": null,
      "display": null,
      "flex": null,
      "flex_flow": null,
      "grid_area": null,
      "grid_auto_columns": null,
      "grid_auto_flow": null,
      "grid_auto_rows": null,
      "grid_column": null,
      "grid_gap": null,
      "grid_row": null,
      "grid_template_areas": null,
      "grid_template_columns": null,
      "grid_template_rows": null,
      "height": null,
      "justify_content": null,
      "justify_items": null,
      "left": null,
      "margin": null,
      "max_height": null,
      "max_width": null,
      "min_height": null,
      "min_width": null,
      "object_fit": null,
      "object_position": null,
      "order": null,
      "overflow": null,
      "overflow_x": null,
      "overflow_y": null,
      "padding": null,
      "right": null,
      "top": null,
      "visibility": null,
      "width": null
     }
    },
    "c351f4d5d3aa4046b50442dce72369bd": {
     "model_module": "@jupyter-widgets/controls",
     "model_name": "HTMLModel",
     "state": {
      "_dom_classes": [],
      "_model_module": "@jupyter-widgets/controls",
      "_model_module_version": "1.5.0",
      "_model_name": "HTMLModel",
      "_view_count": null,
      "_view_module": "@jupyter-widgets/controls",
      "_view_module_version": "1.5.0",
      "_view_name": "HTMLView",
      "description": "",
      "description_tooltip": null,
      "layout": "IPY_MODEL_325f51ea7adf45f780734f3421926615",
      "placeholder": "​",
      "style": "IPY_MODEL_1058f10522174b578d1cdb6de7215180",
      "value": " 2458/2458 [1:16:01&lt;00:00,  1.86s/it, loss=1.61]"
     }
    },
    "c369b82da1a0469c90380c6ac211adea": {
     "model_module": "@jupyter-widgets/base",
     "model_name": "LayoutModel",
     "state": {
      "_model_module": "@jupyter-widgets/base",
      "_model_module_version": "1.2.0",
      "_model_name": "LayoutModel",
      "_view_count": null,
      "_view_module": "@jupyter-widgets/base",
      "_view_module_version": "1.2.0",
      "_view_name": "LayoutView",
      "align_content": null,
      "align_items": null,
      "align_self": null,
      "border": null,
      "bottom": null,
      "display": null,
      "flex": null,
      "flex_flow": null,
      "grid_area": null,
      "grid_auto_columns": null,
      "grid_auto_flow": null,
      "grid_auto_rows": null,
      "grid_column": null,
      "grid_gap": null,
      "grid_row": null,
      "grid_template_areas": null,
      "grid_template_columns": null,
      "grid_template_rows": null,
      "height": null,
      "justify_content": null,
      "justify_items": null,
      "left": null,
      "margin": null,
      "max_height": null,
      "max_width": null,
      "min_height": null,
      "min_width": null,
      "object_fit": null,
      "object_position": null,
      "order": null,
      "overflow": null,
      "overflow_x": null,
      "overflow_y": null,
      "padding": null,
      "right": null,
      "top": null,
      "visibility": null,
      "width": null
     }
    },
    "c895a109495f40fc92dbc35857a866d1": {
     "model_module": "@jupyter-widgets/base",
     "model_name": "LayoutModel",
     "state": {
      "_model_module": "@jupyter-widgets/base",
      "_model_module_version": "1.2.0",
      "_model_name": "LayoutModel",
      "_view_count": null,
      "_view_module": "@jupyter-widgets/base",
      "_view_module_version": "1.2.0",
      "_view_name": "LayoutView",
      "align_content": null,
      "align_items": null,
      "align_self": null,
      "border": null,
      "bottom": null,
      "display": null,
      "flex": null,
      "flex_flow": null,
      "grid_area": null,
      "grid_auto_columns": null,
      "grid_auto_flow": null,
      "grid_auto_rows": null,
      "grid_column": null,
      "grid_gap": null,
      "grid_row": null,
      "grid_template_areas": null,
      "grid_template_columns": null,
      "grid_template_rows": null,
      "height": null,
      "justify_content": null,
      "justify_items": null,
      "left": null,
      "margin": null,
      "max_height": null,
      "max_width": null,
      "min_height": null,
      "min_width": null,
      "object_fit": null,
      "object_position": null,
      "order": null,
      "overflow": null,
      "overflow_x": null,
      "overflow_y": null,
      "padding": null,
      "right": null,
      "top": null,
      "visibility": null,
      "width": null
     }
    },
    "cd80f351fd284021b1b9b79b9bab202e": {
     "model_module": "@jupyter-widgets/base",
     "model_name": "LayoutModel",
     "state": {
      "_model_module": "@jupyter-widgets/base",
      "_model_module_version": "1.2.0",
      "_model_name": "LayoutModel",
      "_view_count": null,
      "_view_module": "@jupyter-widgets/base",
      "_view_module_version": "1.2.0",
      "_view_name": "LayoutView",
      "align_content": null,
      "align_items": null,
      "align_self": null,
      "border": null,
      "bottom": null,
      "display": null,
      "flex": null,
      "flex_flow": null,
      "grid_area": null,
      "grid_auto_columns": null,
      "grid_auto_flow": null,
      "grid_auto_rows": null,
      "grid_column": null,
      "grid_gap": null,
      "grid_row": null,
      "grid_template_areas": null,
      "grid_template_columns": null,
      "grid_template_rows": null,
      "height": null,
      "justify_content": null,
      "justify_items": null,
      "left": null,
      "margin": null,
      "max_height": null,
      "max_width": null,
      "min_height": null,
      "min_width": null,
      "object_fit": null,
      "object_position": null,
      "order": null,
      "overflow": null,
      "overflow_x": null,
      "overflow_y": null,
      "padding": null,
      "right": null,
      "top": null,
      "visibility": null,
      "width": null
     }
    },
    "cef679f7a28944a4a30d89570cd38c4d": {
     "model_module": "@jupyter-widgets/base",
     "model_name": "LayoutModel",
     "state": {
      "_model_module": "@jupyter-widgets/base",
      "_model_module_version": "1.2.0",
      "_model_name": "LayoutModel",
      "_view_count": null,
      "_view_module": "@jupyter-widgets/base",
      "_view_module_version": "1.2.0",
      "_view_name": "LayoutView",
      "align_content": null,
      "align_items": null,
      "align_self": null,
      "border": null,
      "bottom": null,
      "display": null,
      "flex": null,
      "flex_flow": null,
      "grid_area": null,
      "grid_auto_columns": null,
      "grid_auto_flow": null,
      "grid_auto_rows": null,
      "grid_column": null,
      "grid_gap": null,
      "grid_row": null,
      "grid_template_areas": null,
      "grid_template_columns": null,
      "grid_template_rows": null,
      "height": null,
      "justify_content": null,
      "justify_items": null,
      "left": null,
      "margin": null,
      "max_height": null,
      "max_width": null,
      "min_height": null,
      "min_width": null,
      "object_fit": null,
      "object_position": null,
      "order": null,
      "overflow": null,
      "overflow_x": null,
      "overflow_y": null,
      "padding": null,
      "right": null,
      "top": null,
      "visibility": null,
      "width": null
     }
    },
    "cf56ba6437284c60b3aef2ec04cee3dd": {
     "model_module": "@jupyter-widgets/controls",
     "model_name": "DescriptionStyleModel",
     "state": {
      "_model_module": "@jupyter-widgets/controls",
      "_model_module_version": "1.5.0",
      "_model_name": "DescriptionStyleModel",
      "_view_count": null,
      "_view_module": "@jupyter-widgets/base",
      "_view_module_version": "1.2.0",
      "_view_name": "StyleView",
      "description_width": ""
     }
    },
    "d0bdeb3732374fb2a70c86dc67157dd2": {
     "model_module": "@jupyter-widgets/controls",
     "model_name": "FloatProgressModel",
     "state": {
      "_dom_classes": [],
      "_model_module": "@jupyter-widgets/controls",
      "_model_module_version": "1.5.0",
      "_model_name": "FloatProgressModel",
      "_view_count": null,
      "_view_module": "@jupyter-widgets/controls",
      "_view_module_version": "1.5.0",
      "_view_name": "ProgressView",
      "bar_style": "success",
      "description": "Predicting: 100%",
      "description_tooltip": null,
      "layout": "IPY_MODEL_cd80f351fd284021b1b9b79b9bab202e",
      "max": 2067,
      "min": 0,
      "orientation": "horizontal",
      "style": "IPY_MODEL_7eec57dae52d4600bd0e7c301eca42ca",
      "value": 2067
     }
    },
    "d18e8f1e046d4c7e89418674c0303932": {
     "model_module": "@jupyter-widgets/controls",
     "model_name": "FloatProgressModel",
     "state": {
      "_dom_classes": [],
      "_model_module": "@jupyter-widgets/controls",
      "_model_module_version": "1.5.0",
      "_model_name": "FloatProgressModel",
      "_view_count": null,
      "_view_module": "@jupyter-widgets/controls",
      "_view_module_version": "1.5.0",
      "_view_name": "ProgressView",
      "bar_style": "success",
      "description": "Training  : 100%",
      "description_tooltip": null,
      "layout": "IPY_MODEL_99fa181a297b41f6b6a6158d664963c2",
      "max": 2458,
      "min": 0,
      "orientation": "horizontal",
      "style": "IPY_MODEL_7b7aaa79b05a4d1ba6ef1a7f8c8102e8",
      "value": 2458
     }
    },
    "d35a46915e344a44b76d27f358f5c05f": {
     "model_module": "@jupyter-widgets/base",
     "model_name": "LayoutModel",
     "state": {
      "_model_module": "@jupyter-widgets/base",
      "_model_module_version": "1.2.0",
      "_model_name": "LayoutModel",
      "_view_count": null,
      "_view_module": "@jupyter-widgets/base",
      "_view_module_version": "1.2.0",
      "_view_name": "LayoutView",
      "align_content": null,
      "align_items": null,
      "align_self": null,
      "border": null,
      "bottom": null,
      "display": null,
      "flex": null,
      "flex_flow": null,
      "grid_area": null,
      "grid_auto_columns": null,
      "grid_auto_flow": null,
      "grid_auto_rows": null,
      "grid_column": null,
      "grid_gap": null,
      "grid_row": null,
      "grid_template_areas": null,
      "grid_template_columns": null,
      "grid_template_rows": null,
      "height": null,
      "justify_content": null,
      "justify_items": null,
      "left": null,
      "margin": null,
      "max_height": null,
      "max_width": null,
      "min_height": null,
      "min_width": null,
      "object_fit": null,
      "object_position": null,
      "order": null,
      "overflow": null,
      "overflow_x": null,
      "overflow_y": null,
      "padding": null,
      "right": null,
      "top": null,
      "visibility": null,
      "width": null
     }
    },
    "d39ad36f0bca424380e7ee69fd66cb8f": {
     "model_module": "@jupyter-widgets/base",
     "model_name": "LayoutModel",
     "state": {
      "_model_module": "@jupyter-widgets/base",
      "_model_module_version": "1.2.0",
      "_model_name": "LayoutModel",
      "_view_count": null,
      "_view_module": "@jupyter-widgets/base",
      "_view_module_version": "1.2.0",
      "_view_name": "LayoutView",
      "align_content": null,
      "align_items": null,
      "align_self": null,
      "border": null,
      "bottom": null,
      "display": null,
      "flex": null,
      "flex_flow": null,
      "grid_area": null,
      "grid_auto_columns": null,
      "grid_auto_flow": null,
      "grid_auto_rows": null,
      "grid_column": null,
      "grid_gap": null,
      "grid_row": null,
      "grid_template_areas": null,
      "grid_template_columns": null,
      "grid_template_rows": null,
      "height": null,
      "justify_content": null,
      "justify_items": null,
      "left": null,
      "margin": null,
      "max_height": null,
      "max_width": null,
      "min_height": null,
      "min_width": null,
      "object_fit": null,
      "object_position": null,
      "order": null,
      "overflow": null,
      "overflow_x": null,
      "overflow_y": null,
      "padding": null,
      "right": null,
      "top": null,
      "visibility": null,
      "width": null
     }
    },
    "d3bb808406454dc8a085594c0e364dd7": {
     "model_module": "@jupyter-widgets/controls",
     "model_name": "DescriptionStyleModel",
     "state": {
      "_model_module": "@jupyter-widgets/controls",
      "_model_module_version": "1.5.0",
      "_model_name": "DescriptionStyleModel",
      "_view_count": null,
      "_view_module": "@jupyter-widgets/base",
      "_view_module_version": "1.2.0",
      "_view_name": "StyleView",
      "description_width": ""
     }
    },
    "d608d876b70e4554b85a40ba2ca4ad1e": {
     "model_module": "@jupyter-widgets/base",
     "model_name": "LayoutModel",
     "state": {
      "_model_module": "@jupyter-widgets/base",
      "_model_module_version": "1.2.0",
      "_model_name": "LayoutModel",
      "_view_count": null,
      "_view_module": "@jupyter-widgets/base",
      "_view_module_version": "1.2.0",
      "_view_name": "LayoutView",
      "align_content": null,
      "align_items": null,
      "align_self": null,
      "border": null,
      "bottom": null,
      "display": null,
      "flex": null,
      "flex_flow": null,
      "grid_area": null,
      "grid_auto_columns": null,
      "grid_auto_flow": null,
      "grid_auto_rows": null,
      "grid_column": null,
      "grid_gap": null,
      "grid_row": null,
      "grid_template_areas": null,
      "grid_template_columns": null,
      "grid_template_rows": null,
      "height": null,
      "justify_content": null,
      "justify_items": null,
      "left": null,
      "margin": null,
      "max_height": null,
      "max_width": null,
      "min_height": null,
      "min_width": null,
      "object_fit": null,
      "object_position": null,
      "order": null,
      "overflow": null,
      "overflow_x": null,
      "overflow_y": null,
      "padding": null,
      "right": null,
      "top": null,
      "visibility": null,
      "width": null
     }
    },
    "d6d059e3b9aa47cb91be6d215f854ac7": {
     "model_module": "@jupyter-widgets/base",
     "model_name": "LayoutModel",
     "state": {
      "_model_module": "@jupyter-widgets/base",
      "_model_module_version": "1.2.0",
      "_model_name": "LayoutModel",
      "_view_count": null,
      "_view_module": "@jupyter-widgets/base",
      "_view_module_version": "1.2.0",
      "_view_name": "LayoutView",
      "align_content": null,
      "align_items": null,
      "align_self": null,
      "border": null,
      "bottom": null,
      "display": null,
      "flex": null,
      "flex_flow": null,
      "grid_area": null,
      "grid_auto_columns": null,
      "grid_auto_flow": null,
      "grid_auto_rows": null,
      "grid_column": null,
      "grid_gap": null,
      "grid_row": null,
      "grid_template_areas": null,
      "grid_template_columns": null,
      "grid_template_rows": null,
      "height": null,
      "justify_content": null,
      "justify_items": null,
      "left": null,
      "margin": null,
      "max_height": null,
      "max_width": null,
      "min_height": null,
      "min_width": null,
      "object_fit": null,
      "object_position": null,
      "order": null,
      "overflow": null,
      "overflow_x": null,
      "overflow_y": null,
      "padding": null,
      "right": null,
      "top": null,
      "visibility": null,
      "width": null
     }
    },
    "d77b5de50fa04bf38dff21719854f77c": {
     "model_module": "@jupyter-widgets/controls",
     "model_name": "ProgressStyleModel",
     "state": {
      "_model_module": "@jupyter-widgets/controls",
      "_model_module_version": "1.5.0",
      "_model_name": "ProgressStyleModel",
      "_view_count": null,
      "_view_module": "@jupyter-widgets/base",
      "_view_module_version": "1.2.0",
      "_view_name": "StyleView",
      "bar_color": null,
      "description_width": "initial"
     }
    },
    "d787367283c74bd8b08253d2e964db8d": {
     "model_module": "@jupyter-widgets/controls",
     "model_name": "FloatProgressModel",
     "state": {
      "_dom_classes": [],
      "_model_module": "@jupyter-widgets/controls",
      "_model_module_version": "1.5.0",
      "_model_name": "FloatProgressModel",
      "_view_count": null,
      "_view_module": "@jupyter-widgets/controls",
      "_view_module_version": "1.5.0",
      "_view_name": "ProgressView",
      "bar_style": "success",
      "description": "Validating: 100%",
      "description_tooltip": null,
      "layout": "IPY_MODEL_a54a3af1c09149cf9f7c15c981d62347",
      "max": 1229,
      "min": 0,
      "orientation": "horizontal",
      "style": "IPY_MODEL_d77b5de50fa04bf38dff21719854f77c",
      "value": 1229
     }
    },
    "d9568f5b0f9a401688bad8d1ddd5f214": {
     "model_module": "@jupyter-widgets/controls",
     "model_name": "DescriptionStyleModel",
     "state": {
      "_model_module": "@jupyter-widgets/controls",
      "_model_module_version": "1.5.0",
      "_model_name": "DescriptionStyleModel",
      "_view_count": null,
      "_view_module": "@jupyter-widgets/base",
      "_view_module_version": "1.2.0",
      "_view_name": "StyleView",
      "description_width": ""
     }
    },
    "db786176009541d1a74b20e74a3aa9ad": {
     "model_module": "@jupyter-widgets/controls",
     "model_name": "DescriptionStyleModel",
     "state": {
      "_model_module": "@jupyter-widgets/controls",
      "_model_module_version": "1.5.0",
      "_model_name": "DescriptionStyleModel",
      "_view_count": null,
      "_view_module": "@jupyter-widgets/base",
      "_view_module_version": "1.2.0",
      "_view_name": "StyleView",
      "description_width": ""
     }
    },
    "ddc05043b0534cacb3f317464b6a6638": {
     "model_module": "@jupyter-widgets/base",
     "model_name": "LayoutModel",
     "state": {
      "_model_module": "@jupyter-widgets/base",
      "_model_module_version": "1.2.0",
      "_model_name": "LayoutModel",
      "_view_count": null,
      "_view_module": "@jupyter-widgets/base",
      "_view_module_version": "1.2.0",
      "_view_name": "LayoutView",
      "align_content": null,
      "align_items": null,
      "align_self": null,
      "border": null,
      "bottom": null,
      "display": null,
      "flex": null,
      "flex_flow": null,
      "grid_area": null,
      "grid_auto_columns": null,
      "grid_auto_flow": null,
      "grid_auto_rows": null,
      "grid_column": null,
      "grid_gap": null,
      "grid_row": null,
      "grid_template_areas": null,
      "grid_template_columns": null,
      "grid_template_rows": null,
      "height": null,
      "justify_content": null,
      "justify_items": null,
      "left": null,
      "margin": null,
      "max_height": null,
      "max_width": null,
      "min_height": null,
      "min_width": null,
      "object_fit": null,
      "object_position": null,
      "order": null,
      "overflow": null,
      "overflow_x": null,
      "overflow_y": null,
      "padding": null,
      "right": null,
      "top": null,
      "visibility": null,
      "width": null
     }
    },
    "df13c00e62914b4aafca417bb062229c": {
     "model_module": "@jupyter-widgets/base",
     "model_name": "LayoutModel",
     "state": {
      "_model_module": "@jupyter-widgets/base",
      "_model_module_version": "1.2.0",
      "_model_name": "LayoutModel",
      "_view_count": null,
      "_view_module": "@jupyter-widgets/base",
      "_view_module_version": "1.2.0",
      "_view_name": "LayoutView",
      "align_content": null,
      "align_items": null,
      "align_self": null,
      "border": null,
      "bottom": null,
      "display": null,
      "flex": null,
      "flex_flow": null,
      "grid_area": null,
      "grid_auto_columns": null,
      "grid_auto_flow": null,
      "grid_auto_rows": null,
      "grid_column": null,
      "grid_gap": null,
      "grid_row": null,
      "grid_template_areas": null,
      "grid_template_columns": null,
      "grid_template_rows": null,
      "height": null,
      "justify_content": null,
      "justify_items": null,
      "left": null,
      "margin": null,
      "max_height": null,
      "max_width": null,
      "min_height": null,
      "min_width": null,
      "object_fit": null,
      "object_position": null,
      "order": null,
      "overflow": null,
      "overflow_x": null,
      "overflow_y": null,
      "padding": null,
      "right": null,
      "top": null,
      "visibility": null,
      "width": null
     }
    },
    "e601d5b455184dc5a66500a455f1fbcb": {
     "model_module": "@jupyter-widgets/controls",
     "model_name": "ProgressStyleModel",
     "state": {
      "_model_module": "@jupyter-widgets/controls",
      "_model_module_version": "1.5.0",
      "_model_name": "ProgressStyleModel",
      "_view_count": null,
      "_view_module": "@jupyter-widgets/base",
      "_view_module_version": "1.2.0",
      "_view_name": "StyleView",
      "bar_color": null,
      "description_width": "initial"
     }
    },
    "e79863c80b624cb1ba2e0df81ff8cf49": {
     "model_module": "@jupyter-widgets/controls",
     "model_name": "HBoxModel",
     "state": {
      "_dom_classes": [],
      "_model_module": "@jupyter-widgets/controls",
      "_model_module_version": "1.5.0",
      "_model_name": "HBoxModel",
      "_view_count": null,
      "_view_module": "@jupyter-widgets/controls",
      "_view_module_version": "1.5.0",
      "_view_name": "HBoxView",
      "box_style": "",
      "children": [
       "IPY_MODEL_37eabdf3245a44ca94720a4c324c09cc",
       "IPY_MODEL_a5de600450594721aeaf7c2c86e9c8dd"
      ],
      "layout": "IPY_MODEL_ddc05043b0534cacb3f317464b6a6638"
     }
    },
    "ed551a54ad04460fb7a0357b30e363ed": {
     "model_module": "@jupyter-widgets/controls",
     "model_name": "HTMLModel",
     "state": {
      "_dom_classes": [],
      "_model_module": "@jupyter-widgets/controls",
      "_model_module_version": "1.5.0",
      "_model_name": "HTMLModel",
      "_view_count": null,
      "_view_module": "@jupyter-widgets/controls",
      "_view_module_version": "1.5.0",
      "_view_name": "HTMLView",
      "description": "",
      "description_tooltip": null,
      "layout": "IPY_MODEL_5be79a15a0c44bc781c4d631445d33f3",
      "placeholder": "​",
      "style": "IPY_MODEL_963e80d20bc14190b2273ce32a722d43",
      "value": " 2458/2458 [36:29&lt;00:00,  1.12it/s, loss=1.45]"
     }
    },
    "ee3b4f9a605d4bcbb78d0f415a739e59": {
     "model_module": "@jupyter-widgets/controls",
     "model_name": "HBoxModel",
     "state": {
      "_dom_classes": [],
      "_model_module": "@jupyter-widgets/controls",
      "_model_module_version": "1.5.0",
      "_model_name": "HBoxModel",
      "_view_count": null,
      "_view_module": "@jupyter-widgets/controls",
      "_view_module_version": "1.5.0",
      "_view_name": "HBoxView",
      "box_style": "",
      "children": [
       "IPY_MODEL_88d2d97f4ebd476d9e72840cc073372a",
       "IPY_MODEL_5db27b8b0e6844e88a42f9929752c29a"
      ],
      "layout": "IPY_MODEL_b5ac5c2f4792463182c9026b2fa9c15b"
     }
    },
    "ef7075e9991c44bbb831adc6e85f28b4": {
     "model_module": "@jupyter-widgets/base",
     "model_name": "LayoutModel",
     "state": {
      "_model_module": "@jupyter-widgets/base",
      "_model_module_version": "1.2.0",
      "_model_name": "LayoutModel",
      "_view_count": null,
      "_view_module": "@jupyter-widgets/base",
      "_view_module_version": "1.2.0",
      "_view_name": "LayoutView",
      "align_content": null,
      "align_items": null,
      "align_self": null,
      "border": null,
      "bottom": null,
      "display": null,
      "flex": null,
      "flex_flow": null,
      "grid_area": null,
      "grid_auto_columns": null,
      "grid_auto_flow": null,
      "grid_auto_rows": null,
      "grid_column": null,
      "grid_gap": null,
      "grid_row": null,
      "grid_template_areas": null,
      "grid_template_columns": null,
      "grid_template_rows": null,
      "height": null,
      "justify_content": null,
      "justify_items": null,
      "left": null,
      "margin": null,
      "max_height": null,
      "max_width": null,
      "min_height": null,
      "min_width": null,
      "object_fit": null,
      "object_position": null,
      "order": null,
      "overflow": null,
      "overflow_x": null,
      "overflow_y": null,
      "padding": null,
      "right": null,
      "top": null,
      "visibility": null,
      "width": null
     }
    },
    "f6e28a18a2c14be49fd6047b01076677": {
     "model_module": "@jupyter-widgets/base",
     "model_name": "LayoutModel",
     "state": {
      "_model_module": "@jupyter-widgets/base",
      "_model_module_version": "1.2.0",
      "_model_name": "LayoutModel",
      "_view_count": null,
      "_view_module": "@jupyter-widgets/base",
      "_view_module_version": "1.2.0",
      "_view_name": "LayoutView",
      "align_content": null,
      "align_items": null,
      "align_self": null,
      "border": null,
      "bottom": null,
      "display": null,
      "flex": null,
      "flex_flow": null,
      "grid_area": null,
      "grid_auto_columns": null,
      "grid_auto_flow": null,
      "grid_auto_rows": null,
      "grid_column": null,
      "grid_gap": null,
      "grid_row": null,
      "grid_template_areas": null,
      "grid_template_columns": null,
      "grid_template_rows": null,
      "height": null,
      "justify_content": null,
      "justify_items": null,
      "left": null,
      "margin": null,
      "max_height": null,
      "max_width": null,
      "min_height": null,
      "min_width": null,
      "object_fit": null,
      "object_position": null,
      "order": null,
      "overflow": null,
      "overflow_x": null,
      "overflow_y": null,
      "padding": null,
      "right": null,
      "top": null,
      "visibility": null,
      "width": null
     }
    },
    "fb85a235e1614f7b9f4d6a07f6a9ef5e": {
     "model_module": "@jupyter-widgets/controls",
     "model_name": "FloatProgressModel",
     "state": {
      "_dom_classes": [],
      "_model_module": "@jupyter-widgets/controls",
      "_model_module_version": "1.5.0",
      "_model_name": "FloatProgressModel",
      "_view_count": null,
      "_view_module": "@jupyter-widgets/controls",
      "_view_module_version": "1.5.0",
      "_view_name": "ProgressView",
      "bar_style": "success",
      "description": "Training  : 100%",
      "description_tooltip": null,
      "layout": "IPY_MODEL_a823818022c74291a541c6e8a6cac8aa",
      "max": 2458,
      "min": 0,
      "orientation": "horizontal",
      "style": "IPY_MODEL_35e991b5d2e7415187b06a664805941e",
      "value": 2458
     }
    },
    "fbc793f160e44f10850c5626f28a0d64": {
     "model_module": "@jupyter-widgets/base",
     "model_name": "LayoutModel",
     "state": {
      "_model_module": "@jupyter-widgets/base",
      "_model_module_version": "1.2.0",
      "_model_name": "LayoutModel",
      "_view_count": null,
      "_view_module": "@jupyter-widgets/base",
      "_view_module_version": "1.2.0",
      "_view_name": "LayoutView",
      "align_content": null,
      "align_items": null,
      "align_self": null,
      "border": null,
      "bottom": null,
      "display": null,
      "flex": null,
      "flex_flow": null,
      "grid_area": null,
      "grid_auto_columns": null,
      "grid_auto_flow": null,
      "grid_auto_rows": null,
      "grid_column": null,
      "grid_gap": null,
      "grid_row": null,
      "grid_template_areas": null,
      "grid_template_columns": null,
      "grid_template_rows": null,
      "height": null,
      "justify_content": null,
      "justify_items": null,
      "left": null,
      "margin": null,
      "max_height": null,
      "max_width": null,
      "min_height": null,
      "min_width": null,
      "object_fit": null,
      "object_position": null,
      "order": null,
      "overflow": null,
      "overflow_x": null,
      "overflow_y": null,
      "padding": null,
      "right": null,
      "top": null,
      "visibility": null,
      "width": null
     }
    },
    "fbdf287b24b943ab893e9f84345db03f": {
     "model_module": "@jupyter-widgets/controls",
     "model_name": "ProgressStyleModel",
     "state": {
      "_model_module": "@jupyter-widgets/controls",
      "_model_module_version": "1.5.0",
      "_model_name": "ProgressStyleModel",
      "_view_count": null,
      "_view_module": "@jupyter-widgets/base",
      "_view_module_version": "1.2.0",
      "_view_name": "StyleView",
      "bar_color": null,
      "description_width": "initial"
     }
    },
    "fcf002c74a0b48e181799b0e4f77737b": {
     "model_module": "@jupyter-widgets/base",
     "model_name": "LayoutModel",
     "state": {
      "_model_module": "@jupyter-widgets/base",
      "_model_module_version": "1.2.0",
      "_model_name": "LayoutModel",
      "_view_count": null,
      "_view_module": "@jupyter-widgets/base",
      "_view_module_version": "1.2.0",
      "_view_name": "LayoutView",
      "align_content": null,
      "align_items": null,
      "align_self": null,
      "border": null,
      "bottom": null,
      "display": null,
      "flex": null,
      "flex_flow": null,
      "grid_area": null,
      "grid_auto_columns": null,
      "grid_auto_flow": null,
      "grid_auto_rows": null,
      "grid_column": null,
      "grid_gap": null,
      "grid_row": null,
      "grid_template_areas": null,
      "grid_template_columns": null,
      "grid_template_rows": null,
      "height": null,
      "justify_content": null,
      "justify_items": null,
      "left": null,
      "margin": null,
      "max_height": null,
      "max_width": null,
      "min_height": null,
      "min_width": null,
      "object_fit": null,
      "object_position": null,
      "order": null,
      "overflow": null,
      "overflow_x": null,
      "overflow_y": null,
      "padding": null,
      "right": null,
      "top": null,
      "visibility": null,
      "width": null
     }
    },
    "fd86bd33005b43f4ac0e3848fe075504": {
     "model_module": "@jupyter-widgets/controls",
     "model_name": "DescriptionStyleModel",
     "state": {
      "_model_module": "@jupyter-widgets/controls",
      "_model_module_version": "1.5.0",
      "_model_name": "DescriptionStyleModel",
      "_view_count": null,
      "_view_module": "@jupyter-widgets/base",
      "_view_module_version": "1.2.0",
      "_view_name": "StyleView",
      "description_width": ""
     }
    },
    "fdbb5ca0081b4a1c9d6d8ee1fa9d3d8f": {
     "model_module": "@jupyter-widgets/controls",
     "model_name": "ProgressStyleModel",
     "state": {
      "_model_module": "@jupyter-widgets/controls",
      "_model_module_version": "1.5.0",
      "_model_name": "ProgressStyleModel",
      "_view_count": null,
      "_view_module": "@jupyter-widgets/base",
      "_view_module_version": "1.2.0",
      "_view_name": "StyleView",
      "bar_color": null,
      "description_width": "initial"
     }
    }
   }
  }
 },
 "nbformat": 4,
 "nbformat_minor": 1
}
